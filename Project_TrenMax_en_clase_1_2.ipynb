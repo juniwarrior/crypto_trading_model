{
  "nbformat": 4,
  "nbformat_minor": 0,
  "metadata": {
    "language_info": {
      "codemirror_mode": {
        "name": "ipython",
        "version": 3
      },
      "file_extension": ".py",
      "mimetype": "text/x-python",
      "name": "python",
      "nbconvert_exporter": "python",
      "pygments_lexer": "ipython3",
      "version": "3.8.5-final"
    },
    "orig_nbformat": 2,
    "kernelspec": {
      "name": "python3",
      "display_name": "Python 3.8.5 64-bit ('base': conda)",
      "metadata": {
        "interpreter": {
          "hash": "15ad3da4b4c61c3c846aae53763500b4377007d3fd583d900e0660560d786cf6"
        }
      }
    },
    "colab": {
      "provenance": [],
      "collapsed_sections": [],
      "include_colab_link": true
    }
  },
  "cells": [
    {
      "cell_type": "markdown",
      "metadata": {
        "id": "view-in-github",
        "colab_type": "text"
      },
      "source": [
        "<a href=\"https://colab.research.google.com/github/juniwarrior/crypto_trading_model/blob/main/Project_TrenMax_en_clase_1_2.ipynb\" target=\"_parent\"><img src=\"https://colab.research.google.com/assets/colab-badge.svg\" alt=\"Open In Colab\"/></a>"
      ]
    },
    {
      "cell_type": "markdown",
      "metadata": {
        "id": "WnYTJkZfndyq"
      },
      "source": [
        "## MASTER DATA SCIENCE: NUCLIO\n",
        "## PROFESOR: JOSEPH GALLART\n",
        "## PROJECT TRENMAX 1/2"
      ]
    },
    {
      "cell_type": "code",
      "metadata": {
        "id": "eepPduAVp-fA"
      },
      "source": [],
      "execution_count": 3,
      "outputs": []
    },
    {
      "cell_type": "code",
      "metadata": {
        "id": "1iUgwBhFndyv"
      },
      "source": [
        "#importamos librería\n",
        "import pandas as pd \n",
        "import numpy as np\n",
        "import matplotlib.pyplot as plt\n",
        "import seaborn as sns\n",
        "\n",
        "from sklearn.preprocessing import LabelEncoder,MinMaxScaler\n",
        "\n",
        "import folium\n",
        "import plotly.express as px"
      ],
      "execution_count": 4,
      "outputs": []
    },
    {
      "cell_type": "code",
      "metadata": {
        "id": "qQDwg2ZOndy0"
      },
      "source": [
        "#LEEMOS EL FICHERO DE RENFE"
      ],
      "execution_count": 5,
      "outputs": []
    },
    {
      "cell_type": "code",
      "source": [
        "renfe = pd.read_csv(\"/content/drive/MyDrive/DS/DSC0922_data_engineering/Clases/Project TrenMax/dataset/renfe.csv\", sep = ';')"
      ],
      "metadata": {
        "id": "IpYxNAv5rpWo"
      },
      "execution_count": 6,
      "outputs": []
    },
    {
      "cell_type": "code",
      "source": [
        "renfe.head()"
      ],
      "metadata": {
        "id": "P2s6BuqTjtAm",
        "colab": {
          "base_uri": "https://localhost:8080/",
          "height": 206
        },
        "outputId": "28ee6d2c-797a-4e4f-e3a7-2a9ce7f5fc6d"
      },
      "execution_count": 7,
      "outputs": [
        {
          "output_type": "execute_result",
          "data": {
            "text/plain": [
              "        FECHA_CONSULTA         FECHA_INICIO            FECHA_FIN  \\\n",
              "0  2019-05-25 01:43:03  2019-06-28 20:36:00  2019-06-28 23:14:00   \n",
              "1  2019-06-22 13:05:11  2019-07-14 10:00:00  2019-07-14 13:10:00   \n",
              "2  2019-04-17 06:24:03  2019-05-23 13:40:00  2019-05-23 16:10:00   \n",
              "3  2019-05-10 21:21:59  2019-05-29 14:50:00  2019-05-29 22:30:00   \n",
              "4  2019-05-09 19:43:37  2019-06-26 13:25:00  2019-06-26 16:24:00   \n",
              "\n",
              "  CIUDAD_ORIGEN CIUDAD_DESTINO TIPO_TREN TIPO_TARIFA    CLASE  PRECIO  \n",
              "0       SEVILLA         MADRID     ALVIA    Flexible  Turista   67.20  \n",
              "1     BARCELONA         MADRID       AVE    Flexible  Turista  107.70  \n",
              "2       SEVILLA         MADRID       AVE       Promo  Turista   47.30  \n",
              "3      VALENCIA         MADRID  REGIONAL  Adulto ida  Turista   28.35  \n",
              "4        MADRID      BARCELONA   AVE-TGV       Promo  Turista   66.75  "
            ],
            "text/html": [
              "\n",
              "  <div id=\"df-261db1a6-79f2-43ca-a580-4a02ebacbae2\">\n",
              "    <div class=\"colab-df-container\">\n",
              "      <div>\n",
              "<style scoped>\n",
              "    .dataframe tbody tr th:only-of-type {\n",
              "        vertical-align: middle;\n",
              "    }\n",
              "\n",
              "    .dataframe tbody tr th {\n",
              "        vertical-align: top;\n",
              "    }\n",
              "\n",
              "    .dataframe thead th {\n",
              "        text-align: right;\n",
              "    }\n",
              "</style>\n",
              "<table border=\"1\" class=\"dataframe\">\n",
              "  <thead>\n",
              "    <tr style=\"text-align: right;\">\n",
              "      <th></th>\n",
              "      <th>FECHA_CONSULTA</th>\n",
              "      <th>FECHA_INICIO</th>\n",
              "      <th>FECHA_FIN</th>\n",
              "      <th>CIUDAD_ORIGEN</th>\n",
              "      <th>CIUDAD_DESTINO</th>\n",
              "      <th>TIPO_TREN</th>\n",
              "      <th>TIPO_TARIFA</th>\n",
              "      <th>CLASE</th>\n",
              "      <th>PRECIO</th>\n",
              "    </tr>\n",
              "  </thead>\n",
              "  <tbody>\n",
              "    <tr>\n",
              "      <th>0</th>\n",
              "      <td>2019-05-25 01:43:03</td>\n",
              "      <td>2019-06-28 20:36:00</td>\n",
              "      <td>2019-06-28 23:14:00</td>\n",
              "      <td>SEVILLA</td>\n",
              "      <td>MADRID</td>\n",
              "      <td>ALVIA</td>\n",
              "      <td>Flexible</td>\n",
              "      <td>Turista</td>\n",
              "      <td>67.20</td>\n",
              "    </tr>\n",
              "    <tr>\n",
              "      <th>1</th>\n",
              "      <td>2019-06-22 13:05:11</td>\n",
              "      <td>2019-07-14 10:00:00</td>\n",
              "      <td>2019-07-14 13:10:00</td>\n",
              "      <td>BARCELONA</td>\n",
              "      <td>MADRID</td>\n",
              "      <td>AVE</td>\n",
              "      <td>Flexible</td>\n",
              "      <td>Turista</td>\n",
              "      <td>107.70</td>\n",
              "    </tr>\n",
              "    <tr>\n",
              "      <th>2</th>\n",
              "      <td>2019-04-17 06:24:03</td>\n",
              "      <td>2019-05-23 13:40:00</td>\n",
              "      <td>2019-05-23 16:10:00</td>\n",
              "      <td>SEVILLA</td>\n",
              "      <td>MADRID</td>\n",
              "      <td>AVE</td>\n",
              "      <td>Promo</td>\n",
              "      <td>Turista</td>\n",
              "      <td>47.30</td>\n",
              "    </tr>\n",
              "    <tr>\n",
              "      <th>3</th>\n",
              "      <td>2019-05-10 21:21:59</td>\n",
              "      <td>2019-05-29 14:50:00</td>\n",
              "      <td>2019-05-29 22:30:00</td>\n",
              "      <td>VALENCIA</td>\n",
              "      <td>MADRID</td>\n",
              "      <td>REGIONAL</td>\n",
              "      <td>Adulto ida</td>\n",
              "      <td>Turista</td>\n",
              "      <td>28.35</td>\n",
              "    </tr>\n",
              "    <tr>\n",
              "      <th>4</th>\n",
              "      <td>2019-05-09 19:43:37</td>\n",
              "      <td>2019-06-26 13:25:00</td>\n",
              "      <td>2019-06-26 16:24:00</td>\n",
              "      <td>MADRID</td>\n",
              "      <td>BARCELONA</td>\n",
              "      <td>AVE-TGV</td>\n",
              "      <td>Promo</td>\n",
              "      <td>Turista</td>\n",
              "      <td>66.75</td>\n",
              "    </tr>\n",
              "  </tbody>\n",
              "</table>\n",
              "</div>\n",
              "      <button class=\"colab-df-convert\" onclick=\"convertToInteractive('df-261db1a6-79f2-43ca-a580-4a02ebacbae2')\"\n",
              "              title=\"Convert this dataframe to an interactive table.\"\n",
              "              style=\"display:none;\">\n",
              "        \n",
              "  <svg xmlns=\"http://www.w3.org/2000/svg\" height=\"24px\"viewBox=\"0 0 24 24\"\n",
              "       width=\"24px\">\n",
              "    <path d=\"M0 0h24v24H0V0z\" fill=\"none\"/>\n",
              "    <path d=\"M18.56 5.44l.94 2.06.94-2.06 2.06-.94-2.06-.94-.94-2.06-.94 2.06-2.06.94zm-11 1L8.5 8.5l.94-2.06 2.06-.94-2.06-.94L8.5 2.5l-.94 2.06-2.06.94zm10 10l.94 2.06.94-2.06 2.06-.94-2.06-.94-.94-2.06-.94 2.06-2.06.94z\"/><path d=\"M17.41 7.96l-1.37-1.37c-.4-.4-.92-.59-1.43-.59-.52 0-1.04.2-1.43.59L10.3 9.45l-7.72 7.72c-.78.78-.78 2.05 0 2.83L4 21.41c.39.39.9.59 1.41.59.51 0 1.02-.2 1.41-.59l7.78-7.78 2.81-2.81c.8-.78.8-2.07 0-2.86zM5.41 20L4 18.59l7.72-7.72 1.47 1.35L5.41 20z\"/>\n",
              "  </svg>\n",
              "      </button>\n",
              "      \n",
              "  <style>\n",
              "    .colab-df-container {\n",
              "      display:flex;\n",
              "      flex-wrap:wrap;\n",
              "      gap: 12px;\n",
              "    }\n",
              "\n",
              "    .colab-df-convert {\n",
              "      background-color: #E8F0FE;\n",
              "      border: none;\n",
              "      border-radius: 50%;\n",
              "      cursor: pointer;\n",
              "      display: none;\n",
              "      fill: #1967D2;\n",
              "      height: 32px;\n",
              "      padding: 0 0 0 0;\n",
              "      width: 32px;\n",
              "    }\n",
              "\n",
              "    .colab-df-convert:hover {\n",
              "      background-color: #E2EBFA;\n",
              "      box-shadow: 0px 1px 2px rgba(60, 64, 67, 0.3), 0px 1px 3px 1px rgba(60, 64, 67, 0.15);\n",
              "      fill: #174EA6;\n",
              "    }\n",
              "\n",
              "    [theme=dark] .colab-df-convert {\n",
              "      background-color: #3B4455;\n",
              "      fill: #D2E3FC;\n",
              "    }\n",
              "\n",
              "    [theme=dark] .colab-df-convert:hover {\n",
              "      background-color: #434B5C;\n",
              "      box-shadow: 0px 1px 3px 1px rgba(0, 0, 0, 0.15);\n",
              "      filter: drop-shadow(0px 1px 2px rgba(0, 0, 0, 0.3));\n",
              "      fill: #FFFFFF;\n",
              "    }\n",
              "  </style>\n",
              "\n",
              "      <script>\n",
              "        const buttonEl =\n",
              "          document.querySelector('#df-261db1a6-79f2-43ca-a580-4a02ebacbae2 button.colab-df-convert');\n",
              "        buttonEl.style.display =\n",
              "          google.colab.kernel.accessAllowed ? 'block' : 'none';\n",
              "\n",
              "        async function convertToInteractive(key) {\n",
              "          const element = document.querySelector('#df-261db1a6-79f2-43ca-a580-4a02ebacbae2');\n",
              "          const dataTable =\n",
              "            await google.colab.kernel.invokeFunction('convertToInteractive',\n",
              "                                                     [key], {});\n",
              "          if (!dataTable) return;\n",
              "\n",
              "          const docLinkHtml = 'Like what you see? Visit the ' +\n",
              "            '<a target=\"_blank\" href=https://colab.research.google.com/notebooks/data_table.ipynb>data table notebook</a>'\n",
              "            + ' to learn more about interactive tables.';\n",
              "          element.innerHTML = '';\n",
              "          dataTable['output_type'] = 'display_data';\n",
              "          await google.colab.output.renderOutput(dataTable, element);\n",
              "          const docLink = document.createElement('div');\n",
              "          docLink.innerHTML = docLinkHtml;\n",
              "          element.appendChild(docLink);\n",
              "        }\n",
              "      </script>\n",
              "    </div>\n",
              "  </div>\n",
              "  "
            ]
          },
          "metadata": {},
          "execution_count": 7
        }
      ]
    },
    {
      "cell_type": "code",
      "source": [
        "renfe.info()"
      ],
      "metadata": {
        "id": "1GdUprA_khLq",
        "colab": {
          "base_uri": "https://localhost:8080/"
        },
        "outputId": "163c8572-456c-4893-89ec-c4fcb3ea60b6"
      },
      "execution_count": 8,
      "outputs": [
        {
          "output_type": "stream",
          "name": "stdout",
          "text": [
            "<class 'pandas.core.frame.DataFrame'>\n",
            "RangeIndex: 383568 entries, 0 to 383567\n",
            "Data columns (total 9 columns):\n",
            " #   Column          Non-Null Count   Dtype  \n",
            "---  ------          --------------   -----  \n",
            " 0   FECHA_CONSULTA  383568 non-null  object \n",
            " 1   FECHA_INICIO    383568 non-null  object \n",
            " 2   FECHA_FIN       383568 non-null  object \n",
            " 3   CIUDAD_ORIGEN   383568 non-null  object \n",
            " 4   CIUDAD_DESTINO  383568 non-null  object \n",
            " 5   TIPO_TREN       383568 non-null  object \n",
            " 6   TIPO_TARIFA     382225 non-null  object \n",
            " 7   CLASE           382225 non-null  object \n",
            " 8   PRECIO          355038 non-null  float64\n",
            "dtypes: float64(1), object(8)\n",
            "memory usage: 26.3+ MB\n"
          ]
        }
      ]
    },
    {
      "cell_type": "code",
      "source": [
        "renfe.isnull().sum()"
      ],
      "metadata": {
        "id": "dYHrKhyuln3r",
        "colab": {
          "base_uri": "https://localhost:8080/"
        },
        "outputId": "fb3a06db-7bb6-4b87-9f72-074073ca4f7d"
      },
      "execution_count": 9,
      "outputs": [
        {
          "output_type": "execute_result",
          "data": {
            "text/plain": [
              "FECHA_CONSULTA        0\n",
              "FECHA_INICIO          0\n",
              "FECHA_FIN             0\n",
              "CIUDAD_ORIGEN         0\n",
              "CIUDAD_DESTINO        0\n",
              "TIPO_TREN             0\n",
              "TIPO_TARIFA        1343\n",
              "CLASE              1343\n",
              "PRECIO            28530\n",
              "dtype: int64"
            ]
          },
          "metadata": {},
          "execution_count": 9
        }
      ]
    },
    {
      "cell_type": "code",
      "source": [
        "\n",
        "renfe[\"FECHA_CONSULTA\"] = pd.to_datetime(renfe[\"FECHA_CONSULTA\"])\n",
        "renfe[\"FECHA_INICIO\"] = pd.to_datetime(renfe[\"FECHA_INICIO\"])\n",
        "renfe[\"FECHA_FIN\"] = pd.to_datetime(renfe[\"FECHA_FIN\"])"
      ],
      "metadata": {
        "id": "0al4mM3Cln6Y"
      },
      "execution_count": 10,
      "outputs": []
    },
    {
      "cell_type": "code",
      "source": [
        "renfe.info()"
      ],
      "metadata": {
        "id": "jC4mF4sPln96",
        "colab": {
          "base_uri": "https://localhost:8080/"
        },
        "outputId": "5bde7340-529f-4b21-f31e-19588de3be5d"
      },
      "execution_count": 11,
      "outputs": [
        {
          "output_type": "stream",
          "name": "stdout",
          "text": [
            "<class 'pandas.core.frame.DataFrame'>\n",
            "RangeIndex: 383568 entries, 0 to 383567\n",
            "Data columns (total 9 columns):\n",
            " #   Column          Non-Null Count   Dtype         \n",
            "---  ------          --------------   -----         \n",
            " 0   FECHA_CONSULTA  383568 non-null  datetime64[ns]\n",
            " 1   FECHA_INICIO    383568 non-null  datetime64[ns]\n",
            " 2   FECHA_FIN       383568 non-null  datetime64[ns]\n",
            " 3   CIUDAD_ORIGEN   383568 non-null  object        \n",
            " 4   CIUDAD_DESTINO  383568 non-null  object        \n",
            " 5   TIPO_TREN       383568 non-null  object        \n",
            " 6   TIPO_TARIFA     382225 non-null  object        \n",
            " 7   CLASE           382225 non-null  object        \n",
            " 8   PRECIO          355038 non-null  float64       \n",
            "dtypes: datetime64[ns](3), float64(1), object(5)\n",
            "memory usage: 26.3+ MB\n"
          ]
        }
      ]
    },
    {
      "cell_type": "code",
      "source": [],
      "metadata": {
        "id": "uabwqzYMln_l"
      },
      "execution_count": 11,
      "outputs": []
    },
    {
      "cell_type": "code",
      "metadata": {
        "id": "XybcKFzlndy0"
      },
      "source": [
        "#PREGUNTA 1"
      ],
      "execution_count": 12,
      "outputs": []
    },
    {
      "cell_type": "code",
      "metadata": {
        "id": "puy0XDZCndy1"
      },
      "source": [],
      "execution_count": 12,
      "outputs": []
    },
    {
      "cell_type": "code",
      "metadata": {
        "id": "DuoZsHqKndy1"
      },
      "source": [
        "#PREGUNTA 2"
      ],
      "execution_count": 13,
      "outputs": []
    },
    {
      "cell_type": "code",
      "metadata": {
        "id": "2wzpRzTxndy2"
      },
      "source": [],
      "execution_count": 13,
      "outputs": []
    },
    {
      "cell_type": "code",
      "metadata": {
        "id": "FpyoQJpdndy2"
      },
      "source": [
        "#PREGUNTA 3"
      ],
      "execution_count": 14,
      "outputs": []
    },
    {
      "cell_type": "code",
      "source": [
        "renfe[renfe.duplicated()].count()"
      ],
      "metadata": {
        "id": "SbniXQDhrckn",
        "colab": {
          "base_uri": "https://localhost:8080/"
        },
        "outputId": "9b4ff0ee-f854-4cca-b929-ae22f4aed279"
      },
      "execution_count": 15,
      "outputs": [
        {
          "output_type": "execute_result",
          "data": {
            "text/plain": [
              "FECHA_CONSULTA    33\n",
              "FECHA_INICIO      33\n",
              "FECHA_FIN         33\n",
              "CIUDAD_ORIGEN     33\n",
              "CIUDAD_DESTINO    33\n",
              "TIPO_TREN         33\n",
              "TIPO_TARIFA       28\n",
              "CLASE             28\n",
              "PRECIO            18\n",
              "dtype: int64"
            ]
          },
          "metadata": {},
          "execution_count": 15
        }
      ]
    },
    {
      "cell_type": "code",
      "source": [
        "renfe.drop_duplicates(inplace=True)"
      ],
      "metadata": {
        "id": "S3ki_LL4qUFc"
      },
      "execution_count": 16,
      "outputs": []
    },
    {
      "cell_type": "code",
      "source": [
        "renfe[renfe.duplicated()].count()"
      ],
      "metadata": {
        "id": "lrsIZfg4qiUT",
        "colab": {
          "base_uri": "https://localhost:8080/"
        },
        "outputId": "46451923-4c51-419e-d7ca-a0f84507a07d"
      },
      "execution_count": 17,
      "outputs": [
        {
          "output_type": "execute_result",
          "data": {
            "text/plain": [
              "FECHA_CONSULTA    0\n",
              "FECHA_INICIO      0\n",
              "FECHA_FIN         0\n",
              "CIUDAD_ORIGEN     0\n",
              "CIUDAD_DESTINO    0\n",
              "TIPO_TREN         0\n",
              "TIPO_TARIFA       0\n",
              "CLASE             0\n",
              "PRECIO            0\n",
              "dtype: int64"
            ]
          },
          "metadata": {},
          "execution_count": 17
        }
      ]
    },
    {
      "cell_type": "code",
      "source": [
        "#PREGUNTA 4"
      ],
      "metadata": {
        "id": "ogfc6X1pkIBV"
      },
      "execution_count": 18,
      "outputs": []
    },
    {
      "cell_type": "code",
      "source": [
        "renfe2 = renfe.copy()"
      ],
      "metadata": {
        "id": "Wl8z1RR-kH0K"
      },
      "execution_count": 19,
      "outputs": []
    },
    {
      "cell_type": "code",
      "source": [],
      "metadata": {
        "id": "6M7vRI_9kHoI"
      },
      "execution_count": 19,
      "outputs": []
    },
    {
      "cell_type": "code",
      "source": [
        "renfe2[\"Tiempo_Viaje\"] = (renfe2[\"FECHA_FIN\"]-renfe2[\"FECHA_INICIO\"]) / np.timedelta64(1,'m')\n",
        "renfe2.head()\n",
        "\n"
      ],
      "metadata": {
        "id": "YOsJXQjCkHUB",
        "colab": {
          "base_uri": "https://localhost:8080/",
          "height": 206
        },
        "outputId": "5539bb34-738a-4071-c559-dabbcf123d00"
      },
      "execution_count": 20,
      "outputs": [
        {
          "output_type": "execute_result",
          "data": {
            "text/plain": [
              "       FECHA_CONSULTA        FECHA_INICIO           FECHA_FIN CIUDAD_ORIGEN  \\\n",
              "0 2019-05-25 01:43:03 2019-06-28 20:36:00 2019-06-28 23:14:00       SEVILLA   \n",
              "1 2019-06-22 13:05:11 2019-07-14 10:00:00 2019-07-14 13:10:00     BARCELONA   \n",
              "2 2019-04-17 06:24:03 2019-05-23 13:40:00 2019-05-23 16:10:00       SEVILLA   \n",
              "3 2019-05-10 21:21:59 2019-05-29 14:50:00 2019-05-29 22:30:00      VALENCIA   \n",
              "4 2019-05-09 19:43:37 2019-06-26 13:25:00 2019-06-26 16:24:00        MADRID   \n",
              "\n",
              "  CIUDAD_DESTINO TIPO_TREN TIPO_TARIFA    CLASE  PRECIO  Tiempo_Viaje  \n",
              "0         MADRID     ALVIA    Flexible  Turista   67.20         158.0  \n",
              "1         MADRID       AVE    Flexible  Turista  107.70         190.0  \n",
              "2         MADRID       AVE       Promo  Turista   47.30         150.0  \n",
              "3         MADRID  REGIONAL  Adulto ida  Turista   28.35         460.0  \n",
              "4      BARCELONA   AVE-TGV       Promo  Turista   66.75         179.0  "
            ],
            "text/html": [
              "\n",
              "  <div id=\"df-4a6d56bc-c643-45e8-8b3c-daa4d6f220d5\">\n",
              "    <div class=\"colab-df-container\">\n",
              "      <div>\n",
              "<style scoped>\n",
              "    .dataframe tbody tr th:only-of-type {\n",
              "        vertical-align: middle;\n",
              "    }\n",
              "\n",
              "    .dataframe tbody tr th {\n",
              "        vertical-align: top;\n",
              "    }\n",
              "\n",
              "    .dataframe thead th {\n",
              "        text-align: right;\n",
              "    }\n",
              "</style>\n",
              "<table border=\"1\" class=\"dataframe\">\n",
              "  <thead>\n",
              "    <tr style=\"text-align: right;\">\n",
              "      <th></th>\n",
              "      <th>FECHA_CONSULTA</th>\n",
              "      <th>FECHA_INICIO</th>\n",
              "      <th>FECHA_FIN</th>\n",
              "      <th>CIUDAD_ORIGEN</th>\n",
              "      <th>CIUDAD_DESTINO</th>\n",
              "      <th>TIPO_TREN</th>\n",
              "      <th>TIPO_TARIFA</th>\n",
              "      <th>CLASE</th>\n",
              "      <th>PRECIO</th>\n",
              "      <th>Tiempo_Viaje</th>\n",
              "    </tr>\n",
              "  </thead>\n",
              "  <tbody>\n",
              "    <tr>\n",
              "      <th>0</th>\n",
              "      <td>2019-05-25 01:43:03</td>\n",
              "      <td>2019-06-28 20:36:00</td>\n",
              "      <td>2019-06-28 23:14:00</td>\n",
              "      <td>SEVILLA</td>\n",
              "      <td>MADRID</td>\n",
              "      <td>ALVIA</td>\n",
              "      <td>Flexible</td>\n",
              "      <td>Turista</td>\n",
              "      <td>67.20</td>\n",
              "      <td>158.0</td>\n",
              "    </tr>\n",
              "    <tr>\n",
              "      <th>1</th>\n",
              "      <td>2019-06-22 13:05:11</td>\n",
              "      <td>2019-07-14 10:00:00</td>\n",
              "      <td>2019-07-14 13:10:00</td>\n",
              "      <td>BARCELONA</td>\n",
              "      <td>MADRID</td>\n",
              "      <td>AVE</td>\n",
              "      <td>Flexible</td>\n",
              "      <td>Turista</td>\n",
              "      <td>107.70</td>\n",
              "      <td>190.0</td>\n",
              "    </tr>\n",
              "    <tr>\n",
              "      <th>2</th>\n",
              "      <td>2019-04-17 06:24:03</td>\n",
              "      <td>2019-05-23 13:40:00</td>\n",
              "      <td>2019-05-23 16:10:00</td>\n",
              "      <td>SEVILLA</td>\n",
              "      <td>MADRID</td>\n",
              "      <td>AVE</td>\n",
              "      <td>Promo</td>\n",
              "      <td>Turista</td>\n",
              "      <td>47.30</td>\n",
              "      <td>150.0</td>\n",
              "    </tr>\n",
              "    <tr>\n",
              "      <th>3</th>\n",
              "      <td>2019-05-10 21:21:59</td>\n",
              "      <td>2019-05-29 14:50:00</td>\n",
              "      <td>2019-05-29 22:30:00</td>\n",
              "      <td>VALENCIA</td>\n",
              "      <td>MADRID</td>\n",
              "      <td>REGIONAL</td>\n",
              "      <td>Adulto ida</td>\n",
              "      <td>Turista</td>\n",
              "      <td>28.35</td>\n",
              "      <td>460.0</td>\n",
              "    </tr>\n",
              "    <tr>\n",
              "      <th>4</th>\n",
              "      <td>2019-05-09 19:43:37</td>\n",
              "      <td>2019-06-26 13:25:00</td>\n",
              "      <td>2019-06-26 16:24:00</td>\n",
              "      <td>MADRID</td>\n",
              "      <td>BARCELONA</td>\n",
              "      <td>AVE-TGV</td>\n",
              "      <td>Promo</td>\n",
              "      <td>Turista</td>\n",
              "      <td>66.75</td>\n",
              "      <td>179.0</td>\n",
              "    </tr>\n",
              "  </tbody>\n",
              "</table>\n",
              "</div>\n",
              "      <button class=\"colab-df-convert\" onclick=\"convertToInteractive('df-4a6d56bc-c643-45e8-8b3c-daa4d6f220d5')\"\n",
              "              title=\"Convert this dataframe to an interactive table.\"\n",
              "              style=\"display:none;\">\n",
              "        \n",
              "  <svg xmlns=\"http://www.w3.org/2000/svg\" height=\"24px\"viewBox=\"0 0 24 24\"\n",
              "       width=\"24px\">\n",
              "    <path d=\"M0 0h24v24H0V0z\" fill=\"none\"/>\n",
              "    <path d=\"M18.56 5.44l.94 2.06.94-2.06 2.06-.94-2.06-.94-.94-2.06-.94 2.06-2.06.94zm-11 1L8.5 8.5l.94-2.06 2.06-.94-2.06-.94L8.5 2.5l-.94 2.06-2.06.94zm10 10l.94 2.06.94-2.06 2.06-.94-2.06-.94-.94-2.06-.94 2.06-2.06.94z\"/><path d=\"M17.41 7.96l-1.37-1.37c-.4-.4-.92-.59-1.43-.59-.52 0-1.04.2-1.43.59L10.3 9.45l-7.72 7.72c-.78.78-.78 2.05 0 2.83L4 21.41c.39.39.9.59 1.41.59.51 0 1.02-.2 1.41-.59l7.78-7.78 2.81-2.81c.8-.78.8-2.07 0-2.86zM5.41 20L4 18.59l7.72-7.72 1.47 1.35L5.41 20z\"/>\n",
              "  </svg>\n",
              "      </button>\n",
              "      \n",
              "  <style>\n",
              "    .colab-df-container {\n",
              "      display:flex;\n",
              "      flex-wrap:wrap;\n",
              "      gap: 12px;\n",
              "    }\n",
              "\n",
              "    .colab-df-convert {\n",
              "      background-color: #E8F0FE;\n",
              "      border: none;\n",
              "      border-radius: 50%;\n",
              "      cursor: pointer;\n",
              "      display: none;\n",
              "      fill: #1967D2;\n",
              "      height: 32px;\n",
              "      padding: 0 0 0 0;\n",
              "      width: 32px;\n",
              "    }\n",
              "\n",
              "    .colab-df-convert:hover {\n",
              "      background-color: #E2EBFA;\n",
              "      box-shadow: 0px 1px 2px rgba(60, 64, 67, 0.3), 0px 1px 3px 1px rgba(60, 64, 67, 0.15);\n",
              "      fill: #174EA6;\n",
              "    }\n",
              "\n",
              "    [theme=dark] .colab-df-convert {\n",
              "      background-color: #3B4455;\n",
              "      fill: #D2E3FC;\n",
              "    }\n",
              "\n",
              "    [theme=dark] .colab-df-convert:hover {\n",
              "      background-color: #434B5C;\n",
              "      box-shadow: 0px 1px 3px 1px rgba(0, 0, 0, 0.15);\n",
              "      filter: drop-shadow(0px 1px 2px rgba(0, 0, 0, 0.3));\n",
              "      fill: #FFFFFF;\n",
              "    }\n",
              "  </style>\n",
              "\n",
              "      <script>\n",
              "        const buttonEl =\n",
              "          document.querySelector('#df-4a6d56bc-c643-45e8-8b3c-daa4d6f220d5 button.colab-df-convert');\n",
              "        buttonEl.style.display =\n",
              "          google.colab.kernel.accessAllowed ? 'block' : 'none';\n",
              "\n",
              "        async function convertToInteractive(key) {\n",
              "          const element = document.querySelector('#df-4a6d56bc-c643-45e8-8b3c-daa4d6f220d5');\n",
              "          const dataTable =\n",
              "            await google.colab.kernel.invokeFunction('convertToInteractive',\n",
              "                                                     [key], {});\n",
              "          if (!dataTable) return;\n",
              "\n",
              "          const docLinkHtml = 'Like what you see? Visit the ' +\n",
              "            '<a target=\"_blank\" href=https://colab.research.google.com/notebooks/data_table.ipynb>data table notebook</a>'\n",
              "            + ' to learn more about interactive tables.';\n",
              "          element.innerHTML = '';\n",
              "          dataTable['output_type'] = 'display_data';\n",
              "          await google.colab.output.renderOutput(dataTable, element);\n",
              "          const docLink = document.createElement('div');\n",
              "          docLink.innerHTML = docLinkHtml;\n",
              "          element.appendChild(docLink);\n",
              "        }\n",
              "      </script>\n",
              "    </div>\n",
              "  </div>\n",
              "  "
            ]
          },
          "metadata": {},
          "execution_count": 20
        }
      ]
    },
    {
      "cell_type": "code",
      "source": [
        "renfe2[\"Tiempo_Viaje\"] = (renfe2[\"FECHA_FIN\"]-renfe2[\"FECHA_INICIO\"]) / np.timedelta64(1,'m')\n"
      ],
      "metadata": {
        "id": "RM2Siq8ss9ss"
      },
      "execution_count": 21,
      "outputs": []
    },
    {
      "cell_type": "code",
      "metadata": {
        "id": "pnbQfMXNndy2"
      },
      "source": [],
      "execution_count": 21,
      "outputs": []
    },
    {
      "cell_type": "code",
      "metadata": {
        "id": "WeLxjP0Ondy3"
      },
      "source": [
        "renfe2[\"Dif_Ini_Bus\"] = (renfe2[\"FECHA_INICIO\"]-renfe2[\"FECHA_CONSULTA\"]) / np.timedelta64(1,'m')\n"
      ],
      "execution_count": 22,
      "outputs": []
    },
    {
      "cell_type": "code",
      "metadata": {
        "id": "I0dMoZH9uY90"
      },
      "source": [],
      "execution_count": 22,
      "outputs": []
    },
    {
      "cell_type": "code",
      "metadata": {
        "id": "ZtFggwlZndy3",
        "colab": {
          "base_uri": "https://localhost:8080/"
        },
        "outputId": "d671b1a7-e827-4a92-f05e-76160321b3ea"
      },
      "source": [
        "renfe2.info()"
      ],
      "execution_count": 23,
      "outputs": [
        {
          "output_type": "stream",
          "name": "stdout",
          "text": [
            "<class 'pandas.core.frame.DataFrame'>\n",
            "Int64Index: 383535 entries, 0 to 383567\n",
            "Data columns (total 11 columns):\n",
            " #   Column          Non-Null Count   Dtype         \n",
            "---  ------          --------------   -----         \n",
            " 0   FECHA_CONSULTA  383535 non-null  datetime64[ns]\n",
            " 1   FECHA_INICIO    383535 non-null  datetime64[ns]\n",
            " 2   FECHA_FIN       383535 non-null  datetime64[ns]\n",
            " 3   CIUDAD_ORIGEN   383535 non-null  object        \n",
            " 4   CIUDAD_DESTINO  383535 non-null  object        \n",
            " 5   TIPO_TREN       383535 non-null  object        \n",
            " 6   TIPO_TARIFA     382197 non-null  object        \n",
            " 7   CLASE           382197 non-null  object        \n",
            " 8   PRECIO          355020 non-null  float64       \n",
            " 9   Tiempo_Viaje    383535 non-null  float64       \n",
            " 10  Dif_Ini_Bus     383535 non-null  float64       \n",
            "dtypes: datetime64[ns](3), float64(3), object(5)\n",
            "memory usage: 35.1+ MB\n"
          ]
        }
      ]
    },
    {
      "cell_type": "code",
      "metadata": {
        "id": "IjS2PXVindy4",
        "colab": {
          "base_uri": "https://localhost:8080/",
          "height": 270
        },
        "outputId": "3c07ec88-aaa5-4cc3-e708-68af061576c8"
      },
      "source": [
        "for col in ['FECHA_CONSULTA', 'FECHA_INICIO', 'FECHA_FIN']:\n",
        "    renfe2[col + '_HORA'] = renfe2[col].dt.hour\n",
        "    renfe2[col + '_NOMBREDIA'] = renfe2[col].dt.day_name()\n",
        "    ##O .dt.weekday_name\n",
        "    renfe2[col + '_DIA'] = renfe2[col].dt.day\n",
        "    renfe2[col + '_MES'] = renfe2[col].dt.month\n",
        "    \n",
        "    del renfe2[col]\n",
        "\n",
        "renfe2.head()"
      ],
      "execution_count": 24,
      "outputs": [
        {
          "output_type": "execute_result",
          "data": {
            "text/plain": [
              "  CIUDAD_ORIGEN CIUDAD_DESTINO TIPO_TREN TIPO_TARIFA    CLASE  PRECIO  \\\n",
              "0       SEVILLA         MADRID     ALVIA    Flexible  Turista   67.20   \n",
              "1     BARCELONA         MADRID       AVE    Flexible  Turista  107.70   \n",
              "2       SEVILLA         MADRID       AVE       Promo  Turista   47.30   \n",
              "3      VALENCIA         MADRID  REGIONAL  Adulto ida  Turista   28.35   \n",
              "4        MADRID      BARCELONA   AVE-TGV       Promo  Turista   66.75   \n",
              "\n",
              "   Tiempo_Viaje   Dif_Ini_Bus  FECHA_CONSULTA_HORA FECHA_CONSULTA_NOMBREDIA  \\\n",
              "0         158.0  50092.950000                    1                 Saturday   \n",
              "1         190.0  31494.816667                   13                 Saturday   \n",
              "2         150.0  52275.950000                    6                Wednesday   \n",
              "3         460.0  26968.016667                   21                   Friday   \n",
              "4         179.0  68741.383333                   19                 Thursday   \n",
              "\n",
              "   FECHA_CONSULTA_DIA  FECHA_CONSULTA_MES  FECHA_INICIO_HORA  \\\n",
              "0                  25                   5                 20   \n",
              "1                  22                   6                 10   \n",
              "2                  17                   4                 13   \n",
              "3                  10                   5                 14   \n",
              "4                   9                   5                 13   \n",
              "\n",
              "  FECHA_INICIO_NOMBREDIA  FECHA_INICIO_DIA  FECHA_INICIO_MES  FECHA_FIN_HORA  \\\n",
              "0                 Friday                28                 6              23   \n",
              "1                 Sunday                14                 7              13   \n",
              "2               Thursday                23                 5              16   \n",
              "3              Wednesday                29                 5              22   \n",
              "4              Wednesday                26                 6              16   \n",
              "\n",
              "  FECHA_FIN_NOMBREDIA  FECHA_FIN_DIA  FECHA_FIN_MES  \n",
              "0              Friday             28              6  \n",
              "1              Sunday             14              7  \n",
              "2            Thursday             23              5  \n",
              "3           Wednesday             29              5  \n",
              "4           Wednesday             26              6  "
            ],
            "text/html": [
              "\n",
              "  <div id=\"df-6aaab8c8-7a02-42d3-bf9a-934b4b778461\">\n",
              "    <div class=\"colab-df-container\">\n",
              "      <div>\n",
              "<style scoped>\n",
              "    .dataframe tbody tr th:only-of-type {\n",
              "        vertical-align: middle;\n",
              "    }\n",
              "\n",
              "    .dataframe tbody tr th {\n",
              "        vertical-align: top;\n",
              "    }\n",
              "\n",
              "    .dataframe thead th {\n",
              "        text-align: right;\n",
              "    }\n",
              "</style>\n",
              "<table border=\"1\" class=\"dataframe\">\n",
              "  <thead>\n",
              "    <tr style=\"text-align: right;\">\n",
              "      <th></th>\n",
              "      <th>CIUDAD_ORIGEN</th>\n",
              "      <th>CIUDAD_DESTINO</th>\n",
              "      <th>TIPO_TREN</th>\n",
              "      <th>TIPO_TARIFA</th>\n",
              "      <th>CLASE</th>\n",
              "      <th>PRECIO</th>\n",
              "      <th>Tiempo_Viaje</th>\n",
              "      <th>Dif_Ini_Bus</th>\n",
              "      <th>FECHA_CONSULTA_HORA</th>\n",
              "      <th>FECHA_CONSULTA_NOMBREDIA</th>\n",
              "      <th>FECHA_CONSULTA_DIA</th>\n",
              "      <th>FECHA_CONSULTA_MES</th>\n",
              "      <th>FECHA_INICIO_HORA</th>\n",
              "      <th>FECHA_INICIO_NOMBREDIA</th>\n",
              "      <th>FECHA_INICIO_DIA</th>\n",
              "      <th>FECHA_INICIO_MES</th>\n",
              "      <th>FECHA_FIN_HORA</th>\n",
              "      <th>FECHA_FIN_NOMBREDIA</th>\n",
              "      <th>FECHA_FIN_DIA</th>\n",
              "      <th>FECHA_FIN_MES</th>\n",
              "    </tr>\n",
              "  </thead>\n",
              "  <tbody>\n",
              "    <tr>\n",
              "      <th>0</th>\n",
              "      <td>SEVILLA</td>\n",
              "      <td>MADRID</td>\n",
              "      <td>ALVIA</td>\n",
              "      <td>Flexible</td>\n",
              "      <td>Turista</td>\n",
              "      <td>67.20</td>\n",
              "      <td>158.0</td>\n",
              "      <td>50092.950000</td>\n",
              "      <td>1</td>\n",
              "      <td>Saturday</td>\n",
              "      <td>25</td>\n",
              "      <td>5</td>\n",
              "      <td>20</td>\n",
              "      <td>Friday</td>\n",
              "      <td>28</td>\n",
              "      <td>6</td>\n",
              "      <td>23</td>\n",
              "      <td>Friday</td>\n",
              "      <td>28</td>\n",
              "      <td>6</td>\n",
              "    </tr>\n",
              "    <tr>\n",
              "      <th>1</th>\n",
              "      <td>BARCELONA</td>\n",
              "      <td>MADRID</td>\n",
              "      <td>AVE</td>\n",
              "      <td>Flexible</td>\n",
              "      <td>Turista</td>\n",
              "      <td>107.70</td>\n",
              "      <td>190.0</td>\n",
              "      <td>31494.816667</td>\n",
              "      <td>13</td>\n",
              "      <td>Saturday</td>\n",
              "      <td>22</td>\n",
              "      <td>6</td>\n",
              "      <td>10</td>\n",
              "      <td>Sunday</td>\n",
              "      <td>14</td>\n",
              "      <td>7</td>\n",
              "      <td>13</td>\n",
              "      <td>Sunday</td>\n",
              "      <td>14</td>\n",
              "      <td>7</td>\n",
              "    </tr>\n",
              "    <tr>\n",
              "      <th>2</th>\n",
              "      <td>SEVILLA</td>\n",
              "      <td>MADRID</td>\n",
              "      <td>AVE</td>\n",
              "      <td>Promo</td>\n",
              "      <td>Turista</td>\n",
              "      <td>47.30</td>\n",
              "      <td>150.0</td>\n",
              "      <td>52275.950000</td>\n",
              "      <td>6</td>\n",
              "      <td>Wednesday</td>\n",
              "      <td>17</td>\n",
              "      <td>4</td>\n",
              "      <td>13</td>\n",
              "      <td>Thursday</td>\n",
              "      <td>23</td>\n",
              "      <td>5</td>\n",
              "      <td>16</td>\n",
              "      <td>Thursday</td>\n",
              "      <td>23</td>\n",
              "      <td>5</td>\n",
              "    </tr>\n",
              "    <tr>\n",
              "      <th>3</th>\n",
              "      <td>VALENCIA</td>\n",
              "      <td>MADRID</td>\n",
              "      <td>REGIONAL</td>\n",
              "      <td>Adulto ida</td>\n",
              "      <td>Turista</td>\n",
              "      <td>28.35</td>\n",
              "      <td>460.0</td>\n",
              "      <td>26968.016667</td>\n",
              "      <td>21</td>\n",
              "      <td>Friday</td>\n",
              "      <td>10</td>\n",
              "      <td>5</td>\n",
              "      <td>14</td>\n",
              "      <td>Wednesday</td>\n",
              "      <td>29</td>\n",
              "      <td>5</td>\n",
              "      <td>22</td>\n",
              "      <td>Wednesday</td>\n",
              "      <td>29</td>\n",
              "      <td>5</td>\n",
              "    </tr>\n",
              "    <tr>\n",
              "      <th>4</th>\n",
              "      <td>MADRID</td>\n",
              "      <td>BARCELONA</td>\n",
              "      <td>AVE-TGV</td>\n",
              "      <td>Promo</td>\n",
              "      <td>Turista</td>\n",
              "      <td>66.75</td>\n",
              "      <td>179.0</td>\n",
              "      <td>68741.383333</td>\n",
              "      <td>19</td>\n",
              "      <td>Thursday</td>\n",
              "      <td>9</td>\n",
              "      <td>5</td>\n",
              "      <td>13</td>\n",
              "      <td>Wednesday</td>\n",
              "      <td>26</td>\n",
              "      <td>6</td>\n",
              "      <td>16</td>\n",
              "      <td>Wednesday</td>\n",
              "      <td>26</td>\n",
              "      <td>6</td>\n",
              "    </tr>\n",
              "  </tbody>\n",
              "</table>\n",
              "</div>\n",
              "      <button class=\"colab-df-convert\" onclick=\"convertToInteractive('df-6aaab8c8-7a02-42d3-bf9a-934b4b778461')\"\n",
              "              title=\"Convert this dataframe to an interactive table.\"\n",
              "              style=\"display:none;\">\n",
              "        \n",
              "  <svg xmlns=\"http://www.w3.org/2000/svg\" height=\"24px\"viewBox=\"0 0 24 24\"\n",
              "       width=\"24px\">\n",
              "    <path d=\"M0 0h24v24H0V0z\" fill=\"none\"/>\n",
              "    <path d=\"M18.56 5.44l.94 2.06.94-2.06 2.06-.94-2.06-.94-.94-2.06-.94 2.06-2.06.94zm-11 1L8.5 8.5l.94-2.06 2.06-.94-2.06-.94L8.5 2.5l-.94 2.06-2.06.94zm10 10l.94 2.06.94-2.06 2.06-.94-2.06-.94-.94-2.06-.94 2.06-2.06.94z\"/><path d=\"M17.41 7.96l-1.37-1.37c-.4-.4-.92-.59-1.43-.59-.52 0-1.04.2-1.43.59L10.3 9.45l-7.72 7.72c-.78.78-.78 2.05 0 2.83L4 21.41c.39.39.9.59 1.41.59.51 0 1.02-.2 1.41-.59l7.78-7.78 2.81-2.81c.8-.78.8-2.07 0-2.86zM5.41 20L4 18.59l7.72-7.72 1.47 1.35L5.41 20z\"/>\n",
              "  </svg>\n",
              "      </button>\n",
              "      \n",
              "  <style>\n",
              "    .colab-df-container {\n",
              "      display:flex;\n",
              "      flex-wrap:wrap;\n",
              "      gap: 12px;\n",
              "    }\n",
              "\n",
              "    .colab-df-convert {\n",
              "      background-color: #E8F0FE;\n",
              "      border: none;\n",
              "      border-radius: 50%;\n",
              "      cursor: pointer;\n",
              "      display: none;\n",
              "      fill: #1967D2;\n",
              "      height: 32px;\n",
              "      padding: 0 0 0 0;\n",
              "      width: 32px;\n",
              "    }\n",
              "\n",
              "    .colab-df-convert:hover {\n",
              "      background-color: #E2EBFA;\n",
              "      box-shadow: 0px 1px 2px rgba(60, 64, 67, 0.3), 0px 1px 3px 1px rgba(60, 64, 67, 0.15);\n",
              "      fill: #174EA6;\n",
              "    }\n",
              "\n",
              "    [theme=dark] .colab-df-convert {\n",
              "      background-color: #3B4455;\n",
              "      fill: #D2E3FC;\n",
              "    }\n",
              "\n",
              "    [theme=dark] .colab-df-convert:hover {\n",
              "      background-color: #434B5C;\n",
              "      box-shadow: 0px 1px 3px 1px rgba(0, 0, 0, 0.15);\n",
              "      filter: drop-shadow(0px 1px 2px rgba(0, 0, 0, 0.3));\n",
              "      fill: #FFFFFF;\n",
              "    }\n",
              "  </style>\n",
              "\n",
              "      <script>\n",
              "        const buttonEl =\n",
              "          document.querySelector('#df-6aaab8c8-7a02-42d3-bf9a-934b4b778461 button.colab-df-convert');\n",
              "        buttonEl.style.display =\n",
              "          google.colab.kernel.accessAllowed ? 'block' : 'none';\n",
              "\n",
              "        async function convertToInteractive(key) {\n",
              "          const element = document.querySelector('#df-6aaab8c8-7a02-42d3-bf9a-934b4b778461');\n",
              "          const dataTable =\n",
              "            await google.colab.kernel.invokeFunction('convertToInteractive',\n",
              "                                                     [key], {});\n",
              "          if (!dataTable) return;\n",
              "\n",
              "          const docLinkHtml = 'Like what you see? Visit the ' +\n",
              "            '<a target=\"_blank\" href=https://colab.research.google.com/notebooks/data_table.ipynb>data table notebook</a>'\n",
              "            + ' to learn more about interactive tables.';\n",
              "          element.innerHTML = '';\n",
              "          dataTable['output_type'] = 'display_data';\n",
              "          await google.colab.output.renderOutput(dataTable, element);\n",
              "          const docLink = document.createElement('div');\n",
              "          docLink.innerHTML = docLinkHtml;\n",
              "          element.appendChild(docLink);\n",
              "        }\n",
              "      </script>\n",
              "    </div>\n",
              "  </div>\n",
              "  "
            ]
          },
          "metadata": {},
          "execution_count": 24
        }
      ]
    },
    {
      "cell_type": "code",
      "source": [],
      "metadata": {
        "id": "zSxnRji5p4oH"
      },
      "execution_count": 24,
      "outputs": []
    },
    {
      "cell_type": "code",
      "source": [
        "(renfe2['PRECIO'].isnull().sum() / renfe2[\"PRECIO\"].shape[0]) *100"
      ],
      "metadata": {
        "id": "I6FKYIFkqCk2",
        "colab": {
          "base_uri": "https://localhost:8080/"
        },
        "outputId": "7b8640d8-fbbf-4347-cbd9-504eeee9e6cf"
      },
      "execution_count": 25,
      "outputs": [
        {
          "output_type": "execute_result",
          "data": {
            "text/plain": [
              "7.43478430912433"
            ]
          },
          "metadata": {},
          "execution_count": 25
        }
      ]
    },
    {
      "cell_type": "code",
      "source": [
        "renfe2.isnull().sum()"
      ],
      "metadata": {
        "id": "WlfRuYKzqC0x",
        "colab": {
          "base_uri": "https://localhost:8080/"
        },
        "outputId": "ded8d76e-840d-4d2e-929f-ed69fd4da7eb"
      },
      "execution_count": 26,
      "outputs": [
        {
          "output_type": "execute_result",
          "data": {
            "text/plain": [
              "CIUDAD_ORIGEN                   0\n",
              "CIUDAD_DESTINO                  0\n",
              "TIPO_TREN                       0\n",
              "TIPO_TARIFA                  1338\n",
              "CLASE                        1338\n",
              "PRECIO                      28515\n",
              "Tiempo_Viaje                    0\n",
              "Dif_Ini_Bus                     0\n",
              "FECHA_CONSULTA_HORA             0\n",
              "FECHA_CONSULTA_NOMBREDIA        0\n",
              "FECHA_CONSULTA_DIA              0\n",
              "FECHA_CONSULTA_MES              0\n",
              "FECHA_INICIO_HORA               0\n",
              "FECHA_INICIO_NOMBREDIA          0\n",
              "FECHA_INICIO_DIA                0\n",
              "FECHA_INICIO_MES                0\n",
              "FECHA_FIN_HORA                  0\n",
              "FECHA_FIN_NOMBREDIA             0\n",
              "FECHA_FIN_DIA                   0\n",
              "FECHA_FIN_MES                   0\n",
              "dtype: int64"
            ]
          },
          "metadata": {},
          "execution_count": 26
        }
      ]
    },
    {
      "cell_type": "code",
      "source": [
        "renfe2[renfe2[\"PRECIO\"].isnull() & renfe2[\"TIPO_TARIFA\"].isnull() & renfe2[\"CLASE\"].isnull()]"
      ],
      "metadata": {
        "id": "MRS7DNR30yfN",
        "colab": {
          "base_uri": "https://localhost:8080/",
          "height": 488
        },
        "outputId": "9ca416b6-2723-4fb8-956a-e5c2ade29628"
      },
      "execution_count": 27,
      "outputs": [
        {
          "output_type": "execute_result",
          "data": {
            "text/plain": [
              "       CIUDAD_ORIGEN CIUDAD_DESTINO  TIPO_TREN TIPO_TARIFA CLASE  PRECIO  \\\n",
              "51           SEVILLA         MADRID    AV City         NaN   NaN     NaN   \n",
              "1063          MADRID     PONFERRADA  TRENHOTEL         NaN   NaN     NaN   \n",
              "1162         SEVILLA         MADRID    AV City         NaN   NaN     NaN   \n",
              "1250          MADRID      BARCELONA        AVE         NaN   NaN     NaN   \n",
              "1716          MADRID      BARCELONA        AVE         NaN   NaN     NaN   \n",
              "...              ...            ...        ...         ...   ...     ...   \n",
              "381583        MADRID       VALENCIA        AVE         NaN   NaN     NaN   \n",
              "381963       SEVILLA         MADRID    AV City         NaN   NaN     NaN   \n",
              "382538       SEVILLA         MADRID  INTERCITY         NaN   NaN     NaN   \n",
              "383033        MADRID      BARCELONA        AVE         NaN   NaN     NaN   \n",
              "383051       SEVILLA         MADRID        AVE         NaN   NaN     NaN   \n",
              "\n",
              "        Tiempo_Viaje   Dif_Ini_Bus  FECHA_CONSULTA_HORA  \\\n",
              "51             172.0  22293.050000                    9   \n",
              "1063           377.0  -9443.733333                   11   \n",
              "1162           172.0   8274.266667                    3   \n",
              "1250           150.0  38618.816667                    1   \n",
              "1716           150.0  52177.750000                   15   \n",
              "...              ...           ...                  ...   \n",
              "381583         104.0  44203.116667                    3   \n",
              "381963         172.0  12949.100000                   21   \n",
              "382538         160.0  13380.350000                   12   \n",
              "383033         150.0  42582.783333                    7   \n",
              "383051         152.0  30373.816667                   17   \n",
              "\n",
              "       FECHA_CONSULTA_NOMBREDIA  FECHA_CONSULTA_DIA  FECHA_CONSULTA_MES  \\\n",
              "51                     Saturday                  27                   4   \n",
              "1063                  Wednesday                  14                   8   \n",
              "1162                     Monday                  29                   4   \n",
              "1250                  Wednesday                  15                   5   \n",
              "1716                     Sunday                  12                   5   \n",
              "...                         ...                 ...                 ...   \n",
              "381583                   Friday                   2                   8   \n",
              "381963                 Saturday                  13                   4   \n",
              "382538                 Saturday                  13                   4   \n",
              "383033                   Sunday                  12                   5   \n",
              "383051                   Sunday                  12                   5   \n",
              "\n",
              "        FECHA_INICIO_HORA FECHA_INICIO_NOMBREDIA  FECHA_INICIO_DIA  \\\n",
              "51                     21                 Sunday                12   \n",
              "1063                   22              Wednesday                 7   \n",
              "1162                   21               Saturday                 4   \n",
              "1250                   21                 Monday                10   \n",
              "1716                   21                 Monday                17   \n",
              "...                   ...                    ...               ...   \n",
              "381583                 20                 Sunday                 1   \n",
              "381963                 21                 Monday                22   \n",
              "382538                 19                 Monday                22   \n",
              "383033                 21                 Monday                10   \n",
              "383051                 19                 Sunday                 2   \n",
              "\n",
              "        FECHA_INICIO_MES  FECHA_FIN_HORA FECHA_FIN_NOMBREDIA  FECHA_FIN_DIA  \\\n",
              "51                     5              23              Sunday             12   \n",
              "1063                   8               4            Thursday              8   \n",
              "1162                   5              23            Saturday              4   \n",
              "1250                   6              23              Monday             10   \n",
              "1716                   6              23              Monday             17   \n",
              "...                  ...             ...                 ...            ...   \n",
              "381583                 9              22              Sunday              1   \n",
              "381963                 4              23              Monday             22   \n",
              "382538                 4              21              Monday             22   \n",
              "383033                 6              23              Monday             10   \n",
              "383051                 6              22              Sunday              2   \n",
              "\n",
              "        FECHA_FIN_MES  \n",
              "51                  5  \n",
              "1063                8  \n",
              "1162                5  \n",
              "1250                6  \n",
              "1716                6  \n",
              "...               ...  \n",
              "381583              9  \n",
              "381963              4  \n",
              "382538              4  \n",
              "383033              6  \n",
              "383051              6  \n",
              "\n",
              "[1338 rows x 20 columns]"
            ],
            "text/html": [
              "\n",
              "  <div id=\"df-f476e3a6-4a38-4c81-b2b6-2cd9ce4628d0\">\n",
              "    <div class=\"colab-df-container\">\n",
              "      <div>\n",
              "<style scoped>\n",
              "    .dataframe tbody tr th:only-of-type {\n",
              "        vertical-align: middle;\n",
              "    }\n",
              "\n",
              "    .dataframe tbody tr th {\n",
              "        vertical-align: top;\n",
              "    }\n",
              "\n",
              "    .dataframe thead th {\n",
              "        text-align: right;\n",
              "    }\n",
              "</style>\n",
              "<table border=\"1\" class=\"dataframe\">\n",
              "  <thead>\n",
              "    <tr style=\"text-align: right;\">\n",
              "      <th></th>\n",
              "      <th>CIUDAD_ORIGEN</th>\n",
              "      <th>CIUDAD_DESTINO</th>\n",
              "      <th>TIPO_TREN</th>\n",
              "      <th>TIPO_TARIFA</th>\n",
              "      <th>CLASE</th>\n",
              "      <th>PRECIO</th>\n",
              "      <th>Tiempo_Viaje</th>\n",
              "      <th>Dif_Ini_Bus</th>\n",
              "      <th>FECHA_CONSULTA_HORA</th>\n",
              "      <th>FECHA_CONSULTA_NOMBREDIA</th>\n",
              "      <th>FECHA_CONSULTA_DIA</th>\n",
              "      <th>FECHA_CONSULTA_MES</th>\n",
              "      <th>FECHA_INICIO_HORA</th>\n",
              "      <th>FECHA_INICIO_NOMBREDIA</th>\n",
              "      <th>FECHA_INICIO_DIA</th>\n",
              "      <th>FECHA_INICIO_MES</th>\n",
              "      <th>FECHA_FIN_HORA</th>\n",
              "      <th>FECHA_FIN_NOMBREDIA</th>\n",
              "      <th>FECHA_FIN_DIA</th>\n",
              "      <th>FECHA_FIN_MES</th>\n",
              "    </tr>\n",
              "  </thead>\n",
              "  <tbody>\n",
              "    <tr>\n",
              "      <th>51</th>\n",
              "      <td>SEVILLA</td>\n",
              "      <td>MADRID</td>\n",
              "      <td>AV City</td>\n",
              "      <td>NaN</td>\n",
              "      <td>NaN</td>\n",
              "      <td>NaN</td>\n",
              "      <td>172.0</td>\n",
              "      <td>22293.050000</td>\n",
              "      <td>9</td>\n",
              "      <td>Saturday</td>\n",
              "      <td>27</td>\n",
              "      <td>4</td>\n",
              "      <td>21</td>\n",
              "      <td>Sunday</td>\n",
              "      <td>12</td>\n",
              "      <td>5</td>\n",
              "      <td>23</td>\n",
              "      <td>Sunday</td>\n",
              "      <td>12</td>\n",
              "      <td>5</td>\n",
              "    </tr>\n",
              "    <tr>\n",
              "      <th>1063</th>\n",
              "      <td>MADRID</td>\n",
              "      <td>PONFERRADA</td>\n",
              "      <td>TRENHOTEL</td>\n",
              "      <td>NaN</td>\n",
              "      <td>NaN</td>\n",
              "      <td>NaN</td>\n",
              "      <td>377.0</td>\n",
              "      <td>-9443.733333</td>\n",
              "      <td>11</td>\n",
              "      <td>Wednesday</td>\n",
              "      <td>14</td>\n",
              "      <td>8</td>\n",
              "      <td>22</td>\n",
              "      <td>Wednesday</td>\n",
              "      <td>7</td>\n",
              "      <td>8</td>\n",
              "      <td>4</td>\n",
              "      <td>Thursday</td>\n",
              "      <td>8</td>\n",
              "      <td>8</td>\n",
              "    </tr>\n",
              "    <tr>\n",
              "      <th>1162</th>\n",
              "      <td>SEVILLA</td>\n",
              "      <td>MADRID</td>\n",
              "      <td>AV City</td>\n",
              "      <td>NaN</td>\n",
              "      <td>NaN</td>\n",
              "      <td>NaN</td>\n",
              "      <td>172.0</td>\n",
              "      <td>8274.266667</td>\n",
              "      <td>3</td>\n",
              "      <td>Monday</td>\n",
              "      <td>29</td>\n",
              "      <td>4</td>\n",
              "      <td>21</td>\n",
              "      <td>Saturday</td>\n",
              "      <td>4</td>\n",
              "      <td>5</td>\n",
              "      <td>23</td>\n",
              "      <td>Saturday</td>\n",
              "      <td>4</td>\n",
              "      <td>5</td>\n",
              "    </tr>\n",
              "    <tr>\n",
              "      <th>1250</th>\n",
              "      <td>MADRID</td>\n",
              "      <td>BARCELONA</td>\n",
              "      <td>AVE</td>\n",
              "      <td>NaN</td>\n",
              "      <td>NaN</td>\n",
              "      <td>NaN</td>\n",
              "      <td>150.0</td>\n",
              "      <td>38618.816667</td>\n",
              "      <td>1</td>\n",
              "      <td>Wednesday</td>\n",
              "      <td>15</td>\n",
              "      <td>5</td>\n",
              "      <td>21</td>\n",
              "      <td>Monday</td>\n",
              "      <td>10</td>\n",
              "      <td>6</td>\n",
              "      <td>23</td>\n",
              "      <td>Monday</td>\n",
              "      <td>10</td>\n",
              "      <td>6</td>\n",
              "    </tr>\n",
              "    <tr>\n",
              "      <th>1716</th>\n",
              "      <td>MADRID</td>\n",
              "      <td>BARCELONA</td>\n",
              "      <td>AVE</td>\n",
              "      <td>NaN</td>\n",
              "      <td>NaN</td>\n",
              "      <td>NaN</td>\n",
              "      <td>150.0</td>\n",
              "      <td>52177.750000</td>\n",
              "      <td>15</td>\n",
              "      <td>Sunday</td>\n",
              "      <td>12</td>\n",
              "      <td>5</td>\n",
              "      <td>21</td>\n",
              "      <td>Monday</td>\n",
              "      <td>17</td>\n",
              "      <td>6</td>\n",
              "      <td>23</td>\n",
              "      <td>Monday</td>\n",
              "      <td>17</td>\n",
              "      <td>6</td>\n",
              "    </tr>\n",
              "    <tr>\n",
              "      <th>...</th>\n",
              "      <td>...</td>\n",
              "      <td>...</td>\n",
              "      <td>...</td>\n",
              "      <td>...</td>\n",
              "      <td>...</td>\n",
              "      <td>...</td>\n",
              "      <td>...</td>\n",
              "      <td>...</td>\n",
              "      <td>...</td>\n",
              "      <td>...</td>\n",
              "      <td>...</td>\n",
              "      <td>...</td>\n",
              "      <td>...</td>\n",
              "      <td>...</td>\n",
              "      <td>...</td>\n",
              "      <td>...</td>\n",
              "      <td>...</td>\n",
              "      <td>...</td>\n",
              "      <td>...</td>\n",
              "      <td>...</td>\n",
              "    </tr>\n",
              "    <tr>\n",
              "      <th>381583</th>\n",
              "      <td>MADRID</td>\n",
              "      <td>VALENCIA</td>\n",
              "      <td>AVE</td>\n",
              "      <td>NaN</td>\n",
              "      <td>NaN</td>\n",
              "      <td>NaN</td>\n",
              "      <td>104.0</td>\n",
              "      <td>44203.116667</td>\n",
              "      <td>3</td>\n",
              "      <td>Friday</td>\n",
              "      <td>2</td>\n",
              "      <td>8</td>\n",
              "      <td>20</td>\n",
              "      <td>Sunday</td>\n",
              "      <td>1</td>\n",
              "      <td>9</td>\n",
              "      <td>22</td>\n",
              "      <td>Sunday</td>\n",
              "      <td>1</td>\n",
              "      <td>9</td>\n",
              "    </tr>\n",
              "    <tr>\n",
              "      <th>381963</th>\n",
              "      <td>SEVILLA</td>\n",
              "      <td>MADRID</td>\n",
              "      <td>AV City</td>\n",
              "      <td>NaN</td>\n",
              "      <td>NaN</td>\n",
              "      <td>NaN</td>\n",
              "      <td>172.0</td>\n",
              "      <td>12949.100000</td>\n",
              "      <td>21</td>\n",
              "      <td>Saturday</td>\n",
              "      <td>13</td>\n",
              "      <td>4</td>\n",
              "      <td>21</td>\n",
              "      <td>Monday</td>\n",
              "      <td>22</td>\n",
              "      <td>4</td>\n",
              "      <td>23</td>\n",
              "      <td>Monday</td>\n",
              "      <td>22</td>\n",
              "      <td>4</td>\n",
              "    </tr>\n",
              "    <tr>\n",
              "      <th>382538</th>\n",
              "      <td>SEVILLA</td>\n",
              "      <td>MADRID</td>\n",
              "      <td>INTERCITY</td>\n",
              "      <td>NaN</td>\n",
              "      <td>NaN</td>\n",
              "      <td>NaN</td>\n",
              "      <td>160.0</td>\n",
              "      <td>13380.350000</td>\n",
              "      <td>12</td>\n",
              "      <td>Saturday</td>\n",
              "      <td>13</td>\n",
              "      <td>4</td>\n",
              "      <td>19</td>\n",
              "      <td>Monday</td>\n",
              "      <td>22</td>\n",
              "      <td>4</td>\n",
              "      <td>21</td>\n",
              "      <td>Monday</td>\n",
              "      <td>22</td>\n",
              "      <td>4</td>\n",
              "    </tr>\n",
              "    <tr>\n",
              "      <th>383033</th>\n",
              "      <td>MADRID</td>\n",
              "      <td>BARCELONA</td>\n",
              "      <td>AVE</td>\n",
              "      <td>NaN</td>\n",
              "      <td>NaN</td>\n",
              "      <td>NaN</td>\n",
              "      <td>150.0</td>\n",
              "      <td>42582.783333</td>\n",
              "      <td>7</td>\n",
              "      <td>Sunday</td>\n",
              "      <td>12</td>\n",
              "      <td>5</td>\n",
              "      <td>21</td>\n",
              "      <td>Monday</td>\n",
              "      <td>10</td>\n",
              "      <td>6</td>\n",
              "      <td>23</td>\n",
              "      <td>Monday</td>\n",
              "      <td>10</td>\n",
              "      <td>6</td>\n",
              "    </tr>\n",
              "    <tr>\n",
              "      <th>383051</th>\n",
              "      <td>SEVILLA</td>\n",
              "      <td>MADRID</td>\n",
              "      <td>AVE</td>\n",
              "      <td>NaN</td>\n",
              "      <td>NaN</td>\n",
              "      <td>NaN</td>\n",
              "      <td>152.0</td>\n",
              "      <td>30373.816667</td>\n",
              "      <td>17</td>\n",
              "      <td>Sunday</td>\n",
              "      <td>12</td>\n",
              "      <td>5</td>\n",
              "      <td>19</td>\n",
              "      <td>Sunday</td>\n",
              "      <td>2</td>\n",
              "      <td>6</td>\n",
              "      <td>22</td>\n",
              "      <td>Sunday</td>\n",
              "      <td>2</td>\n",
              "      <td>6</td>\n",
              "    </tr>\n",
              "  </tbody>\n",
              "</table>\n",
              "<p>1338 rows × 20 columns</p>\n",
              "</div>\n",
              "      <button class=\"colab-df-convert\" onclick=\"convertToInteractive('df-f476e3a6-4a38-4c81-b2b6-2cd9ce4628d0')\"\n",
              "              title=\"Convert this dataframe to an interactive table.\"\n",
              "              style=\"display:none;\">\n",
              "        \n",
              "  <svg xmlns=\"http://www.w3.org/2000/svg\" height=\"24px\"viewBox=\"0 0 24 24\"\n",
              "       width=\"24px\">\n",
              "    <path d=\"M0 0h24v24H0V0z\" fill=\"none\"/>\n",
              "    <path d=\"M18.56 5.44l.94 2.06.94-2.06 2.06-.94-2.06-.94-.94-2.06-.94 2.06-2.06.94zm-11 1L8.5 8.5l.94-2.06 2.06-.94-2.06-.94L8.5 2.5l-.94 2.06-2.06.94zm10 10l.94 2.06.94-2.06 2.06-.94-2.06-.94-.94-2.06-.94 2.06-2.06.94z\"/><path d=\"M17.41 7.96l-1.37-1.37c-.4-.4-.92-.59-1.43-.59-.52 0-1.04.2-1.43.59L10.3 9.45l-7.72 7.72c-.78.78-.78 2.05 0 2.83L4 21.41c.39.39.9.59 1.41.59.51 0 1.02-.2 1.41-.59l7.78-7.78 2.81-2.81c.8-.78.8-2.07 0-2.86zM5.41 20L4 18.59l7.72-7.72 1.47 1.35L5.41 20z\"/>\n",
              "  </svg>\n",
              "      </button>\n",
              "      \n",
              "  <style>\n",
              "    .colab-df-container {\n",
              "      display:flex;\n",
              "      flex-wrap:wrap;\n",
              "      gap: 12px;\n",
              "    }\n",
              "\n",
              "    .colab-df-convert {\n",
              "      background-color: #E8F0FE;\n",
              "      border: none;\n",
              "      border-radius: 50%;\n",
              "      cursor: pointer;\n",
              "      display: none;\n",
              "      fill: #1967D2;\n",
              "      height: 32px;\n",
              "      padding: 0 0 0 0;\n",
              "      width: 32px;\n",
              "    }\n",
              "\n",
              "    .colab-df-convert:hover {\n",
              "      background-color: #E2EBFA;\n",
              "      box-shadow: 0px 1px 2px rgba(60, 64, 67, 0.3), 0px 1px 3px 1px rgba(60, 64, 67, 0.15);\n",
              "      fill: #174EA6;\n",
              "    }\n",
              "\n",
              "    [theme=dark] .colab-df-convert {\n",
              "      background-color: #3B4455;\n",
              "      fill: #D2E3FC;\n",
              "    }\n",
              "\n",
              "    [theme=dark] .colab-df-convert:hover {\n",
              "      background-color: #434B5C;\n",
              "      box-shadow: 0px 1px 3px 1px rgba(0, 0, 0, 0.15);\n",
              "      filter: drop-shadow(0px 1px 2px rgba(0, 0, 0, 0.3));\n",
              "      fill: #FFFFFF;\n",
              "    }\n",
              "  </style>\n",
              "\n",
              "      <script>\n",
              "        const buttonEl =\n",
              "          document.querySelector('#df-f476e3a6-4a38-4c81-b2b6-2cd9ce4628d0 button.colab-df-convert');\n",
              "        buttonEl.style.display =\n",
              "          google.colab.kernel.accessAllowed ? 'block' : 'none';\n",
              "\n",
              "        async function convertToInteractive(key) {\n",
              "          const element = document.querySelector('#df-f476e3a6-4a38-4c81-b2b6-2cd9ce4628d0');\n",
              "          const dataTable =\n",
              "            await google.colab.kernel.invokeFunction('convertToInteractive',\n",
              "                                                     [key], {});\n",
              "          if (!dataTable) return;\n",
              "\n",
              "          const docLinkHtml = 'Like what you see? Visit the ' +\n",
              "            '<a target=\"_blank\" href=https://colab.research.google.com/notebooks/data_table.ipynb>data table notebook</a>'\n",
              "            + ' to learn more about interactive tables.';\n",
              "          element.innerHTML = '';\n",
              "          dataTable['output_type'] = 'display_data';\n",
              "          await google.colab.output.renderOutput(dataTable, element);\n",
              "          const docLink = document.createElement('div');\n",
              "          docLink.innerHTML = docLinkHtml;\n",
              "          element.appendChild(docLink);\n",
              "        }\n",
              "      </script>\n",
              "    </div>\n",
              "  </div>\n",
              "  "
            ]
          },
          "metadata": {},
          "execution_count": 27
        }
      ]
    },
    {
      "cell_type": "code",
      "source": [
        "(1338 / renfe2.shape[0])*100"
      ],
      "metadata": {
        "id": "fJKgTAPo30JY",
        "colab": {
          "base_uri": "https://localhost:8080/"
        },
        "outputId": "dc1a7125-fae6-4cf5-cc18-30c4d45edca7"
      },
      "execution_count": 28,
      "outputs": [
        {
          "output_type": "execute_result",
          "data": {
            "text/plain": [
              "0.34885994759278816"
            ]
          },
          "metadata": {},
          "execution_count": 28
        }
      ]
    },
    {
      "cell_type": "code",
      "source": [
        "renfe3 = renfe2.copy()"
      ],
      "metadata": {
        "id": "bA3ABK5g4IYF"
      },
      "execution_count": 29,
      "outputs": []
    },
    {
      "cell_type": "code",
      "source": [
        "renfe3 = renfe3.dropna(subset = [\"TIPO_TARIFA\"])"
      ],
      "metadata": {
        "id": "Rco46AVC4Iam"
      },
      "execution_count": 30,
      "outputs": []
    },
    {
      "cell_type": "code",
      "source": [
        "renfe3.isnull().sum()"
      ],
      "metadata": {
        "id": "QA8sja4q4Icz",
        "colab": {
          "base_uri": "https://localhost:8080/"
        },
        "outputId": "58406452-b7f6-4f7b-a81b-48bae0ad174a"
      },
      "execution_count": 31,
      "outputs": [
        {
          "output_type": "execute_result",
          "data": {
            "text/plain": [
              "CIUDAD_ORIGEN                   0\n",
              "CIUDAD_DESTINO                  0\n",
              "TIPO_TREN                       0\n",
              "TIPO_TARIFA                     0\n",
              "CLASE                           0\n",
              "PRECIO                      27177\n",
              "Tiempo_Viaje                    0\n",
              "Dif_Ini_Bus                     0\n",
              "FECHA_CONSULTA_HORA             0\n",
              "FECHA_CONSULTA_NOMBREDIA        0\n",
              "FECHA_CONSULTA_DIA              0\n",
              "FECHA_CONSULTA_MES              0\n",
              "FECHA_INICIO_HORA               0\n",
              "FECHA_INICIO_NOMBREDIA          0\n",
              "FECHA_INICIO_DIA                0\n",
              "FECHA_INICIO_MES                0\n",
              "FECHA_FIN_HORA                  0\n",
              "FECHA_FIN_NOMBREDIA             0\n",
              "FECHA_FIN_DIA                   0\n",
              "FECHA_FIN_MES                   0\n",
              "dtype: int64"
            ]
          },
          "metadata": {},
          "execution_count": 31
        }
      ]
    },
    {
      "cell_type": "code",
      "source": [
        "renfe3[\"PRECIO\"] = renfe3[\"PRECIO\"].fillna(renfe3[\"PRECIO\"].mean())"
      ],
      "metadata": {
        "id": "jIP89Bt04IfI",
        "colab": {
          "base_uri": "https://localhost:8080/"
        },
        "outputId": "c04908be-7d36-4819-a85c-b5e9bce6b88f"
      },
      "execution_count": 32,
      "outputs": [
        {
          "output_type": "stream",
          "name": "stderr",
          "text": [
            "/usr/local/lib/python3.7/dist-packages/ipykernel_launcher.py:1: SettingWithCopyWarning: \n",
            "A value is trying to be set on a copy of a slice from a DataFrame.\n",
            "Try using .loc[row_indexer,col_indexer] = value instead\n",
            "\n",
            "See the caveats in the documentation: https://pandas.pydata.org/pandas-docs/stable/user_guide/indexing.html#returning-a-view-versus-a-copy\n",
            "  \"\"\"Entry point for launching an IPython kernel.\n"
          ]
        }
      ]
    },
    {
      "cell_type": "code",
      "source": [
        "renfe3.isnull().sum()"
      ],
      "metadata": {
        "id": "LhR8fjHZ7jbm",
        "colab": {
          "base_uri": "https://localhost:8080/"
        },
        "outputId": "93e1c4ce-b28f-463c-bb7d-d09ac00dba05"
      },
      "execution_count": 33,
      "outputs": [
        {
          "output_type": "execute_result",
          "data": {
            "text/plain": [
              "CIUDAD_ORIGEN               0\n",
              "CIUDAD_DESTINO              0\n",
              "TIPO_TREN                   0\n",
              "TIPO_TARIFA                 0\n",
              "CLASE                       0\n",
              "PRECIO                      0\n",
              "Tiempo_Viaje                0\n",
              "Dif_Ini_Bus                 0\n",
              "FECHA_CONSULTA_HORA         0\n",
              "FECHA_CONSULTA_NOMBREDIA    0\n",
              "FECHA_CONSULTA_DIA          0\n",
              "FECHA_CONSULTA_MES          0\n",
              "FECHA_INICIO_HORA           0\n",
              "FECHA_INICIO_NOMBREDIA      0\n",
              "FECHA_INICIO_DIA            0\n",
              "FECHA_INICIO_MES            0\n",
              "FECHA_FIN_HORA              0\n",
              "FECHA_FIN_NOMBREDIA         0\n",
              "FECHA_FIN_DIA               0\n",
              "FECHA_FIN_MES               0\n",
              "dtype: int64"
            ]
          },
          "metadata": {},
          "execution_count": 33
        }
      ]
    },
    {
      "cell_type": "code",
      "source": [
        "renfe3.info()"
      ],
      "metadata": {
        "id": "egj4e9a28q4R",
        "colab": {
          "base_uri": "https://localhost:8080/"
        },
        "outputId": "e83f8f58-7f9d-464f-daec-01c1c8287f06"
      },
      "execution_count": 34,
      "outputs": [
        {
          "output_type": "stream",
          "name": "stdout",
          "text": [
            "<class 'pandas.core.frame.DataFrame'>\n",
            "Int64Index: 382197 entries, 0 to 383567\n",
            "Data columns (total 20 columns):\n",
            " #   Column                    Non-Null Count   Dtype  \n",
            "---  ------                    --------------   -----  \n",
            " 0   CIUDAD_ORIGEN             382197 non-null  object \n",
            " 1   CIUDAD_DESTINO            382197 non-null  object \n",
            " 2   TIPO_TREN                 382197 non-null  object \n",
            " 3   TIPO_TARIFA               382197 non-null  object \n",
            " 4   CLASE                     382197 non-null  object \n",
            " 5   PRECIO                    382197 non-null  float64\n",
            " 6   Tiempo_Viaje              382197 non-null  float64\n",
            " 7   Dif_Ini_Bus               382197 non-null  float64\n",
            " 8   FECHA_CONSULTA_HORA       382197 non-null  int64  \n",
            " 9   FECHA_CONSULTA_NOMBREDIA  382197 non-null  object \n",
            " 10  FECHA_CONSULTA_DIA        382197 non-null  int64  \n",
            " 11  FECHA_CONSULTA_MES        382197 non-null  int64  \n",
            " 12  FECHA_INICIO_HORA         382197 non-null  int64  \n",
            " 13  FECHA_INICIO_NOMBREDIA    382197 non-null  object \n",
            " 14  FECHA_INICIO_DIA          382197 non-null  int64  \n",
            " 15  FECHA_INICIO_MES          382197 non-null  int64  \n",
            " 16  FECHA_FIN_HORA            382197 non-null  int64  \n",
            " 17  FECHA_FIN_NOMBREDIA       382197 non-null  object \n",
            " 18  FECHA_FIN_DIA             382197 non-null  int64  \n",
            " 19  FECHA_FIN_MES             382197 non-null  int64  \n",
            "dtypes: float64(3), int64(9), object(8)\n",
            "memory usage: 61.2+ MB\n"
          ]
        }
      ]
    },
    {
      "cell_type": "code",
      "source": [
        "target = [\"PRECIO\"]"
      ],
      "metadata": {
        "id": "HlQsZ4l4-ZTA"
      },
      "execution_count": 35,
      "outputs": []
    },
    {
      "cell_type": "code",
      "source": [
        "def obtenerlistavariables(dataset):\n",
        "  lista_num = []\n",
        "  lista_booleans = []\n",
        "  lista_cat = []\n",
        "  for i in dataset:\n",
        "    if (dataset[i].dtype.kind == \"i\" or dataset[i].dtype.kind == \"f\") and (i not in target) and (len(dataset[i].unique()) != 2):\n",
        "      lista_num.append(i)\n",
        "    elif (dataset[i].dtype.kind == \"i\" or dataset[i].dtype.kind == \"f\") and (i not in target) and (len(dataset[i].unique()) == 2):\n",
        "      lista_booleans.append(i)\n",
        "    elif (dataset[i].dtype.kind == \"O\") and i not in (target):\n",
        "      lista_cat.append(i)\n",
        "  return lista_num, lista_booleans, lista_cat"
      ],
      "metadata": {
        "id": "N48hV9R99S6n"
      },
      "execution_count": 36,
      "outputs": []
    },
    {
      "cell_type": "code",
      "source": [
        "l_num, l_bool, l_cat = obtenerlistavariables(renfe3)"
      ],
      "metadata": {
        "id": "PR8YM17e-HyA"
      },
      "execution_count": 37,
      "outputs": []
    },
    {
      "cell_type": "code",
      "source": [
        "l_num"
      ],
      "metadata": {
        "id": "9WGzoRQA-cKO",
        "colab": {
          "base_uri": "https://localhost:8080/"
        },
        "outputId": "d7f153da-677f-4266-ee6a-c91d8877a855"
      },
      "execution_count": 38,
      "outputs": [
        {
          "output_type": "execute_result",
          "data": {
            "text/plain": [
              "['Tiempo_Viaje',\n",
              " 'Dif_Ini_Bus',\n",
              " 'FECHA_CONSULTA_HORA',\n",
              " 'FECHA_CONSULTA_DIA',\n",
              " 'FECHA_CONSULTA_MES',\n",
              " 'FECHA_INICIO_HORA',\n",
              " 'FECHA_INICIO_DIA',\n",
              " 'FECHA_INICIO_MES',\n",
              " 'FECHA_FIN_HORA',\n",
              " 'FECHA_FIN_DIA',\n",
              " 'FECHA_FIN_MES']"
            ]
          },
          "metadata": {},
          "execution_count": 38
        }
      ]
    },
    {
      "cell_type": "code",
      "source": [
        "l_cat"
      ],
      "metadata": {
        "id": "2GCznGtX-fmE",
        "colab": {
          "base_uri": "https://localhost:8080/"
        },
        "outputId": "eb44af3b-b8dc-4c18-909a-69458622ca82"
      },
      "execution_count": 39,
      "outputs": [
        {
          "output_type": "execute_result",
          "data": {
            "text/plain": [
              "['CIUDAD_ORIGEN',\n",
              " 'CIUDAD_DESTINO',\n",
              " 'TIPO_TREN',\n",
              " 'TIPO_TARIFA',\n",
              " 'CLASE',\n",
              " 'FECHA_CONSULTA_NOMBREDIA',\n",
              " 'FECHA_INICIO_NOMBREDIA',\n",
              " 'FECHA_FIN_NOMBREDIA']"
            ]
          },
          "metadata": {},
          "execution_count": 39
        }
      ]
    },
    {
      "cell_type": "code",
      "source": [
        "l_bool"
      ],
      "metadata": {
        "id": "M1dE9IWq_Dbl",
        "colab": {
          "base_uri": "https://localhost:8080/"
        },
        "outputId": "9784163e-1c7d-43e9-9cec-386ee39d9c33"
      },
      "execution_count": 40,
      "outputs": [
        {
          "output_type": "execute_result",
          "data": {
            "text/plain": [
              "[]"
            ]
          },
          "metadata": {},
          "execution_count": 40
        }
      ]
    },
    {
      "cell_type": "code",
      "source": [
        "for i in l_num:\n",
        "  renfe3.hist(i)"
      ],
      "metadata": {
        "id": "HsuPTHU6_LRY",
        "colab": {
          "base_uri": "https://localhost:8080/",
          "height": 1000
        },
        "outputId": "5b081378-d92e-4752-b91a-02b5a002451c"
      },
      "execution_count": 50,
      "outputs": [
        {
          "output_type": "display_data",
          "data": {
            "text/plain": [
              "<Figure size 432x288 with 1 Axes>"
            ],
            "image/png": "[encoded data removed]"
          },
          "metadata": {
            "needs_background": "light"
          }
        },
        {
          "output_type": "display_data",
          "data": {
            "text/plain": [
              "<Figure size 432x288 with 1 Axes>"
            ],
            "image/png": "[encoded data removed]"
          },
          "metadata": {
            "needs_background": "light"
          }
        },
        {
          "output_type": "display_data",
          "data": {
            "text/plain": [
              "<Figure size 432x288 with 1 Axes>"
            ],
            "image/png": "[encoded data removed]"
          },
          "metadata": {
            "needs_background": "light"
          }
        },
        {
          "output_type": "display_data",
          "data": {
            "text/plain": [
              "<Figure size 432x288 with 1 Axes>"
            ],
            "image/png": "[encoded data removed]"
          },
          "metadata": {
            "needs_background": "light"
          }
        },
        {
          "output_type": "display_data",
          "data": {
            "text/plain": [
              "<Figure size 432x288 with 1 Axes>"
            ],
            "image/png": "[encoded data removed]"
          },
          "metadata": {
            "needs_background": "light"
          }
        },
        {
          "output_type": "display_data",
          "data": {
            "text/plain": [
              "<Figure size 432x288 with 1 Axes>"
            ],
            "image/png": "[encoded data removed]"
          },
          "metadata": {
            "needs_background": "light"
          }
        },
        {
          "output_type": "display_data",
          "data": {
            "text/plain": [
              "<Figure size 432x288 with 1 Axes>"
            ],
            "image/png": "[encoded data removed]"
          },
          "metadata": {
            "needs_background": "light"
          }
        },
        {
          "output_type": "display_data",
          "data": {
            "text/plain": [
              "<Figure size 432x288 with 1 Axes>"
            ],
            "image/png": "[encoded data removed]"
          },
          "metadata": {
            "needs_background": "light"
          }
        },
        {
          "output_type": "display_data",
          "data": {
            "text/plain": [
              "<Figure size 432x288 with 1 Axes>"
            ],
            "image/png": "[encoded data removed]"
          },
          "metadata": {
            "needs_background": "light"
          }
        },
        {
          "output_type": "display_data",
          "data": {
            "text/plain": [
              "<Figure size 432x288 with 1 Axes>"
            ],
            "image/png": "[encoded data removed]"
          },
          "metadata": {
            "needs_background": "light"
          }
        },
        {
          "output_type": "display_data",
          "data": {
            "text/plain": [
              "<Figure size 432x288 with 1 Axes>"
            ],
            "image/png": "[encoded data removed]"
          },
          "metadata": {
            "needs_background": "light"
          }
        }
      ]
    },
    {
      "cell_type": "code",
      "source": [
        "for i in l_cat:\n",
        "  print(renfe3[i].value_counts(),'\\n')"
      ],
      "metadata": {
        "id": "WeTbDNQb_Q89",
        "colab": {
          "base_uri": "https://localhost:8080/"
        },
        "outputId": "56a601a7-6067-4bc0-c51a-d05ff266d0fb"
      },
      "execution_count": 42,
      "outputs": [
        {
          "output_type": "stream",
          "name": "stdout",
          "text": [
            "MADRID        191083\n",
            "BARCELONA      61647\n",
            "SEVILLA        60583\n",
            "VALENCIA       53266\n",
            "PONFERRADA     15618\n",
            "Name: CIUDAD_ORIGEN, dtype: int64 \n",
            "\n",
            "MADRID        191114\n",
            "BARCELONA      63847\n",
            "SEVILLA        60498\n",
            "VALENCIA       58028\n",
            "PONFERRADA      8710\n",
            "Name: CIUDAD_DESTINO, dtype: int64 \n",
            "\n",
            "AVE          262306\n",
            "ALVIA         30090\n",
            "INTERCITY     19491\n",
            "REGIONAL      18654\n",
            "AV City       10659\n",
            "MD-LD          8238\n",
            "LD             6472\n",
            "AVE-TGV        5074\n",
            "R. EXPRES      4639\n",
            "TRENHOTEL      4259\n",
            "AVE-LD         3865\n",
            "AVE-MD         3234\n",
            "LD-MD          3083\n",
            "MD-AVE          947\n",
            "MD              616\n",
            "LD-AVE          570\n",
            "Name: TIPO_TREN, dtype: int64 \n",
            "\n",
            "Promo                      266484\n",
            "Flexible                    82348\n",
            "Adulto ida                  24007\n",
            "Promo +                      9164\n",
            "COD.PROMOCIONAL               168\n",
            "Individual-Flexible            13\n",
            "Mesa                            8\n",
            "Doble Familiar-Flexible         3\n",
            "4x100                           1\n",
            "Grupos Ida                      1\n",
            "Name: TIPO_TARIFA, dtype: int64 \n",
            "\n",
            "Turista                     290733\n",
            "Preferente                   37761\n",
            "Turista Plus                 27069\n",
            "Turista con enlace           23264\n",
            "TuristaSólo plaza H           2724\n",
            "PreferenteSólo plaza H         343\n",
            "Cama Turista                   285\n",
            "Cama G. Clase                   16\n",
            "Turista PlusSólo plaza H         2\n",
            "Name: CLASE, dtype: int64 \n",
            "\n",
            "Sunday       59018\n",
            "Friday       55561\n",
            "Wednesday    55351\n",
            "Thursday     54848\n",
            "Saturday     52870\n",
            "Monday       52321\n",
            "Tuesday      52228\n",
            "Name: FECHA_CONSULTA_NOMBREDIA, dtype: int64 \n",
            "\n",
            "Thursday     59441\n",
            "Friday       58025\n",
            "Tuesday      57543\n",
            "Wednesday    57299\n",
            "Monday       56595\n",
            "Sunday       52702\n",
            "Saturday     40592\n",
            "Name: FECHA_INICIO_NOMBREDIA, dtype: int64 \n",
            "\n",
            "Thursday     59415\n",
            "Friday       58050\n",
            "Tuesday      57593\n",
            "Wednesday    57317\n",
            "Monday       56516\n",
            "Sunday       52446\n",
            "Saturday     40860\n",
            "Name: FECHA_FIN_NOMBREDIA, dtype: int64 \n",
            "\n"
          ]
        }
      ]
    },
    {
      "cell_type": "code",
      "source": [
        "renfe4 = renfe3[renfe3[\"Dif_Ini_Bus\"]>0]"
      ],
      "metadata": {
        "id": "qp8jplW5AhiG"
      },
      "execution_count": 45,
      "outputs": []
    },
    {
      "cell_type": "code",
      "source": [
        "renfe4.shape"
      ],
      "metadata": {
        "colab": {
          "base_uri": "https://localhost:8080/"
        },
        "id": "brp-zTxWkTY1",
        "outputId": "10b42927-5ae7-47cb-e74a-8d91f75e8422"
      },
      "execution_count": 80,
      "outputs": [
        {
          "output_type": "execute_result",
          "data": {
            "text/plain": [
              "(381553, 20)"
            ]
          },
          "metadata": {},
          "execution_count": 80
        }
      ]
    },
    {
      "cell_type": "code",
      "source": [],
      "metadata": {
        "id": "cdNCYWvqp94V"
      },
      "execution_count": null,
      "outputs": []
    },
    {
      "cell_type": "code",
      "source": [
        "renfe5 = renfe4.sort_values(by=['FECHA_CONSULTA_MES','FECHA_CONSULTA_DIA'])\n",
        "renfe5.head(1)"
      ],
      "metadata": {
        "colab": {
          "base_uri": "https://localhost:8080/",
          "height": 145
        },
        "id": "16Oq-Finp97g",
        "outputId": "a295f454-5c84-49d1-c3aa-03d3a8991854"
      },
      "execution_count": 64,
      "outputs": [
        {
          "output_type": "execute_result",
          "data": {
            "text/plain": [
              "    CIUDAD_ORIGEN CIUDAD_DESTINO TIPO_TREN TIPO_TARIFA       CLASE  PRECIO  \\\n",
              "113        MADRID      BARCELONA       AVE       Promo  Preferente  115.65   \n",
              "\n",
              "     Tiempo_Viaje   Dif_Ini_Bus  FECHA_CONSULTA_HORA FECHA_CONSULTA_NOMBREDIA  \\\n",
              "113         150.0  54412.483333                   23                 Thursday   \n",
              "\n",
              "     FECHA_CONSULTA_DIA  FECHA_CONSULTA_MES  FECHA_INICIO_HORA  \\\n",
              "113                  11                   4                 18   \n",
              "\n",
              "    FECHA_INICIO_NOMBREDIA  FECHA_INICIO_DIA  FECHA_INICIO_MES  \\\n",
              "113                 Sunday                19                 5   \n",
              "\n",
              "     FECHA_FIN_HORA FECHA_FIN_NOMBREDIA  FECHA_FIN_DIA  FECHA_FIN_MES  \n",
              "113              20              Sunday             19              5  "
            ],
            "text/html": [
              "\n",
              "  <div id=\"df-2402cbeb-1a69-481d-9bce-d2ec100221d5\">\n",
              "    <div class=\"colab-df-container\">\n",
              "      <div>\n",
              "<style scoped>\n",
              "    .dataframe tbody tr th:only-of-type {\n",
              "        vertical-align: middle;\n",
              "    }\n",
              "\n",
              "    .dataframe tbody tr th {\n",
              "        vertical-align: top;\n",
              "    }\n",
              "\n",
              "    .dataframe thead th {\n",
              "        text-align: right;\n",
              "    }\n",
              "</style>\n",
              "<table border=\"1\" class=\"dataframe\">\n",
              "  <thead>\n",
              "    <tr style=\"text-align: right;\">\n",
              "      <th></th>\n",
              "      <th>CIUDAD_ORIGEN</th>\n",
              "      <th>CIUDAD_DESTINO</th>\n",
              "      <th>TIPO_TREN</th>\n",
              "      <th>TIPO_TARIFA</th>\n",
              "      <th>CLASE</th>\n",
              "      <th>PRECIO</th>\n",
              "      <th>Tiempo_Viaje</th>\n",
              "      <th>Dif_Ini_Bus</th>\n",
              "      <th>FECHA_CONSULTA_HORA</th>\n",
              "      <th>FECHA_CONSULTA_NOMBREDIA</th>\n",
              "      <th>FECHA_CONSULTA_DIA</th>\n",
              "      <th>FECHA_CONSULTA_MES</th>\n",
              "      <th>FECHA_INICIO_HORA</th>\n",
              "      <th>FECHA_INICIO_NOMBREDIA</th>\n",
              "      <th>FECHA_INICIO_DIA</th>\n",
              "      <th>FECHA_INICIO_MES</th>\n",
              "      <th>FECHA_FIN_HORA</th>\n",
              "      <th>FECHA_FIN_NOMBREDIA</th>\n",
              "      <th>FECHA_FIN_DIA</th>\n",
              "      <th>FECHA_FIN_MES</th>\n",
              "    </tr>\n",
              "  </thead>\n",
              "  <tbody>\n",
              "    <tr>\n",
              "      <th>113</th>\n",
              "      <td>MADRID</td>\n",
              "      <td>BARCELONA</td>\n",
              "      <td>AVE</td>\n",
              "      <td>Promo</td>\n",
              "      <td>Preferente</td>\n",
              "      <td>115.65</td>\n",
              "      <td>150.0</td>\n",
              "      <td>54412.483333</td>\n",
              "      <td>23</td>\n",
              "      <td>Thursday</td>\n",
              "      <td>11</td>\n",
              "      <td>4</td>\n",
              "      <td>18</td>\n",
              "      <td>Sunday</td>\n",
              "      <td>19</td>\n",
              "      <td>5</td>\n",
              "      <td>20</td>\n",
              "      <td>Sunday</td>\n",
              "      <td>19</td>\n",
              "      <td>5</td>\n",
              "    </tr>\n",
              "  </tbody>\n",
              "</table>\n",
              "</div>\n",
              "      <button class=\"colab-df-convert\" onclick=\"convertToInteractive('df-2402cbeb-1a69-481d-9bce-d2ec100221d5')\"\n",
              "              title=\"Convert this dataframe to an interactive table.\"\n",
              "              style=\"display:none;\">\n",
              "        \n",
              "  <svg xmlns=\"http://www.w3.org/2000/svg\" height=\"24px\"viewBox=\"0 0 24 24\"\n",
              "       width=\"24px\">\n",
              "    <path d=\"M0 0h24v24H0V0z\" fill=\"none\"/>\n",
              "    <path d=\"M18.56 5.44l.94 2.06.94-2.06 2.06-.94-2.06-.94-.94-2.06-.94 2.06-2.06.94zm-11 1L8.5 8.5l.94-2.06 2.06-.94-2.06-.94L8.5 2.5l-.94 2.06-2.06.94zm10 10l.94 2.06.94-2.06 2.06-.94-2.06-.94-.94-2.06-.94 2.06-2.06.94z\"/><path d=\"M17.41 7.96l-1.37-1.37c-.4-.4-.92-.59-1.43-.59-.52 0-1.04.2-1.43.59L10.3 9.45l-7.72 7.72c-.78.78-.78 2.05 0 2.83L4 21.41c.39.39.9.59 1.41.59.51 0 1.02-.2 1.41-.59l7.78-7.78 2.81-2.81c.8-.78.8-2.07 0-2.86zM5.41 20L4 18.59l7.72-7.72 1.47 1.35L5.41 20z\"/>\n",
              "  </svg>\n",
              "      </button>\n",
              "      \n",
              "  <style>\n",
              "    .colab-df-container {\n",
              "      display:flex;\n",
              "      flex-wrap:wrap;\n",
              "      gap: 12px;\n",
              "    }\n",
              "\n",
              "    .colab-df-convert {\n",
              "      background-color: #E8F0FE;\n",
              "      border: none;\n",
              "      border-radius: 50%;\n",
              "      cursor: pointer;\n",
              "      display: none;\n",
              "      fill: #1967D2;\n",
              "      height: 32px;\n",
              "      padding: 0 0 0 0;\n",
              "      width: 32px;\n",
              "    }\n",
              "\n",
              "    .colab-df-convert:hover {\n",
              "      background-color: #E2EBFA;\n",
              "      box-shadow: 0px 1px 2px rgba(60, 64, 67, 0.3), 0px 1px 3px 1px rgba(60, 64, 67, 0.15);\n",
              "      fill: #174EA6;\n",
              "    }\n",
              "\n",
              "    [theme=dark] .colab-df-convert {\n",
              "      background-color: #3B4455;\n",
              "      fill: #D2E3FC;\n",
              "    }\n",
              "\n",
              "    [theme=dark] .colab-df-convert:hover {\n",
              "      background-color: #434B5C;\n",
              "      box-shadow: 0px 1px 3px 1px rgba(0, 0, 0, 0.15);\n",
              "      filter: drop-shadow(0px 1px 2px rgba(0, 0, 0, 0.3));\n",
              "      fill: #FFFFFF;\n",
              "    }\n",
              "  </style>\n",
              "\n",
              "      <script>\n",
              "        const buttonEl =\n",
              "          document.querySelector('#df-2402cbeb-1a69-481d-9bce-d2ec100221d5 button.colab-df-convert');\n",
              "        buttonEl.style.display =\n",
              "          google.colab.kernel.accessAllowed ? 'block' : 'none';\n",
              "\n",
              "        async function convertToInteractive(key) {\n",
              "          const element = document.querySelector('#df-2402cbeb-1a69-481d-9bce-d2ec100221d5');\n",
              "          const dataTable =\n",
              "            await google.colab.kernel.invokeFunction('convertToInteractive',\n",
              "                                                     [key], {});\n",
              "          if (!dataTable) return;\n",
              "\n",
              "          const docLinkHtml = 'Like what you see? Visit the ' +\n",
              "            '<a target=\"_blank\" href=https://colab.research.google.com/notebooks/data_table.ipynb>data table notebook</a>'\n",
              "            + ' to learn more about interactive tables.';\n",
              "          element.innerHTML = '';\n",
              "          dataTable['output_type'] = 'display_data';\n",
              "          await google.colab.output.renderOutput(dataTable, element);\n",
              "          const docLink = document.createElement('div');\n",
              "          docLink.innerHTML = docLinkHtml;\n",
              "          element.appendChild(docLink);\n",
              "        }\n",
              "      </script>\n",
              "    </div>\n",
              "  </div>\n",
              "  "
            ]
          },
          "metadata": {},
          "execution_count": 64
        }
      ]
    },
    {
      "cell_type": "code",
      "source": [
        "renfe5.tail(1)"
      ],
      "metadata": {
        "colab": {
          "base_uri": "https://localhost:8080/",
          "height": 145
        },
        "id": "dngPK5Wdp9-C",
        "outputId": "f5a65390-d177-4a20-c9dc-6a813f5220d2"
      },
      "execution_count": 58,
      "outputs": [
        {
          "output_type": "execute_result",
          "data": {
            "text/plain": [
              "       CIUDAD_ORIGEN CIUDAD_DESTINO TIPO_TREN TIPO_TARIFA    CLASE  PRECIO  \\\n",
              "380818        MADRID        SEVILLA     ALVIA       Promo  Turista   47.05   \n",
              "\n",
              "        Tiempo_Viaje   Dif_Ini_Bus  FECHA_CONSULTA_HORA  \\\n",
              "380818         164.0  62725.616667                   19   \n",
              "\n",
              "       FECHA_CONSULTA_NOMBREDIA  FECHA_CONSULTA_DIA  FECHA_CONSULTA_MES  \\\n",
              "380818                 Thursday                  22                   8   \n",
              "\n",
              "        FECHA_INICIO_HORA FECHA_INICIO_NOMBREDIA  FECHA_INICIO_DIA  \\\n",
              "380818                  8               Saturday                 5   \n",
              "\n",
              "        FECHA_INICIO_MES  FECHA_FIN_HORA FECHA_FIN_NOMBREDIA  FECHA_FIN_DIA  \\\n",
              "380818                10              11            Saturday              5   \n",
              "\n",
              "        FECHA_FIN_MES  \n",
              "380818             10  "
            ],
            "text/html": [
              "\n",
              "  <div id=\"df-9298823e-f21f-43e4-a3d7-f799db98e7f0\">\n",
              "    <div class=\"colab-df-container\">\n",
              "      <div>\n",
              "<style scoped>\n",
              "    .dataframe tbody tr th:only-of-type {\n",
              "        vertical-align: middle;\n",
              "    }\n",
              "\n",
              "    .dataframe tbody tr th {\n",
              "        vertical-align: top;\n",
              "    }\n",
              "\n",
              "    .dataframe thead th {\n",
              "        text-align: right;\n",
              "    }\n",
              "</style>\n",
              "<table border=\"1\" class=\"dataframe\">\n",
              "  <thead>\n",
              "    <tr style=\"text-align: right;\">\n",
              "      <th></th>\n",
              "      <th>CIUDAD_ORIGEN</th>\n",
              "      <th>CIUDAD_DESTINO</th>\n",
              "      <th>TIPO_TREN</th>\n",
              "      <th>TIPO_TARIFA</th>\n",
              "      <th>CLASE</th>\n",
              "      <th>PRECIO</th>\n",
              "      <th>Tiempo_Viaje</th>\n",
              "      <th>Dif_Ini_Bus</th>\n",
              "      <th>FECHA_CONSULTA_HORA</th>\n",
              "      <th>FECHA_CONSULTA_NOMBREDIA</th>\n",
              "      <th>FECHA_CONSULTA_DIA</th>\n",
              "      <th>FECHA_CONSULTA_MES</th>\n",
              "      <th>FECHA_INICIO_HORA</th>\n",
              "      <th>FECHA_INICIO_NOMBREDIA</th>\n",
              "      <th>FECHA_INICIO_DIA</th>\n",
              "      <th>FECHA_INICIO_MES</th>\n",
              "      <th>FECHA_FIN_HORA</th>\n",
              "      <th>FECHA_FIN_NOMBREDIA</th>\n",
              "      <th>FECHA_FIN_DIA</th>\n",
              "      <th>FECHA_FIN_MES</th>\n",
              "    </tr>\n",
              "  </thead>\n",
              "  <tbody>\n",
              "    <tr>\n",
              "      <th>380818</th>\n",
              "      <td>MADRID</td>\n",
              "      <td>SEVILLA</td>\n",
              "      <td>ALVIA</td>\n",
              "      <td>Promo</td>\n",
              "      <td>Turista</td>\n",
              "      <td>47.05</td>\n",
              "      <td>164.0</td>\n",
              "      <td>62725.616667</td>\n",
              "      <td>19</td>\n",
              "      <td>Thursday</td>\n",
              "      <td>22</td>\n",
              "      <td>8</td>\n",
              "      <td>8</td>\n",
              "      <td>Saturday</td>\n",
              "      <td>5</td>\n",
              "      <td>10</td>\n",
              "      <td>11</td>\n",
              "      <td>Saturday</td>\n",
              "      <td>5</td>\n",
              "      <td>10</td>\n",
              "    </tr>\n",
              "  </tbody>\n",
              "</table>\n",
              "</div>\n",
              "      <button class=\"colab-df-convert\" onclick=\"convertToInteractive('df-9298823e-f21f-43e4-a3d7-f799db98e7f0')\"\n",
              "              title=\"Convert this dataframe to an interactive table.\"\n",
              "              style=\"display:none;\">\n",
              "        \n",
              "  <svg xmlns=\"http://www.w3.org/2000/svg\" height=\"24px\"viewBox=\"0 0 24 24\"\n",
              "       width=\"24px\">\n",
              "    <path d=\"M0 0h24v24H0V0z\" fill=\"none\"/>\n",
              "    <path d=\"M18.56 5.44l.94 2.06.94-2.06 2.06-.94-2.06-.94-.94-2.06-.94 2.06-2.06.94zm-11 1L8.5 8.5l.94-2.06 2.06-.94-2.06-.94L8.5 2.5l-.94 2.06-2.06.94zm10 10l.94 2.06.94-2.06 2.06-.94-2.06-.94-.94-2.06-.94 2.06-2.06.94z\"/><path d=\"M17.41 7.96l-1.37-1.37c-.4-.4-.92-.59-1.43-.59-.52 0-1.04.2-1.43.59L10.3 9.45l-7.72 7.72c-.78.78-.78 2.05 0 2.83L4 21.41c.39.39.9.59 1.41.59.51 0 1.02-.2 1.41-.59l7.78-7.78 2.81-2.81c.8-.78.8-2.07 0-2.86zM5.41 20L4 18.59l7.72-7.72 1.47 1.35L5.41 20z\"/>\n",
              "  </svg>\n",
              "      </button>\n",
              "      \n",
              "  <style>\n",
              "    .colab-df-container {\n",
              "      display:flex;\n",
              "      flex-wrap:wrap;\n",
              "      gap: 12px;\n",
              "    }\n",
              "\n",
              "    .colab-df-convert {\n",
              "      background-color: #E8F0FE;\n",
              "      border: none;\n",
              "      border-radius: 50%;\n",
              "      cursor: pointer;\n",
              "      display: none;\n",
              "      fill: #1967D2;\n",
              "      height: 32px;\n",
              "      padding: 0 0 0 0;\n",
              "      width: 32px;\n",
              "    }\n",
              "\n",
              "    .colab-df-convert:hover {\n",
              "      background-color: #E2EBFA;\n",
              "      box-shadow: 0px 1px 2px rgba(60, 64, 67, 0.3), 0px 1px 3px 1px rgba(60, 64, 67, 0.15);\n",
              "      fill: #174EA6;\n",
              "    }\n",
              "\n",
              "    [theme=dark] .colab-df-convert {\n",
              "      background-color: #3B4455;\n",
              "      fill: #D2E3FC;\n",
              "    }\n",
              "\n",
              "    [theme=dark] .colab-df-convert:hover {\n",
              "      background-color: #434B5C;\n",
              "      box-shadow: 0px 1px 3px 1px rgba(0, 0, 0, 0.15);\n",
              "      filter: drop-shadow(0px 1px 2px rgba(0, 0, 0, 0.3));\n",
              "      fill: #FFFFFF;\n",
              "    }\n",
              "  </style>\n",
              "\n",
              "      <script>\n",
              "        const buttonEl =\n",
              "          document.querySelector('#df-9298823e-f21f-43e4-a3d7-f799db98e7f0 button.colab-df-convert');\n",
              "        buttonEl.style.display =\n",
              "          google.colab.kernel.accessAllowed ? 'block' : 'none';\n",
              "\n",
              "        async function convertToInteractive(key) {\n",
              "          const element = document.querySelector('#df-9298823e-f21f-43e4-a3d7-f799db98e7f0');\n",
              "          const dataTable =\n",
              "            await google.colab.kernel.invokeFunction('convertToInteractive',\n",
              "                                                     [key], {});\n",
              "          if (!dataTable) return;\n",
              "\n",
              "          const docLinkHtml = 'Like what you see? Visit the ' +\n",
              "            '<a target=\"_blank\" href=https://colab.research.google.com/notebooks/data_table.ipynb>data table notebook</a>'\n",
              "            + ' to learn more about interactive tables.';\n",
              "          element.innerHTML = '';\n",
              "          dataTable['output_type'] = 'display_data';\n",
              "          await google.colab.output.renderOutput(dataTable, element);\n",
              "          const docLink = document.createElement('div');\n",
              "          docLink.innerHTML = docLinkHtml;\n",
              "          element.appendChild(docLink);\n",
              "        }\n",
              "      </script>\n",
              "    </div>\n",
              "  </div>\n",
              "  "
            ]
          },
          "metadata": {},
          "execution_count": 58
        }
      ]
    },
    {
      "cell_type": "code",
      "source": [
        "renfe5['PRECIO'].max()"
      ],
      "metadata": {
        "colab": {
          "base_uri": "https://localhost:8080/"
        },
        "id": "vt8VK_dDt3zq",
        "outputId": "dace68d9-9970-434c-bfbc-2c0577f13db0"
      },
      "execution_count": 66,
      "outputs": [
        {
          "output_type": "execute_result",
          "data": {
            "text/plain": [
              "342.8"
            ]
          },
          "metadata": {},
          "execution_count": 66
        }
      ]
    },
    {
      "cell_type": "code",
      "source": [
        "renfe5['PRECIO'].min()"
      ],
      "metadata": {
        "colab": {
          "base_uri": "https://localhost:8080/"
        },
        "id": "HdnRqSymt32I",
        "outputId": "0f9ee686-53ea-4a18-829b-54ca5be72c86"
      },
      "execution_count": 67,
      "outputs": [
        {
          "output_type": "execute_result",
          "data": {
            "text/plain": [
              "0.0"
            ]
          },
          "metadata": {},
          "execution_count": 67
        }
      ]
    },
    {
      "cell_type": "code",
      "source": [
        "renfe5.hist(\"PRECIO\")"
      ],
      "metadata": {
        "colab": {
          "base_uri": "https://localhost:8080/",
          "height": 316
        },
        "id": "Twx7EGpyt34U",
        "outputId": "4e5d82e7-f5f3-48c4-8dd7-c2668256972a"
      },
      "execution_count": 68,
      "outputs": [
        {
          "output_type": "execute_result",
          "data": {
            "text/plain": [
              "array([[<matplotlib.axes._subplots.AxesSubplot object at 0x7fa129972690>]],\n",
              "      dtype=object)"
            ]
          },
          "metadata": {},
          "execution_count": 68
        },
        {
          "output_type": "display_data",
          "data": {
            "text/plain": [
              "<Figure size 432x288 with 1 Axes>"
            ],
            "image/png": "[encoded data removed]"
          },
          "metadata": {
            "needs_background": "light"
          }
        }
      ]
    },
    {
      "cell_type": "code",
      "source": [
        "renfe5[renfe5[\"PRECIO\"] == 0]"
      ],
      "metadata": {
        "colab": {
          "base_uri": "https://localhost:8080/",
          "height": 176
        },
        "id": "yR4b6nzBt37Y",
        "outputId": "45b9719d-3161-4e97-9edc-4884bb44b769"
      },
      "execution_count": 75,
      "outputs": [
        {
          "output_type": "execute_result",
          "data": {
            "text/plain": [
              "       CIUDAD_ORIGEN CIUDAD_DESTINO TIPO_TREN TIPO_TARIFA       CLASE  PRECIO  \\\n",
              "136925     BARCELONA         MADRID   AVE-TGV    Flexible  Preferente     0.0   \n",
              "121961     BARCELONA         MADRID       AVE       4x100     Turista     0.0   \n",
              "\n",
              "        Tiempo_Viaje   Dif_Ini_Bus  FECHA_CONSULTA_HORA  \\\n",
              "136925         175.0   5016.516667                    1   \n",
              "121961         190.0  68338.650000                    9   \n",
              "\n",
              "       FECHA_CONSULTA_NOMBREDIA  FECHA_CONSULTA_DIA  FECHA_CONSULTA_MES  \\\n",
              "136925                 Thursday                  13                   6   \n",
              "121961                   Monday                  17                   6   \n",
              "\n",
              "        FECHA_INICIO_HORA FECHA_INICIO_NOMBREDIA  FECHA_INICIO_DIA  \\\n",
              "136925                 12                 Sunday                16   \n",
              "121961                 20               Saturday                 3   \n",
              "\n",
              "        FECHA_INICIO_MES  FECHA_FIN_HORA FECHA_FIN_NOMBREDIA  FECHA_FIN_DIA  \\\n",
              "136925                 6              15              Sunday             16   \n",
              "121961                 8              23            Saturday              3   \n",
              "\n",
              "        FECHA_FIN_MES  \n",
              "136925              6  \n",
              "121961              8  "
            ],
            "text/html": [
              "\n",
              "  <div id=\"df-952515a0-6f81-47c6-8c15-775bc466b0e2\">\n",
              "    <div class=\"colab-df-container\">\n",
              "      <div>\n",
              "<style scoped>\n",
              "    .dataframe tbody tr th:only-of-type {\n",
              "        vertical-align: middle;\n",
              "    }\n",
              "\n",
              "    .dataframe tbody tr th {\n",
              "        vertical-align: top;\n",
              "    }\n",
              "\n",
              "    .dataframe thead th {\n",
              "        text-align: right;\n",
              "    }\n",
              "</style>\n",
              "<table border=\"1\" class=\"dataframe\">\n",
              "  <thead>\n",
              "    <tr style=\"text-align: right;\">\n",
              "      <th></th>\n",
              "      <th>CIUDAD_ORIGEN</th>\n",
              "      <th>CIUDAD_DESTINO</th>\n",
              "      <th>TIPO_TREN</th>\n",
              "      <th>TIPO_TARIFA</th>\n",
              "      <th>CLASE</th>\n",
              "      <th>PRECIO</th>\n",
              "      <th>Tiempo_Viaje</th>\n",
              "      <th>Dif_Ini_Bus</th>\n",
              "      <th>FECHA_CONSULTA_HORA</th>\n",
              "      <th>FECHA_CONSULTA_NOMBREDIA</th>\n",
              "      <th>FECHA_CONSULTA_DIA</th>\n",
              "      <th>FECHA_CONSULTA_MES</th>\n",
              "      <th>FECHA_INICIO_HORA</th>\n",
              "      <th>FECHA_INICIO_NOMBREDIA</th>\n",
              "      <th>FECHA_INICIO_DIA</th>\n",
              "      <th>FECHA_INICIO_MES</th>\n",
              "      <th>FECHA_FIN_HORA</th>\n",
              "      <th>FECHA_FIN_NOMBREDIA</th>\n",
              "      <th>FECHA_FIN_DIA</th>\n",
              "      <th>FECHA_FIN_MES</th>\n",
              "    </tr>\n",
              "  </thead>\n",
              "  <tbody>\n",
              "    <tr>\n",
              "      <th>136925</th>\n",
              "      <td>BARCELONA</td>\n",
              "      <td>MADRID</td>\n",
              "      <td>AVE-TGV</td>\n",
              "      <td>Flexible</td>\n",
              "      <td>Preferente</td>\n",
              "      <td>0.0</td>\n",
              "      <td>175.0</td>\n",
              "      <td>5016.516667</td>\n",
              "      <td>1</td>\n",
              "      <td>Thursday</td>\n",
              "      <td>13</td>\n",
              "      <td>6</td>\n",
              "      <td>12</td>\n",
              "      <td>Sunday</td>\n",
              "      <td>16</td>\n",
              "      <td>6</td>\n",
              "      <td>15</td>\n",
              "      <td>Sunday</td>\n",
              "      <td>16</td>\n",
              "      <td>6</td>\n",
              "    </tr>\n",
              "    <tr>\n",
              "      <th>121961</th>\n",
              "      <td>BARCELONA</td>\n",
              "      <td>MADRID</td>\n",
              "      <td>AVE</td>\n",
              "      <td>4x100</td>\n",
              "      <td>Turista</td>\n",
              "      <td>0.0</td>\n",
              "      <td>190.0</td>\n",
              "      <td>68338.650000</td>\n",
              "      <td>9</td>\n",
              "      <td>Monday</td>\n",
              "      <td>17</td>\n",
              "      <td>6</td>\n",
              "      <td>20</td>\n",
              "      <td>Saturday</td>\n",
              "      <td>3</td>\n",
              "      <td>8</td>\n",
              "      <td>23</td>\n",
              "      <td>Saturday</td>\n",
              "      <td>3</td>\n",
              "      <td>8</td>\n",
              "    </tr>\n",
              "  </tbody>\n",
              "</table>\n",
              "</div>\n",
              "      <button class=\"colab-df-convert\" onclick=\"convertToInteractive('df-952515a0-6f81-47c6-8c15-775bc466b0e2')\"\n",
              "              title=\"Convert this dataframe to an interactive table.\"\n",
              "              style=\"display:none;\">\n",
              "        \n",
              "  <svg xmlns=\"http://www.w3.org/2000/svg\" height=\"24px\"viewBox=\"0 0 24 24\"\n",
              "       width=\"24px\">\n",
              "    <path d=\"M0 0h24v24H0V0z\" fill=\"none\"/>\n",
              "    <path d=\"M18.56 5.44l.94 2.06.94-2.06 2.06-.94-2.06-.94-.94-2.06-.94 2.06-2.06.94zm-11 1L8.5 8.5l.94-2.06 2.06-.94-2.06-.94L8.5 2.5l-.94 2.06-2.06.94zm10 10l.94 2.06.94-2.06 2.06-.94-2.06-.94-.94-2.06-.94 2.06-2.06.94z\"/><path d=\"M17.41 7.96l-1.37-1.37c-.4-.4-.92-.59-1.43-.59-.52 0-1.04.2-1.43.59L10.3 9.45l-7.72 7.72c-.78.78-.78 2.05 0 2.83L4 21.41c.39.39.9.59 1.41.59.51 0 1.02-.2 1.41-.59l7.78-7.78 2.81-2.81c.8-.78.8-2.07 0-2.86zM5.41 20L4 18.59l7.72-7.72 1.47 1.35L5.41 20z\"/>\n",
              "  </svg>\n",
              "      </button>\n",
              "      \n",
              "  <style>\n",
              "    .colab-df-container {\n",
              "      display:flex;\n",
              "      flex-wrap:wrap;\n",
              "      gap: 12px;\n",
              "    }\n",
              "\n",
              "    .colab-df-convert {\n",
              "      background-color: #E8F0FE;\n",
              "      border: none;\n",
              "      border-radius: 50%;\n",
              "      cursor: pointer;\n",
              "      display: none;\n",
              "      fill: #1967D2;\n",
              "      height: 32px;\n",
              "      padding: 0 0 0 0;\n",
              "      width: 32px;\n",
              "    }\n",
              "\n",
              "    .colab-df-convert:hover {\n",
              "      background-color: #E2EBFA;\n",
              "      box-shadow: 0px 1px 2px rgba(60, 64, 67, 0.3), 0px 1px 3px 1px rgba(60, 64, 67, 0.15);\n",
              "      fill: #174EA6;\n",
              "    }\n",
              "\n",
              "    [theme=dark] .colab-df-convert {\n",
              "      background-color: #3B4455;\n",
              "      fill: #D2E3FC;\n",
              "    }\n",
              "\n",
              "    [theme=dark] .colab-df-convert:hover {\n",
              "      background-color: #434B5C;\n",
              "      box-shadow: 0px 1px 3px 1px rgba(0, 0, 0, 0.15);\n",
              "      filter: drop-shadow(0px 1px 2px rgba(0, 0, 0, 0.3));\n",
              "      fill: #FFFFFF;\n",
              "    }\n",
              "  </style>\n",
              "\n",
              "      <script>\n",
              "        const buttonEl =\n",
              "          document.querySelector('#df-952515a0-6f81-47c6-8c15-775bc466b0e2 button.colab-df-convert');\n",
              "        buttonEl.style.display =\n",
              "          google.colab.kernel.accessAllowed ? 'block' : 'none';\n",
              "\n",
              "        async function convertToInteractive(key) {\n",
              "          const element = document.querySelector('#df-952515a0-6f81-47c6-8c15-775bc466b0e2');\n",
              "          const dataTable =\n",
              "            await google.colab.kernel.invokeFunction('convertToInteractive',\n",
              "                                                     [key], {});\n",
              "          if (!dataTable) return;\n",
              "\n",
              "          const docLinkHtml = 'Like what you see? Visit the ' +\n",
              "            '<a target=\"_blank\" href=https://colab.research.google.com/notebooks/data_table.ipynb>data table notebook</a>'\n",
              "            + ' to learn more about interactive tables.';\n",
              "          element.innerHTML = '';\n",
              "          dataTable['output_type'] = 'display_data';\n",
              "          await google.colab.output.renderOutput(dataTable, element);\n",
              "          const docLink = document.createElement('div');\n",
              "          docLink.innerHTML = docLinkHtml;\n",
              "          element.appendChild(docLink);\n",
              "        }\n",
              "      </script>\n",
              "    </div>\n",
              "  </div>\n",
              "  "
            ]
          },
          "metadata": {},
          "execution_count": 75
        }
      ]
    },
    {
      "cell_type": "code",
      "source": [
        "renfe6 = renfe5[renfe5[\"PRECIO\"] != 0]\n"
      ],
      "metadata": {
        "id": "W3LjtAjGuXOO"
      },
      "execution_count": 70,
      "outputs": []
    },
    {
      "cell_type": "code",
      "source": [
        "renfe6[\"PRECIO\"].min()"
      ],
      "metadata": {
        "colab": {
          "base_uri": "https://localhost:8080/"
        },
        "id": "vZchSTN0ugtE",
        "outputId": "e4c7bf43-5ede-42cb-8323-5aef2154ef89"
      },
      "execution_count": 71,
      "outputs": [
        {
          "output_type": "execute_result",
          "data": {
            "text/plain": [
              "12.85"
            ]
          },
          "metadata": {},
          "execution_count": 71
        }
      ]
    },
    {
      "cell_type": "code",
      "source": [
        "renfe6[\"PRECIO\"].mean()"
      ],
      "metadata": {
        "colab": {
          "base_uri": "https://localhost:8080/"
        },
        "id": "8m0l3WF2ugvj",
        "outputId": "5db0bd7e-f7b4-4dc4-8eda-e56e8b648bb1"
      },
      "execution_count": 76,
      "outputs": [
        {
          "output_type": "execute_result",
          "data": {
            "text/plain": [
              "61.40882882976377"
            ]
          },
          "metadata": {},
          "execution_count": 76
        }
      ]
    },
    {
      "cell_type": "code",
      "source": [
        "renfe6[renfe6[\"FECHA_INICIO_MES\"] == 8]"
      ],
      "metadata": {
        "colab": {
          "base_uri": "https://localhost:8080/",
          "height": 574
        },
        "id": "tEAZGDc6xA74",
        "outputId": "7956d7d0-1d78-414c-e721-f047d7bb83d3"
      },
      "execution_count": 77,
      "outputs": [
        {
          "output_type": "execute_result",
          "data": {
            "text/plain": [
              "       CIUDAD_ORIGEN CIUDAD_DESTINO  TIPO_TREN TIPO_TARIFA  \\\n",
              "12369        SEVILLA         MADRID      ALVIA    Flexible   \n",
              "13329     PONFERRADA         MADRID      ALVIA       Promo   \n",
              "27595         MADRID     PONFERRADA      LD-MD    Flexible   \n",
              "30363       VALENCIA         MADRID        AVE       Promo   \n",
              "33720         MADRID     PONFERRADA      LD-MD    Flexible   \n",
              "...              ...            ...        ...         ...   \n",
              "380894     BARCELONA         MADRID  R. EXPRES  Adulto ida   \n",
              "380936     BARCELONA         MADRID        AVE       Promo   \n",
              "381152        MADRID       VALENCIA   REGIONAL  Adulto ida   \n",
              "381527        MADRID        SEVILLA        AVE       Promo   \n",
              "382536        MADRID      BARCELONA        AVE       Promo   \n",
              "\n",
              "                     CLASE  PRECIO  Tiempo_Viaje   Dif_Ini_Bus  \\\n",
              "12369              Turista   67.20         158.0  84417.066667   \n",
              "13329              Turista   33.50         244.0  84634.366667   \n",
              "27595   Turista con enlace   54.10         233.0  84452.800000   \n",
              "30363              Turista   33.65         100.0  84623.566667   \n",
              "33720   Turista con enlace   54.10         233.0  85624.200000   \n",
              "...                    ...     ...           ...           ...   \n",
              "380894             Turista   43.25         544.0   3096.850000   \n",
              "380936             Turista   85.08         190.0   3633.850000   \n",
              "381152             Turista   28.35         407.0   7359.833333   \n",
              "381527             Turista   53.40         152.0    771.133333   \n",
              "382536             Turista   85.10         190.0    916.766667   \n",
              "\n",
              "        FECHA_CONSULTA_HORA FECHA_CONSULTA_NOMBREDIA  FECHA_CONSULTA_DIA  \\\n",
              "12369                    21                   Monday                   3   \n",
              "13329                    11                   Monday                   3   \n",
              "27595                    23                   Monday                   3   \n",
              "30363                    15                   Monday                   3   \n",
              "33720                     3                   Monday                   3   \n",
              "...                     ...                      ...                 ...   \n",
              "380894                    5                 Thursday                  22   \n",
              "380936                    5                 Thursday                  22   \n",
              "381152                    3                 Thursday                  22   \n",
              "381527                    1                 Thursday                  22   \n",
              "382536                   16                 Thursday                  22   \n",
              "\n",
              "        FECHA_CONSULTA_MES  FECHA_INICIO_HORA FECHA_INICIO_NOMBREDIA  \\\n",
              "12369                    6                 12               Thursday   \n",
              "13329                    6                  6               Thursday   \n",
              "27595                    6                 14               Thursday   \n",
              "30363                    6                  9               Thursday   \n",
              "33720                    6                 14               Thursday   \n",
              "...                    ...                ...                    ...   \n",
              "380894                   8                  9               Saturday   \n",
              "380936                   8                 18               Saturday   \n",
              "381152                   8                  6                Tuesday   \n",
              "381527                   8                 14               Thursday   \n",
              "382536                   8                  7                 Friday   \n",
              "\n",
              "        FECHA_INICIO_DIA  FECHA_INICIO_MES  FECHA_FIN_HORA  \\\n",
              "12369                  1                 8              14   \n",
              "13329                  1                 8              10   \n",
              "27595                  1                 8              18   \n",
              "30363                  1                 8              11   \n",
              "33720                  1                 8              18   \n",
              "...                  ...               ...             ...   \n",
              "380894                24                 8              18   \n",
              "380936                24                 8              21   \n",
              "381152                27                 8              12   \n",
              "381527                22                 8              16   \n",
              "382536                23                 8              10   \n",
              "\n",
              "       FECHA_FIN_NOMBREDIA  FECHA_FIN_DIA  FECHA_FIN_MES  \n",
              "12369             Thursday              1              8  \n",
              "13329             Thursday              1              8  \n",
              "27595             Thursday              1              8  \n",
              "30363             Thursday              1              8  \n",
              "33720             Thursday              1              8  \n",
              "...                    ...            ...            ...  \n",
              "380894            Saturday             24              8  \n",
              "380936            Saturday             24              8  \n",
              "381152             Tuesday             27              8  \n",
              "381527            Thursday             22              8  \n",
              "382536              Friday             23              8  \n",
              "\n",
              "[34675 rows x 20 columns]"
            ],
            "text/html": [
              "\n",
              "  <div id=\"df-bdb6a1ad-d968-4c55-81b2-bd5d2e2a2614\">\n",
              "    <div class=\"colab-df-container\">\n",
              "      <div>\n",
              "<style scoped>\n",
              "    .dataframe tbody tr th:only-of-type {\n",
              "        vertical-align: middle;\n",
              "    }\n",
              "\n",
              "    .dataframe tbody tr th {\n",
              "        vertical-align: top;\n",
              "    }\n",
              "\n",
              "    .dataframe thead th {\n",
              "        text-align: right;\n",
              "    }\n",
              "</style>\n",
              "<table border=\"1\" class=\"dataframe\">\n",
              "  <thead>\n",
              "    <tr style=\"text-align: right;\">\n",
              "      <th></th>\n",
              "      <th>CIUDAD_ORIGEN</th>\n",
              "      <th>CIUDAD_DESTINO</th>\n",
              "      <th>TIPO_TREN</th>\n",
              "      <th>TIPO_TARIFA</th>\n",
              "      <th>CLASE</th>\n",
              "      <th>PRECIO</th>\n",
              "      <th>Tiempo_Viaje</th>\n",
              "      <th>Dif_Ini_Bus</th>\n",
              "      <th>FECHA_CONSULTA_HORA</th>\n",
              "      <th>FECHA_CONSULTA_NOMBREDIA</th>\n",
              "      <th>FECHA_CONSULTA_DIA</th>\n",
              "      <th>FECHA_CONSULTA_MES</th>\n",
              "      <th>FECHA_INICIO_HORA</th>\n",
              "      <th>FECHA_INICIO_NOMBREDIA</th>\n",
              "      <th>FECHA_INICIO_DIA</th>\n",
              "      <th>FECHA_INICIO_MES</th>\n",
              "      <th>FECHA_FIN_HORA</th>\n",
              "      <th>FECHA_FIN_NOMBREDIA</th>\n",
              "      <th>FECHA_FIN_DIA</th>\n",
              "      <th>FECHA_FIN_MES</th>\n",
              "    </tr>\n",
              "  </thead>\n",
              "  <tbody>\n",
              "    <tr>\n",
              "      <th>12369</th>\n",
              "      <td>SEVILLA</td>\n",
              "      <td>MADRID</td>\n",
              "      <td>ALVIA</td>\n",
              "      <td>Flexible</td>\n",
              "      <td>Turista</td>\n",
              "      <td>67.20</td>\n",
              "      <td>158.0</td>\n",
              "      <td>84417.066667</td>\n",
              "      <td>21</td>\n",
              "      <td>Monday</td>\n",
              "      <td>3</td>\n",
              "      <td>6</td>\n",
              "      <td>12</td>\n",
              "      <td>Thursday</td>\n",
              "      <td>1</td>\n",
              "      <td>8</td>\n",
              "      <td>14</td>\n",
              "      <td>Thursday</td>\n",
              "      <td>1</td>\n",
              "      <td>8</td>\n",
              "    </tr>\n",
              "    <tr>\n",
              "      <th>13329</th>\n",
              "      <td>PONFERRADA</td>\n",
              "      <td>MADRID</td>\n",
              "      <td>ALVIA</td>\n",
              "      <td>Promo</td>\n",
              "      <td>Turista</td>\n",
              "      <td>33.50</td>\n",
              "      <td>244.0</td>\n",
              "      <td>84634.366667</td>\n",
              "      <td>11</td>\n",
              "      <td>Monday</td>\n",
              "      <td>3</td>\n",
              "      <td>6</td>\n",
              "      <td>6</td>\n",
              "      <td>Thursday</td>\n",
              "      <td>1</td>\n",
              "      <td>8</td>\n",
              "      <td>10</td>\n",
              "      <td>Thursday</td>\n",
              "      <td>1</td>\n",
              "      <td>8</td>\n",
              "    </tr>\n",
              "    <tr>\n",
              "      <th>27595</th>\n",
              "      <td>MADRID</td>\n",
              "      <td>PONFERRADA</td>\n",
              "      <td>LD-MD</td>\n",
              "      <td>Flexible</td>\n",
              "      <td>Turista con enlace</td>\n",
              "      <td>54.10</td>\n",
              "      <td>233.0</td>\n",
              "      <td>84452.800000</td>\n",
              "      <td>23</td>\n",
              "      <td>Monday</td>\n",
              "      <td>3</td>\n",
              "      <td>6</td>\n",
              "      <td>14</td>\n",
              "      <td>Thursday</td>\n",
              "      <td>1</td>\n",
              "      <td>8</td>\n",
              "      <td>18</td>\n",
              "      <td>Thursday</td>\n",
              "      <td>1</td>\n",
              "      <td>8</td>\n",
              "    </tr>\n",
              "    <tr>\n",
              "      <th>30363</th>\n",
              "      <td>VALENCIA</td>\n",
              "      <td>MADRID</td>\n",
              "      <td>AVE</td>\n",
              "      <td>Promo</td>\n",
              "      <td>Turista</td>\n",
              "      <td>33.65</td>\n",
              "      <td>100.0</td>\n",
              "      <td>84623.566667</td>\n",
              "      <td>15</td>\n",
              "      <td>Monday</td>\n",
              "      <td>3</td>\n",
              "      <td>6</td>\n",
              "      <td>9</td>\n",
              "      <td>Thursday</td>\n",
              "      <td>1</td>\n",
              "      <td>8</td>\n",
              "      <td>11</td>\n",
              "      <td>Thursday</td>\n",
              "      <td>1</td>\n",
              "      <td>8</td>\n",
              "    </tr>\n",
              "    <tr>\n",
              "      <th>33720</th>\n",
              "      <td>MADRID</td>\n",
              "      <td>PONFERRADA</td>\n",
              "      <td>LD-MD</td>\n",
              "      <td>Flexible</td>\n",
              "      <td>Turista con enlace</td>\n",
              "      <td>54.10</td>\n",
              "      <td>233.0</td>\n",
              "      <td>85624.200000</td>\n",
              "      <td>3</td>\n",
              "      <td>Monday</td>\n",
              "      <td>3</td>\n",
              "      <td>6</td>\n",
              "      <td>14</td>\n",
              "      <td>Thursday</td>\n",
              "      <td>1</td>\n",
              "      <td>8</td>\n",
              "      <td>18</td>\n",
              "      <td>Thursday</td>\n",
              "      <td>1</td>\n",
              "      <td>8</td>\n",
              "    </tr>\n",
              "    <tr>\n",
              "      <th>...</th>\n",
              "      <td>...</td>\n",
              "      <td>...</td>\n",
              "      <td>...</td>\n",
              "      <td>...</td>\n",
              "      <td>...</td>\n",
              "      <td>...</td>\n",
              "      <td>...</td>\n",
              "      <td>...</td>\n",
              "      <td>...</td>\n",
              "      <td>...</td>\n",
              "      <td>...</td>\n",
              "      <td>...</td>\n",
              "      <td>...</td>\n",
              "      <td>...</td>\n",
              "      <td>...</td>\n",
              "      <td>...</td>\n",
              "      <td>...</td>\n",
              "      <td>...</td>\n",
              "      <td>...</td>\n",
              "      <td>...</td>\n",
              "    </tr>\n",
              "    <tr>\n",
              "      <th>380894</th>\n",
              "      <td>BARCELONA</td>\n",
              "      <td>MADRID</td>\n",
              "      <td>R. EXPRES</td>\n",
              "      <td>Adulto ida</td>\n",
              "      <td>Turista</td>\n",
              "      <td>43.25</td>\n",
              "      <td>544.0</td>\n",
              "      <td>3096.850000</td>\n",
              "      <td>5</td>\n",
              "      <td>Thursday</td>\n",
              "      <td>22</td>\n",
              "      <td>8</td>\n",
              "      <td>9</td>\n",
              "      <td>Saturday</td>\n",
              "      <td>24</td>\n",
              "      <td>8</td>\n",
              "      <td>18</td>\n",
              "      <td>Saturday</td>\n",
              "      <td>24</td>\n",
              "      <td>8</td>\n",
              "    </tr>\n",
              "    <tr>\n",
              "      <th>380936</th>\n",
              "      <td>BARCELONA</td>\n",
              "      <td>MADRID</td>\n",
              "      <td>AVE</td>\n",
              "      <td>Promo</td>\n",
              "      <td>Turista</td>\n",
              "      <td>85.08</td>\n",
              "      <td>190.0</td>\n",
              "      <td>3633.850000</td>\n",
              "      <td>5</td>\n",
              "      <td>Thursday</td>\n",
              "      <td>22</td>\n",
              "      <td>8</td>\n",
              "      <td>18</td>\n",
              "      <td>Saturday</td>\n",
              "      <td>24</td>\n",
              "      <td>8</td>\n",
              "      <td>21</td>\n",
              "      <td>Saturday</td>\n",
              "      <td>24</td>\n",
              "      <td>8</td>\n",
              "    </tr>\n",
              "    <tr>\n",
              "      <th>381152</th>\n",
              "      <td>MADRID</td>\n",
              "      <td>VALENCIA</td>\n",
              "      <td>REGIONAL</td>\n",
              "      <td>Adulto ida</td>\n",
              "      <td>Turista</td>\n",
              "      <td>28.35</td>\n",
              "      <td>407.0</td>\n",
              "      <td>7359.833333</td>\n",
              "      <td>3</td>\n",
              "      <td>Thursday</td>\n",
              "      <td>22</td>\n",
              "      <td>8</td>\n",
              "      <td>6</td>\n",
              "      <td>Tuesday</td>\n",
              "      <td>27</td>\n",
              "      <td>8</td>\n",
              "      <td>12</td>\n",
              "      <td>Tuesday</td>\n",
              "      <td>27</td>\n",
              "      <td>8</td>\n",
              "    </tr>\n",
              "    <tr>\n",
              "      <th>381527</th>\n",
              "      <td>MADRID</td>\n",
              "      <td>SEVILLA</td>\n",
              "      <td>AVE</td>\n",
              "      <td>Promo</td>\n",
              "      <td>Turista</td>\n",
              "      <td>53.40</td>\n",
              "      <td>152.0</td>\n",
              "      <td>771.133333</td>\n",
              "      <td>1</td>\n",
              "      <td>Thursday</td>\n",
              "      <td>22</td>\n",
              "      <td>8</td>\n",
              "      <td>14</td>\n",
              "      <td>Thursday</td>\n",
              "      <td>22</td>\n",
              "      <td>8</td>\n",
              "      <td>16</td>\n",
              "      <td>Thursday</td>\n",
              "      <td>22</td>\n",
              "      <td>8</td>\n",
              "    </tr>\n",
              "    <tr>\n",
              "      <th>382536</th>\n",
              "      <td>MADRID</td>\n",
              "      <td>BARCELONA</td>\n",
              "      <td>AVE</td>\n",
              "      <td>Promo</td>\n",
              "      <td>Turista</td>\n",
              "      <td>85.10</td>\n",
              "      <td>190.0</td>\n",
              "      <td>916.766667</td>\n",
              "      <td>16</td>\n",
              "      <td>Thursday</td>\n",
              "      <td>22</td>\n",
              "      <td>8</td>\n",
              "      <td>7</td>\n",
              "      <td>Friday</td>\n",
              "      <td>23</td>\n",
              "      <td>8</td>\n",
              "      <td>10</td>\n",
              "      <td>Friday</td>\n",
              "      <td>23</td>\n",
              "      <td>8</td>\n",
              "    </tr>\n",
              "  </tbody>\n",
              "</table>\n",
              "<p>34675 rows × 20 columns</p>\n",
              "</div>\n",
              "      <button class=\"colab-df-convert\" onclick=\"convertToInteractive('df-bdb6a1ad-d968-4c55-81b2-bd5d2e2a2614')\"\n",
              "              title=\"Convert this dataframe to an interactive table.\"\n",
              "              style=\"display:none;\">\n",
              "        \n",
              "  <svg xmlns=\"http://www.w3.org/2000/svg\" height=\"24px\"viewBox=\"0 0 24 24\"\n",
              "       width=\"24px\">\n",
              "    <path d=\"M0 0h24v24H0V0z\" fill=\"none\"/>\n",
              "    <path d=\"M18.56 5.44l.94 2.06.94-2.06 2.06-.94-2.06-.94-.94-2.06-.94 2.06-2.06.94zm-11 1L8.5 8.5l.94-2.06 2.06-.94-2.06-.94L8.5 2.5l-.94 2.06-2.06.94zm10 10l.94 2.06.94-2.06 2.06-.94-2.06-.94-.94-2.06-.94 2.06-2.06.94z\"/><path d=\"M17.41 7.96l-1.37-1.37c-.4-.4-.92-.59-1.43-.59-.52 0-1.04.2-1.43.59L10.3 9.45l-7.72 7.72c-.78.78-.78 2.05 0 2.83L4 21.41c.39.39.9.59 1.41.59.51 0 1.02-.2 1.41-.59l7.78-7.78 2.81-2.81c.8-.78.8-2.07 0-2.86zM5.41 20L4 18.59l7.72-7.72 1.47 1.35L5.41 20z\"/>\n",
              "  </svg>\n",
              "      </button>\n",
              "      \n",
              "  <style>\n",
              "    .colab-df-container {\n",
              "      display:flex;\n",
              "      flex-wrap:wrap;\n",
              "      gap: 12px;\n",
              "    }\n",
              "\n",
              "    .colab-df-convert {\n",
              "      background-color: #E8F0FE;\n",
              "      border: none;\n",
              "      border-radius: 50%;\n",
              "      cursor: pointer;\n",
              "      display: none;\n",
              "      fill: #1967D2;\n",
              "      height: 32px;\n",
              "      padding: 0 0 0 0;\n",
              "      width: 32px;\n",
              "    }\n",
              "\n",
              "    .colab-df-convert:hover {\n",
              "      background-color: #E2EBFA;\n",
              "      box-shadow: 0px 1px 2px rgba(60, 64, 67, 0.3), 0px 1px 3px 1px rgba(60, 64, 67, 0.15);\n",
              "      fill: #174EA6;\n",
              "    }\n",
              "\n",
              "    [theme=dark] .colab-df-convert {\n",
              "      background-color: #3B4455;\n",
              "      fill: #D2E3FC;\n",
              "    }\n",
              "\n",
              "    [theme=dark] .colab-df-convert:hover {\n",
              "      background-color: #434B5C;\n",
              "      box-shadow: 0px 1px 3px 1px rgba(0, 0, 0, 0.15);\n",
              "      filter: drop-shadow(0px 1px 2px rgba(0, 0, 0, 0.3));\n",
              "      fill: #FFFFFF;\n",
              "    }\n",
              "  </style>\n",
              "\n",
              "      <script>\n",
              "        const buttonEl =\n",
              "          document.querySelector('#df-bdb6a1ad-d968-4c55-81b2-bd5d2e2a2614 button.colab-df-convert');\n",
              "        buttonEl.style.display =\n",
              "          google.colab.kernel.accessAllowed ? 'block' : 'none';\n",
              "\n",
              "        async function convertToInteractive(key) {\n",
              "          const element = document.querySelector('#df-bdb6a1ad-d968-4c55-81b2-bd5d2e2a2614');\n",
              "          const dataTable =\n",
              "            await google.colab.kernel.invokeFunction('convertToInteractive',\n",
              "                                                     [key], {});\n",
              "          if (!dataTable) return;\n",
              "\n",
              "          const docLinkHtml = 'Like what you see? Visit the ' +\n",
              "            '<a target=\"_blank\" href=https://colab.research.google.com/notebooks/data_table.ipynb>data table notebook</a>'\n",
              "            + ' to learn more about interactive tables.';\n",
              "          element.innerHTML = '';\n",
              "          dataTable['output_type'] = 'display_data';\n",
              "          await google.colab.output.renderOutput(dataTable, element);\n",
              "          const docLink = document.createElement('div');\n",
              "          docLink.innerHTML = docLinkHtml;\n",
              "          element.appendChild(docLink);\n",
              "        }\n",
              "      </script>\n",
              "    </div>\n",
              "  </div>\n",
              "  "
            ]
          },
          "metadata": {},
          "execution_count": 77
        }
      ]
    },
    {
      "cell_type": "code",
      "source": [
        "renfe6[renfe6[\"Tiempo_Viaje\"] > (4*60)]"
      ],
      "metadata": {
        "colab": {
          "base_uri": "https://localhost:8080/",
          "height": 557
        },
        "id": "gLA5EAPcxA-c",
        "outputId": "a24d69bf-143e-4857-d388-d4b8b39095a6"
      },
      "execution_count": 78,
      "outputs": [
        {
          "output_type": "execute_result",
          "data": {
            "text/plain": [
              "       CIUDAD_ORIGEN CIUDAD_DESTINO  TIPO_TREN TIPO_TARIFA  \\\n",
              "5558          MADRID       VALENCIA   REGIONAL  Adulto ida   \n",
              "5991          MADRID       VALENCIA   REGIONAL  Adulto ida   \n",
              "9570          MADRID       VALENCIA   REGIONAL  Adulto ida   \n",
              "14524         MADRID       VALENCIA     AVE-LD    Flexible   \n",
              "17225         MADRID        SEVILLA      MD-LD       Promo   \n",
              "...              ...            ...        ...         ...   \n",
              "379115    PONFERRADA         MADRID  TRENHOTEL    Flexible   \n",
              "379314    PONFERRADA         MADRID      ALVIA       Promo   \n",
              "380894     BARCELONA         MADRID  R. EXPRES  Adulto ida   \n",
              "381152        MADRID       VALENCIA   REGIONAL  Adulto ida   \n",
              "381850    PONFERRADA         MADRID         LD    Flexible   \n",
              "\n",
              "                     CLASE     PRECIO  Tiempo_Viaje   Dif_Ini_Bus  \\\n",
              "5558               Turista  28.350000         407.0  60869.666667   \n",
              "5991               Turista  28.350000         403.0  56923.466667   \n",
              "9570               Turista  28.350000         407.0   4790.666667   \n",
              "14524              Turista  61.436162         303.0   4020.450000   \n",
              "17225   Turista con enlace  27.500000         461.0  25334.266667   \n",
              "...                    ...        ...           ...           ...   \n",
              "379115             Turista  45.800000         415.0  72523.366667   \n",
              "379314             Turista  33.500000         244.0   7939.566667   \n",
              "380894             Turista  43.250000         544.0   3096.850000   \n",
              "381152             Turista  28.350000         407.0   7359.833333   \n",
              "381850  Turista con enlace  61.436162         337.0  21345.900000   \n",
              "\n",
              "        FECHA_CONSULTA_HORA FECHA_CONSULTA_NOMBREDIA  FECHA_CONSULTA_DIA  \\\n",
              "5558                     23                 Thursday                  11   \n",
              "5991                     23                 Thursday                  11   \n",
              "9570                     22                 Thursday                  11   \n",
              "14524                    21                 Thursday                  11   \n",
              "17225                    22                 Thursday                  11   \n",
              "...                     ...                      ...                 ...   \n",
              "379115                   17                 Thursday                  22   \n",
              "379314                   17                 Thursday                  22   \n",
              "380894                    5                 Thursday                  22   \n",
              "381152                    3                 Thursday                  22   \n",
              "381850                   17                 Thursday                  22   \n",
              "\n",
              "        FECHA_CONSULTA_MES  FECHA_INICIO_HORA FECHA_INICIO_NOMBREDIA  \\\n",
              "5558                     4                  6                 Friday   \n",
              "5991                     4                 12                Tuesday   \n",
              "9570                     4                  6                 Monday   \n",
              "14524                    4                 16                 Sunday   \n",
              "17225                    4                 13                 Monday   \n",
              "...                    ...                ...                    ...   \n",
              "379115                   8                  2               Saturday   \n",
              "379314                   8                  6              Wednesday   \n",
              "380894                   8                  9               Saturday   \n",
              "381152                   8                  6                Tuesday   \n",
              "381850                   8                 13                 Friday   \n",
              "\n",
              "        FECHA_INICIO_DIA  FECHA_INICIO_MES  FECHA_FIN_HORA  \\\n",
              "5558                  24                 5              12   \n",
              "5991                  21                 5              19   \n",
              "9570                  15                 4              12   \n",
              "14524                 14                 4              21   \n",
              "17225                 29                 4              20   \n",
              "...                  ...               ...             ...   \n",
              "379115                12                10               9   \n",
              "379314                28                 8              10   \n",
              "380894                24                 8              18   \n",
              "381152                27                 8              12   \n",
              "381850                 6                 9              19   \n",
              "\n",
              "       FECHA_FIN_NOMBREDIA  FECHA_FIN_DIA  FECHA_FIN_MES  \n",
              "5558                Friday             24              5  \n",
              "5991               Tuesday             21              5  \n",
              "9570                Monday             15              4  \n",
              "14524               Sunday             14              4  \n",
              "17225               Monday             29              4  \n",
              "...                    ...            ...            ...  \n",
              "379115            Saturday             12             10  \n",
              "379314           Wednesday             28              8  \n",
              "380894            Saturday             24              8  \n",
              "381152             Tuesday             27              8  \n",
              "381850              Friday              6              9  \n",
              "\n",
              "[61577 rows x 20 columns]"
            ],
            "text/html": [
              "\n",
              "  <div id=\"df-007c0d40-8822-4e39-bdca-ba583cc59888\">\n",
              "    <div class=\"colab-df-container\">\n",
              "      <div>\n",
              "<style scoped>\n",
              "    .dataframe tbody tr th:only-of-type {\n",
              "        vertical-align: middle;\n",
              "    }\n",
              "\n",
              "    .dataframe tbody tr th {\n",
              "        vertical-align: top;\n",
              "    }\n",
              "\n",
              "    .dataframe thead th {\n",
              "        text-align: right;\n",
              "    }\n",
              "</style>\n",
              "<table border=\"1\" class=\"dataframe\">\n",
              "  <thead>\n",
              "    <tr style=\"text-align: right;\">\n",
              "      <th></th>\n",
              "      <th>CIUDAD_ORIGEN</th>\n",
              "      <th>CIUDAD_DESTINO</th>\n",
              "      <th>TIPO_TREN</th>\n",
              "      <th>TIPO_TARIFA</th>\n",
              "      <th>CLASE</th>\n",
              "      <th>PRECIO</th>\n",
              "      <th>Tiempo_Viaje</th>\n",
              "      <th>Dif_Ini_Bus</th>\n",
              "      <th>FECHA_CONSULTA_HORA</th>\n",
              "      <th>FECHA_CONSULTA_NOMBREDIA</th>\n",
              "      <th>FECHA_CONSULTA_DIA</th>\n",
              "      <th>FECHA_CONSULTA_MES</th>\n",
              "      <th>FECHA_INICIO_HORA</th>\n",
              "      <th>FECHA_INICIO_NOMBREDIA</th>\n",
              "      <th>FECHA_INICIO_DIA</th>\n",
              "      <th>FECHA_INICIO_MES</th>\n",
              "      <th>FECHA_FIN_HORA</th>\n",
              "      <th>FECHA_FIN_NOMBREDIA</th>\n",
              "      <th>FECHA_FIN_DIA</th>\n",
              "      <th>FECHA_FIN_MES</th>\n",
              "    </tr>\n",
              "  </thead>\n",
              "  <tbody>\n",
              "    <tr>\n",
              "      <th>5558</th>\n",
              "      <td>MADRID</td>\n",
              "      <td>VALENCIA</td>\n",
              "      <td>REGIONAL</td>\n",
              "      <td>Adulto ida</td>\n",
              "      <td>Turista</td>\n",
              "      <td>28.350000</td>\n",
              "      <td>407.0</td>\n",
              "      <td>60869.666667</td>\n",
              "      <td>23</td>\n",
              "      <td>Thursday</td>\n",
              "      <td>11</td>\n",
              "      <td>4</td>\n",
              "      <td>6</td>\n",
              "      <td>Friday</td>\n",
              "      <td>24</td>\n",
              "      <td>5</td>\n",
              "      <td>12</td>\n",
              "      <td>Friday</td>\n",
              "      <td>24</td>\n",
              "      <td>5</td>\n",
              "    </tr>\n",
              "    <tr>\n",
              "      <th>5991</th>\n",
              "      <td>MADRID</td>\n",
              "      <td>VALENCIA</td>\n",
              "      <td>REGIONAL</td>\n",
              "      <td>Adulto ida</td>\n",
              "      <td>Turista</td>\n",
              "      <td>28.350000</td>\n",
              "      <td>403.0</td>\n",
              "      <td>56923.466667</td>\n",
              "      <td>23</td>\n",
              "      <td>Thursday</td>\n",
              "      <td>11</td>\n",
              "      <td>4</td>\n",
              "      <td>12</td>\n",
              "      <td>Tuesday</td>\n",
              "      <td>21</td>\n",
              "      <td>5</td>\n",
              "      <td>19</td>\n",
              "      <td>Tuesday</td>\n",
              "      <td>21</td>\n",
              "      <td>5</td>\n",
              "    </tr>\n",
              "    <tr>\n",
              "      <th>9570</th>\n",
              "      <td>MADRID</td>\n",
              "      <td>VALENCIA</td>\n",
              "      <td>REGIONAL</td>\n",
              "      <td>Adulto ida</td>\n",
              "      <td>Turista</td>\n",
              "      <td>28.350000</td>\n",
              "      <td>407.0</td>\n",
              "      <td>4790.666667</td>\n",
              "      <td>22</td>\n",
              "      <td>Thursday</td>\n",
              "      <td>11</td>\n",
              "      <td>4</td>\n",
              "      <td>6</td>\n",
              "      <td>Monday</td>\n",
              "      <td>15</td>\n",
              "      <td>4</td>\n",
              "      <td>12</td>\n",
              "      <td>Monday</td>\n",
              "      <td>15</td>\n",
              "      <td>4</td>\n",
              "    </tr>\n",
              "    <tr>\n",
              "      <th>14524</th>\n",
              "      <td>MADRID</td>\n",
              "      <td>VALENCIA</td>\n",
              "      <td>AVE-LD</td>\n",
              "      <td>Flexible</td>\n",
              "      <td>Turista</td>\n",
              "      <td>61.436162</td>\n",
              "      <td>303.0</td>\n",
              "      <td>4020.450000</td>\n",
              "      <td>21</td>\n",
              "      <td>Thursday</td>\n",
              "      <td>11</td>\n",
              "      <td>4</td>\n",
              "      <td>16</td>\n",
              "      <td>Sunday</td>\n",
              "      <td>14</td>\n",
              "      <td>4</td>\n",
              "      <td>21</td>\n",
              "      <td>Sunday</td>\n",
              "      <td>14</td>\n",
              "      <td>4</td>\n",
              "    </tr>\n",
              "    <tr>\n",
              "      <th>17225</th>\n",
              "      <td>MADRID</td>\n",
              "      <td>SEVILLA</td>\n",
              "      <td>MD-LD</td>\n",
              "      <td>Promo</td>\n",
              "      <td>Turista con enlace</td>\n",
              "      <td>27.500000</td>\n",
              "      <td>461.0</td>\n",
              "      <td>25334.266667</td>\n",
              "      <td>22</td>\n",
              "      <td>Thursday</td>\n",
              "      <td>11</td>\n",
              "      <td>4</td>\n",
              "      <td>13</td>\n",
              "      <td>Monday</td>\n",
              "      <td>29</td>\n",
              "      <td>4</td>\n",
              "      <td>20</td>\n",
              "      <td>Monday</td>\n",
              "      <td>29</td>\n",
              "      <td>4</td>\n",
              "    </tr>\n",
              "    <tr>\n",
              "      <th>...</th>\n",
              "      <td>...</td>\n",
              "      <td>...</td>\n",
              "      <td>...</td>\n",
              "      <td>...</td>\n",
              "      <td>...</td>\n",
              "      <td>...</td>\n",
              "      <td>...</td>\n",
              "      <td>...</td>\n",
              "      <td>...</td>\n",
              "      <td>...</td>\n",
              "      <td>...</td>\n",
              "      <td>...</td>\n",
              "      <td>...</td>\n",
              "      <td>...</td>\n",
              "      <td>...</td>\n",
              "      <td>...</td>\n",
              "      <td>...</td>\n",
              "      <td>...</td>\n",
              "      <td>...</td>\n",
              "      <td>...</td>\n",
              "    </tr>\n",
              "    <tr>\n",
              "      <th>379115</th>\n",
              "      <td>PONFERRADA</td>\n",
              "      <td>MADRID</td>\n",
              "      <td>TRENHOTEL</td>\n",
              "      <td>Flexible</td>\n",
              "      <td>Turista</td>\n",
              "      <td>45.800000</td>\n",
              "      <td>415.0</td>\n",
              "      <td>72523.366667</td>\n",
              "      <td>17</td>\n",
              "      <td>Thursday</td>\n",
              "      <td>22</td>\n",
              "      <td>8</td>\n",
              "      <td>2</td>\n",
              "      <td>Saturday</td>\n",
              "      <td>12</td>\n",
              "      <td>10</td>\n",
              "      <td>9</td>\n",
              "      <td>Saturday</td>\n",
              "      <td>12</td>\n",
              "      <td>10</td>\n",
              "    </tr>\n",
              "    <tr>\n",
              "      <th>379314</th>\n",
              "      <td>PONFERRADA</td>\n",
              "      <td>MADRID</td>\n",
              "      <td>ALVIA</td>\n",
              "      <td>Promo</td>\n",
              "      <td>Turista</td>\n",
              "      <td>33.500000</td>\n",
              "      <td>244.0</td>\n",
              "      <td>7939.566667</td>\n",
              "      <td>17</td>\n",
              "      <td>Thursday</td>\n",
              "      <td>22</td>\n",
              "      <td>8</td>\n",
              "      <td>6</td>\n",
              "      <td>Wednesday</td>\n",
              "      <td>28</td>\n",
              "      <td>8</td>\n",
              "      <td>10</td>\n",
              "      <td>Wednesday</td>\n",
              "      <td>28</td>\n",
              "      <td>8</td>\n",
              "    </tr>\n",
              "    <tr>\n",
              "      <th>380894</th>\n",
              "      <td>BARCELONA</td>\n",
              "      <td>MADRID</td>\n",
              "      <td>R. EXPRES</td>\n",
              "      <td>Adulto ida</td>\n",
              "      <td>Turista</td>\n",
              "      <td>43.250000</td>\n",
              "      <td>544.0</td>\n",
              "      <td>3096.850000</td>\n",
              "      <td>5</td>\n",
              "      <td>Thursday</td>\n",
              "      <td>22</td>\n",
              "      <td>8</td>\n",
              "      <td>9</td>\n",
              "      <td>Saturday</td>\n",
              "      <td>24</td>\n",
              "      <td>8</td>\n",
              "      <td>18</td>\n",
              "      <td>Saturday</td>\n",
              "      <td>24</td>\n",
              "      <td>8</td>\n",
              "    </tr>\n",
              "    <tr>\n",
              "      <th>381152</th>\n",
              "      <td>MADRID</td>\n",
              "      <td>VALENCIA</td>\n",
              "      <td>REGIONAL</td>\n",
              "      <td>Adulto ida</td>\n",
              "      <td>Turista</td>\n",
              "      <td>28.350000</td>\n",
              "      <td>407.0</td>\n",
              "      <td>7359.833333</td>\n",
              "      <td>3</td>\n",
              "      <td>Thursday</td>\n",
              "      <td>22</td>\n",
              "      <td>8</td>\n",
              "      <td>6</td>\n",
              "      <td>Tuesday</td>\n",
              "      <td>27</td>\n",
              "      <td>8</td>\n",
              "      <td>12</td>\n",
              "      <td>Tuesday</td>\n",
              "      <td>27</td>\n",
              "      <td>8</td>\n",
              "    </tr>\n",
              "    <tr>\n",
              "      <th>381850</th>\n",
              "      <td>PONFERRADA</td>\n",
              "      <td>MADRID</td>\n",
              "      <td>LD</td>\n",
              "      <td>Flexible</td>\n",
              "      <td>Turista con enlace</td>\n",
              "      <td>61.436162</td>\n",
              "      <td>337.0</td>\n",
              "      <td>21345.900000</td>\n",
              "      <td>17</td>\n",
              "      <td>Thursday</td>\n",
              "      <td>22</td>\n",
              "      <td>8</td>\n",
              "      <td>13</td>\n",
              "      <td>Friday</td>\n",
              "      <td>6</td>\n",
              "      <td>9</td>\n",
              "      <td>19</td>\n",
              "      <td>Friday</td>\n",
              "      <td>6</td>\n",
              "      <td>9</td>\n",
              "    </tr>\n",
              "  </tbody>\n",
              "</table>\n",
              "<p>61577 rows × 20 columns</p>\n",
              "</div>\n",
              "      <button class=\"colab-df-convert\" onclick=\"convertToInteractive('df-007c0d40-8822-4e39-bdca-ba583cc59888')\"\n",
              "              title=\"Convert this dataframe to an interactive table.\"\n",
              "              style=\"display:none;\">\n",
              "        \n",
              "  <svg xmlns=\"http://www.w3.org/2000/svg\" height=\"24px\"viewBox=\"0 0 24 24\"\n",
              "       width=\"24px\">\n",
              "    <path d=\"M0 0h24v24H0V0z\" fill=\"none\"/>\n",
              "    <path d=\"M18.56 5.44l.94 2.06.94-2.06 2.06-.94-2.06-.94-.94-2.06-.94 2.06-2.06.94zm-11 1L8.5 8.5l.94-2.06 2.06-.94-2.06-.94L8.5 2.5l-.94 2.06-2.06.94zm10 10l.94 2.06.94-2.06 2.06-.94-2.06-.94-.94-2.06-.94 2.06-2.06.94z\"/><path d=\"M17.41 7.96l-1.37-1.37c-.4-.4-.92-.59-1.43-.59-.52 0-1.04.2-1.43.59L10.3 9.45l-7.72 7.72c-.78.78-.78 2.05 0 2.83L4 21.41c.39.39.9.59 1.41.59.51 0 1.02-.2 1.41-.59l7.78-7.78 2.81-2.81c.8-.78.8-2.07 0-2.86zM5.41 20L4 18.59l7.72-7.72 1.47 1.35L5.41 20z\"/>\n",
              "  </svg>\n",
              "      </button>\n",
              "      \n",
              "  <style>\n",
              "    .colab-df-container {\n",
              "      display:flex;\n",
              "      flex-wrap:wrap;\n",
              "      gap: 12px;\n",
              "    }\n",
              "\n",
              "    .colab-df-convert {\n",
              "      background-color: #E8F0FE;\n",
              "      border: none;\n",
              "      border-radius: 50%;\n",
              "      cursor: pointer;\n",
              "      display: none;\n",
              "      fill: #1967D2;\n",
              "      height: 32px;\n",
              "      padding: 0 0 0 0;\n",
              "      width: 32px;\n",
              "    }\n",
              "\n",
              "    .colab-df-convert:hover {\n",
              "      background-color: #E2EBFA;\n",
              "      box-shadow: 0px 1px 2px rgba(60, 64, 67, 0.3), 0px 1px 3px 1px rgba(60, 64, 67, 0.15);\n",
              "      fill: #174EA6;\n",
              "    }\n",
              "\n",
              "    [theme=dark] .colab-df-convert {\n",
              "      background-color: #3B4455;\n",
              "      fill: #D2E3FC;\n",
              "    }\n",
              "\n",
              "    [theme=dark] .colab-df-convert:hover {\n",
              "      background-color: #434B5C;\n",
              "      box-shadow: 0px 1px 3px 1px rgba(0, 0, 0, 0.15);\n",
              "      filter: drop-shadow(0px 1px 2px rgba(0, 0, 0, 0.3));\n",
              "      fill: #FFFFFF;\n",
              "    }\n",
              "  </style>\n",
              "\n",
              "      <script>\n",
              "        const buttonEl =\n",
              "          document.querySelector('#df-007c0d40-8822-4e39-bdca-ba583cc59888 button.colab-df-convert');\n",
              "        buttonEl.style.display =\n",
              "          google.colab.kernel.accessAllowed ? 'block' : 'none';\n",
              "\n",
              "        async function convertToInteractive(key) {\n",
              "          const element = document.querySelector('#df-007c0d40-8822-4e39-bdca-ba583cc59888');\n",
              "          const dataTable =\n",
              "            await google.colab.kernel.invokeFunction('convertToInteractive',\n",
              "                                                     [key], {});\n",
              "          if (!dataTable) return;\n",
              "\n",
              "          const docLinkHtml = 'Like what you see? Visit the ' +\n",
              "            '<a target=\"_blank\" href=https://colab.research.google.com/notebooks/data_table.ipynb>data table notebook</a>'\n",
              "            + ' to learn more about interactive tables.';\n",
              "          element.innerHTML = '';\n",
              "          dataTable['output_type'] = 'display_data';\n",
              "          await google.colab.output.renderOutput(dataTable, element);\n",
              "          const docLink = document.createElement('div');\n",
              "          docLink.innerHTML = docLinkHtml;\n",
              "          element.appendChild(docLink);\n",
              "        }\n",
              "      </script>\n",
              "    </div>\n",
              "  </div>\n",
              "  "
            ]
          },
          "metadata": {},
          "execution_count": 78
        }
      ]
    },
    {
      "cell_type": "code",
      "source": [
        "renfe6[\"CIUDAD_ORIGEN\"].value_counts()"
      ],
      "metadata": {
        "colab": {
          "base_uri": "https://localhost:8080/"
        },
        "id": "CXhFfI8YxBBT",
        "outputId": "0267d7c0-5e99-473d-8283-350b4714fbc8"
      },
      "execution_count": 81,
      "outputs": [
        {
          "output_type": "execute_result",
          "data": {
            "text/plain": [
              "MADRID        190754\n",
              "BARCELONA      61547\n",
              "SEVILLA        60480\n",
              "VALENCIA       53178\n",
              "PONFERRADA     15592\n",
              "Name: CIUDAD_ORIGEN, dtype: int64"
            ]
          },
          "metadata": {},
          "execution_count": 81
        }
      ]
    },
    {
      "cell_type": "code",
      "source": [
        "renfe6.groupby(\"CLASE\")[\"PRECIO\"].max()"
      ],
      "metadata": {
        "colab": {
          "base_uri": "https://localhost:8080/"
        },
        "id": "wSXzByRhzUe3",
        "outputId": "a4563182-b306-4848-d458-c69b9af462fa"
      },
      "execution_count": 87,
      "outputs": [
        {
          "output_type": "execute_result",
          "data": {
            "text/plain": [
              "CLASE\n",
              "Cama G. Clase               150.6\n",
              "Cama Turista                 74.2\n",
              "Preferente                  342.8\n",
              "PreferenteSólo plaza H       92.3\n",
              "Turista                     172.4\n",
              "Turista Plus                206.8\n",
              "Turista PlusSólo plaza H     80.6\n",
              "Turista con enlace           76.4\n",
              "TuristaSólo plaza H         127.1\n",
              "Name: PRECIO, dtype: float64"
            ]
          },
          "metadata": {},
          "execution_count": 87
        }
      ]
    },
    {
      "cell_type": "code",
      "source": [
        "renfe6.groupby(\"FECHA_INICIO_MES\")[\"PRECIO\"].min()"
      ],
      "metadata": {
        "colab": {
          "base_uri": "https://localhost:8080/"
        },
        "id": "V7P4lrxF1okx",
        "outputId": "c5a350d6-4cc9-4b30-9fee-d3647aee1a59"
      },
      "execution_count": 90,
      "outputs": [
        {
          "output_type": "execute_result",
          "data": {
            "text/plain": [
              "FECHA_INICIO_MES\n",
              "4     16.60\n",
              "5     15.45\n",
              "6     15.70\n",
              "7     12.85\n",
              "8     12.85\n",
              "9     16.60\n",
              "10    12.85\n",
              "Name: PRECIO, dtype: float64"
            ]
          },
          "metadata": {},
          "execution_count": 90
        }
      ]
    },
    {
      "cell_type": "code",
      "source": [
        "renfe6.groupby(\"TIPO_TREN\")[\"PRECIO\"].mean()"
      ],
      "metadata": {
        "colab": {
          "base_uri": "https://localhost:8080/"
        },
        "id": "qkI_lEcy2M-j",
        "outputId": "768be168-4570-4f7d-9e2a-45fc69c2f30d"
      },
      "execution_count": 91,
      "outputs": [
        {
          "output_type": "execute_result",
          "data": {
            "text/plain": [
              "TIPO_TREN\n",
              "ALVIA        57.509471\n",
              "AV City      47.814479\n",
              "AVE          67.709830\n",
              "AVE-LD       47.692158\n",
              "AVE-MD       57.847361\n",
              "AVE-TGV      89.563201\n",
              "INTERCITY    40.435899\n",
              "LD           52.128058\n",
              "LD-AVE       61.436162\n",
              "LD-MD        41.705810\n",
              "MD           53.502594\n",
              "MD-AVE       45.885330\n",
              "MD-LD        40.672223\n",
              "R. EXPRES    43.391313\n",
              "REGIONAL     28.785227\n",
              "TRENHOTEL    48.069061\n",
              "Name: PRECIO, dtype: float64"
            ]
          },
          "metadata": {},
          "execution_count": 91
        }
      ]
    },
    {
      "cell_type": "code",
      "source": [
        "bcn_mad = renfe6[(renfe6[\"CIUDAD_ORIGEN\"] == \"BARCELONA\") &(renfe6[\"CIUDAD_DESTINO\"] == \"MADRID\")]"
      ],
      "metadata": {
        "id": "BwTcmNtN2NA5"
      },
      "execution_count": 94,
      "outputs": []
    },
    {
      "cell_type": "code",
      "source": [
        "bcn_mad.shape"
      ],
      "metadata": {
        "colab": {
          "base_uri": "https://localhost:8080/"
        },
        "id": "sfteHXIU3YHC",
        "outputId": "158693ff-c5f9-40fe-a9a0-218d9a13fd89"
      },
      "execution_count": 95,
      "outputs": [
        {
          "output_type": "execute_result",
          "data": {
            "text/plain": [
              "(61547, 20)"
            ]
          },
          "metadata": {},
          "execution_count": 95
        }
      ]
    },
    {
      "cell_type": "code",
      "source": [
        "bcn_mad.groupby([\"TIPO_TREN\",\"FECHA_INICIO_MES\"])[\"PRECIO\"].mean()"
      ],
      "metadata": {
        "colab": {
          "base_uri": "https://localhost:8080/"
        },
        "id": "a-P5_eoX3jbx",
        "outputId": "4c4b8975-50fe-4a97-a295-bca8693dc378"
      },
      "execution_count": 99,
      "outputs": [
        {
          "output_type": "execute_result",
          "data": {
            "text/plain": [
              "TIPO_TREN  FECHA_INICIO_MES\n",
              "AVE        4                    92.506257\n",
              "           5                    88.082707\n",
              "           6                    89.701613\n",
              "           7                    86.029457\n",
              "           8                    76.988037\n",
              "           9                    79.936261\n",
              "           10                   81.509259\n",
              "AVE-LD     5                    61.436162\n",
              "           6                    61.436162\n",
              "           7                    61.436162\n",
              "           8                    61.436162\n",
              "AVE-TGV    4                   102.949219\n",
              "           5                    86.488037\n",
              "           6                    90.743845\n",
              "           7                    85.597552\n",
              "           8                    81.622889\n",
              "           9                    82.765833\n",
              "           10                   75.925000\n",
              "LD-AVE     4                    61.436162\n",
              "           5                    61.436162\n",
              "           6                    61.436162\n",
              "           7                    61.436162\n",
              "           8                    61.436162\n",
              "           9                    61.436162\n",
              "LD-MD      5                    61.436162\n",
              "           6                    61.436162\n",
              "MD-AVE     5                    61.436162\n",
              "           8                    61.436162\n",
              "           9                    61.436162\n",
              "R. EXPRES  4                    43.250000\n",
              "           5                    43.250000\n",
              "           6                    43.250000\n",
              "           7                    43.250000\n",
              "           8                    43.250000\n",
              "           9                    43.250000\n",
              "           10                   43.250000\n",
              "Name: PRECIO, dtype: float64"
            ]
          },
          "metadata": {},
          "execution_count": 99
        }
      ]
    },
    {
      "cell_type": "code",
      "source": [
        "mad_val = renfe6[(renfe6[\"CIUDAD_ORIGEN\"] == \"MADRID\") &(renfe6[\"CIUDAD_DESTINO\"] == \"VALENCIA\")]"
      ],
      "metadata": {
        "id": "uoqei9o23jeN"
      },
      "execution_count": 100,
      "outputs": []
    },
    {
      "cell_type": "code",
      "source": [
        "mad_val.groupby([\"FECHA_INICIO_MES\"])[\"PRECIO\"].mean()"
      ],
      "metadata": {
        "colab": {
          "base_uri": "https://localhost:8080/"
        },
        "id": "Pc_FTxu67xzW",
        "outputId": "d2a88b0c-3ae3-4352-8033-110a509291fd"
      },
      "execution_count": 102,
      "outputs": [
        {
          "output_type": "execute_result",
          "data": {
            "text/plain": [
              "FECHA_INICIO_MES\n",
              "4     53.392912\n",
              "5     44.152585\n",
              "6     45.727039\n",
              "7     37.393591\n",
              "8     38.584044\n",
              "9     38.208927\n",
              "10    37.098576\n",
              "Name: PRECIO, dtype: float64"
            ]
          },
          "metadata": {},
          "execution_count": 102
        }
      ]
    }
  ]
}