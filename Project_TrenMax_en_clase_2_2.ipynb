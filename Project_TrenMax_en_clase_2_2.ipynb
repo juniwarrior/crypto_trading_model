{
  "nbformat": 4,
  "nbformat_minor": 0,
  "metadata": {
    "language_info": {
      "codemirror_mode": {
        "name": "ipython",
        "version": 3
      },
      "file_extension": ".py",
      "mimetype": "text/x-python",
      "name": "python",
      "nbconvert_exporter": "python",
      "pygments_lexer": "ipython3",
      "version": "3.8.5-final"
    },
    "orig_nbformat": 2,
    "kernelspec": {
      "name": "python3",
      "display_name": "Python 3.8.5 64-bit ('base': conda)",
      "metadata": {
        "interpreter": {
          "hash": "15ad3da4b4c61c3c846aae53763500b4377007d3fd583d900e0660560d786cf6"
        }
      }
    },
    "colab": {
      "provenance": [],
      "collapsed_sections": [],
      "include_colab_link": true
    }
  },
  "cells": [
    {
      "cell_type": "markdown",
      "metadata": {
        "id": "view-in-github",
        "colab_type": "text"
      },
      "source": [
        "<a href=\"https://colab.research.google.com/github/juniwarrior/crypto_trading_model/blob/main/Project_TrenMax_en_clase_2_2.ipynb\" target=\"_parent\"><img src=\"https://colab.research.google.com/assets/colab-badge.svg\" alt=\"Open In Colab\"/></a>"
      ]
    },
    {
      "cell_type": "markdown",
      "metadata": {
        "id": "WnYTJkZfndyq"
      },
      "source": [
        "## MASTER DATA SCIENCE: NUCLIO\n",
        "## PROFESOR: JOSEPH GALLART\n",
        "## PROJECT TRENMAX 2/2"
      ]
    },
    {
      "cell_type": "code",
      "metadata": {
        "id": "eepPduAVp-fA",
        "colab": {
          "base_uri": "https://localhost:8080/"
        },
        "outputId": "5da62b81-cf8d-4b3c-f0a7-85966561160b"
      },
      "source": [
        "from google.colab import drive\n",
        "drive.mount('/content/drive')"
      ],
      "execution_count": 3,
      "outputs": [
        {
          "output_type": "stream",
          "name": "stdout",
          "text": [
            "Mounted at /content/drive\n"
          ]
        }
      ]
    },
    {
      "cell_type": "code",
      "metadata": {
        "id": "1iUgwBhFndyv"
      },
      "source": [
        "#importamos librería\n",
        "import pandas as pd \n",
        "import numpy as np\n",
        "import matplotlib.pyplot as plt\n",
        "import seaborn as sns\n",
        "\n",
        "from sklearn.preprocessing import LabelEncoder,MinMaxScaler\n",
        "\n",
        "import folium\n",
        "import plotly.express as px"
      ],
      "execution_count": 19,
      "outputs": []
    },
    {
      "cell_type": "code",
      "metadata": {
        "id": "qQDwg2ZOndy0"
      },
      "source": [
        "#LEER EL PICKLE"
      ],
      "execution_count": null,
      "outputs": []
    },
    {
      "cell_type": "code",
      "source": [
        "df = pd.read_pickle('/content/drive/MyDrive/DS/DSC0922_data_engineering/Clases/Project TrenMax/DataCleanRenfe')"
      ],
      "metadata": {
        "id": "IpYxNAv5rpWo"
      },
      "execution_count": 20,
      "outputs": []
    },
    {
      "cell_type": "code",
      "metadata": {
        "id": "XybcKFzlndy0"
      },
      "source": [
        "#PREGUNTA 1"
      ],
      "execution_count": null,
      "outputs": []
    },
    {
      "cell_type": "code",
      "metadata": {
        "id": "puy0XDZCndy1",
        "colab": {
          "base_uri": "https://localhost:8080/",
          "height": 446
        },
        "outputId": "7df3854c-c26b-4ff2-ff39-4fa13f295dbb"
      },
      "source": [
        "corr = df.corr()\n",
        "corr.style.background_gradient(cmap='coolwarm')"
      ],
      "execution_count": 21,
      "outputs": [
        {
          "output_type": "execute_result",
          "data": {
            "text/plain": [
              "<pandas.io.formats.style.Styler at 0x7f1aa19e0250>"
            ],
            "text/html": [
              "<style type=\"text/css\">\n",
              "#T_f67f6_row0_col0, #T_f67f6_row1_col1, #T_f67f6_row2_col2, #T_f67f6_row3_col3, #T_f67f6_row4_col4, #T_f67f6_row5_col5, #T_f67f6_row6_col6, #T_f67f6_row7_col7, #T_f67f6_row7_col10, #T_f67f6_row8_col8, #T_f67f6_row8_col11, #T_f67f6_row9_col9, #T_f67f6_row10_col7, #T_f67f6_row10_col10, #T_f67f6_row11_col8, #T_f67f6_row11_col11 {\n",
              "  background-color: #b40426;\n",
              "  color: #f1f1f1;\n",
              "}\n",
              "#T_f67f6_row0_col1, #T_f67f6_row0_col2, #T_f67f6_row0_col9, #T_f67f6_row1_col6, #T_f67f6_row2_col0, #T_f67f6_row4_col3, #T_f67f6_row4_col5, #T_f67f6_row5_col4, #T_f67f6_row7_col3, #T_f67f6_row7_col8, #T_f67f6_row7_col11, #T_f67f6_row8_col7, #T_f67f6_row8_col9, #T_f67f6_row8_col10, #T_f67f6_row10_col3, #T_f67f6_row10_col8, #T_f67f6_row10_col11, #T_f67f6_row11_col7, #T_f67f6_row11_col9, #T_f67f6_row11_col10 {\n",
              "  background-color: #3b4cc0;\n",
              "  color: #f1f1f1;\n",
              "}\n",
              "#T_f67f6_row0_col3, #T_f67f6_row2_col3, #T_f67f6_row3_col9 {\n",
              "  background-color: #3d50c3;\n",
              "  color: #f1f1f1;\n",
              "}\n",
              "#T_f67f6_row0_col4, #T_f67f6_row3_col4, #T_f67f6_row7_col4, #T_f67f6_row9_col4, #T_f67f6_row9_col5, #T_f67f6_row10_col4 {\n",
              "  background-color: #7ea1fa;\n",
              "  color: #f1f1f1;\n",
              "}\n",
              "#T_f67f6_row0_col5 {\n",
              "  background-color: #6485ec;\n",
              "  color: #f1f1f1;\n",
              "}\n",
              "#T_f67f6_row0_col6, #T_f67f6_row1_col2 {\n",
              "  background-color: #7a9df8;\n",
              "  color: #f1f1f1;\n",
              "}\n",
              "#T_f67f6_row0_col7, #T_f67f6_row0_col10, #T_f67f6_row5_col2 {\n",
              "  background-color: #8db0fe;\n",
              "  color: #000000;\n",
              "}\n",
              "#T_f67f6_row0_col8, #T_f67f6_row0_col11 {\n",
              "  background-color: #5572df;\n",
              "  color: #f1f1f1;\n",
              "}\n",
              "#T_f67f6_row1_col0, #T_f67f6_row1_col3, #T_f67f6_row4_col9, #T_f67f6_row5_col9, #T_f67f6_row6_col3, #T_f67f6_row9_col3 {\n",
              "  background-color: #3c4ec2;\n",
              "  color: #f1f1f1;\n",
              "}\n",
              "#T_f67f6_row1_col4, #T_f67f6_row1_col5, #T_f67f6_row2_col7, #T_f67f6_row2_col10 {\n",
              "  background-color: #7da0f9;\n",
              "  color: #f1f1f1;\n",
              "}\n",
              "#T_f67f6_row1_col7, #T_f67f6_row1_col10, #T_f67f6_row3_col5, #T_f67f6_row9_col8 {\n",
              "  background-color: #82a6fb;\n",
              "  color: #f1f1f1;\n",
              "}\n",
              "#T_f67f6_row1_col8, #T_f67f6_row1_col11, #T_f67f6_row3_col7, #T_f67f6_row3_col10, #T_f67f6_row4_col7, #T_f67f6_row4_col10, #T_f67f6_row6_col8, #T_f67f6_row6_col11 {\n",
              "  background-color: #84a7fc;\n",
              "  color: #f1f1f1;\n",
              "}\n",
              "#T_f67f6_row1_col9 {\n",
              "  background-color: #5e7de7;\n",
              "  color: #f1f1f1;\n",
              "}\n",
              "#T_f67f6_row2_col1, #T_f67f6_row3_col0, #T_f67f6_row9_col2 {\n",
              "  background-color: #799cf8;\n",
              "  color: #f1f1f1;\n",
              "}\n",
              "#T_f67f6_row2_col4, #T_f67f6_row6_col4, #T_f67f6_row6_col5, #T_f67f6_row7_col0, #T_f67f6_row10_col0 {\n",
              "  background-color: #80a3fa;\n",
              "  color: #f1f1f1;\n",
              "}\n",
              "#T_f67f6_row2_col5 {\n",
              "  background-color: #96b7ff;\n",
              "  color: #000000;\n",
              "}\n",
              "#T_f67f6_row2_col6, #T_f67f6_row7_col6, #T_f67f6_row10_col6 {\n",
              "  background-color: #6c8ff1;\n",
              "  color: #f1f1f1;\n",
              "}\n",
              "#T_f67f6_row2_col8, #T_f67f6_row2_col11 {\n",
              "  background-color: #eed0c0;\n",
              "  color: #000000;\n",
              "}\n",
              "#T_f67f6_row2_col9, #T_f67f6_row7_col9, #T_f67f6_row10_col9 {\n",
              "  background-color: #3e51c5;\n",
              "  color: #f1f1f1;\n",
              "}\n",
              "#T_f67f6_row3_col1, #T_f67f6_row4_col0 {\n",
              "  background-color: #7699f6;\n",
              "  color: #f1f1f1;\n",
              "}\n",
              "#T_f67f6_row3_col2, #T_f67f6_row4_col2, #T_f67f6_row6_col2 {\n",
              "  background-color: #779af7;\n",
              "  color: #f1f1f1;\n",
              "}\n",
              "#T_f67f6_row3_col6, #T_f67f6_row4_col6, #T_f67f6_row5_col6 {\n",
              "  background-color: #6b8df0;\n",
              "  color: #f1f1f1;\n",
              "}\n",
              "#T_f67f6_row3_col8, #T_f67f6_row3_col11 {\n",
              "  background-color: #89acfd;\n",
              "  color: #000000;\n",
              "}\n",
              "#T_f67f6_row4_col1, #T_f67f6_row5_col1, #T_f67f6_row9_col0 {\n",
              "  background-color: #7396f5;\n",
              "  color: #f1f1f1;\n",
              "}\n",
              "#T_f67f6_row4_col8, #T_f67f6_row4_col11, #T_f67f6_row7_col1, #T_f67f6_row8_col1, #T_f67f6_row10_col1, #T_f67f6_row11_col1 {\n",
              "  background-color: #7597f6;\n",
              "  color: #f1f1f1;\n",
              "}\n",
              "#T_f67f6_row5_col0 {\n",
              "  background-color: #5d7ce6;\n",
              "  color: #f1f1f1;\n",
              "}\n",
              "#T_f67f6_row5_col3 {\n",
              "  background-color: #3f53c6;\n",
              "  color: #f1f1f1;\n",
              "}\n",
              "#T_f67f6_row5_col7, #T_f67f6_row5_col10 {\n",
              "  background-color: #6e90f2;\n",
              "  color: #f1f1f1;\n",
              "}\n",
              "#T_f67f6_row5_col8, #T_f67f6_row5_col11, #T_f67f6_row8_col5, #T_f67f6_row11_col5 {\n",
              "  background-color: #d44e41;\n",
              "  color: #f1f1f1;\n",
              "}\n",
              "#T_f67f6_row6_col0, #T_f67f6_row6_col7, #T_f67f6_row6_col10, #T_f67f6_row9_col7, #T_f67f6_row9_col10 {\n",
              "  background-color: #85a8fc;\n",
              "  color: #f1f1f1;\n",
              "}\n",
              "#T_f67f6_row6_col1 {\n",
              "  background-color: #445acc;\n",
              "  color: #f1f1f1;\n",
              "}\n",
              "#T_f67f6_row6_col9 {\n",
              "  background-color: #f6a283;\n",
              "  color: #000000;\n",
              "}\n",
              "#T_f67f6_row7_col2, #T_f67f6_row10_col2 {\n",
              "  background-color: #6f92f3;\n",
              "  color: #f1f1f1;\n",
              "}\n",
              "#T_f67f6_row7_col5, #T_f67f6_row10_col5 {\n",
              "  background-color: #688aef;\n",
              "  color: #f1f1f1;\n",
              "}\n",
              "#T_f67f6_row8_col0, #T_f67f6_row11_col0 {\n",
              "  background-color: #465ecf;\n",
              "  color: #f1f1f1;\n",
              "}\n",
              "#T_f67f6_row8_col2, #T_f67f6_row11_col2 {\n",
              "  background-color: #ead5c9;\n",
              "  color: #000000;\n",
              "}\n",
              "#T_f67f6_row8_col3, #T_f67f6_row11_col3 {\n",
              "  background-color: #4055c8;\n",
              "  color: #f1f1f1;\n",
              "}\n",
              "#T_f67f6_row8_col4, #T_f67f6_row11_col4 {\n",
              "  background-color: #7093f3;\n",
              "  color: #f1f1f1;\n",
              "}\n",
              "#T_f67f6_row8_col6, #T_f67f6_row11_col6 {\n",
              "  background-color: #6a8bef;\n",
              "  color: #f1f1f1;\n",
              "}\n",
              "#T_f67f6_row9_col1 {\n",
              "  background-color: #93b5fe;\n",
              "  color: #000000;\n",
              "}\n",
              "#T_f67f6_row9_col6 {\n",
              "  background-color: #f29274;\n",
              "  color: #f1f1f1;\n",
              "}\n",
              "#T_f67f6_row9_col11 {\n",
              "  background-color: #81a4fb;\n",
              "  color: #f1f1f1;\n",
              "}\n",
              "</style>\n",
              "<table id=\"T_f67f6_\" class=\"dataframe\">\n",
              "  <thead>\n",
              "    <tr>\n",
              "      <th class=\"blank level0\" >&nbsp;</th>\n",
              "      <th class=\"col_heading level0 col0\" >PRECIO</th>\n",
              "      <th class=\"col_heading level0 col1\" >Tiempo_Viaje</th>\n",
              "      <th class=\"col_heading level0 col2\" >Dif_Ini_Bus</th>\n",
              "      <th class=\"col_heading level0 col3\" >FECHA_CONSULTA_HORA</th>\n",
              "      <th class=\"col_heading level0 col4\" >FECHA_CONSULTA_DIA</th>\n",
              "      <th class=\"col_heading level0 col5\" >FECHA_CONSULTA_MES</th>\n",
              "      <th class=\"col_heading level0 col6\" >FECHA_INICIO_HORA</th>\n",
              "      <th class=\"col_heading level0 col7\" >FECHA_INICIO_DIA</th>\n",
              "      <th class=\"col_heading level0 col8\" >FECHA_INICIO_MES</th>\n",
              "      <th class=\"col_heading level0 col9\" >FECHA_FIN_HORA</th>\n",
              "      <th class=\"col_heading level0 col10\" >FECHA_FIN_DIA</th>\n",
              "      <th class=\"col_heading level0 col11\" >FECHA_FIN_MES</th>\n",
              "    </tr>\n",
              "  </thead>\n",
              "  <tbody>\n",
              "    <tr>\n",
              "      <th id=\"T_f67f6_level0_row0\" class=\"row_heading level0 row0\" >PRECIO</th>\n",
              "      <td id=\"T_f67f6_row0_col0\" class=\"data row0 col0\" >1.000000</td>\n",
              "      <td id=\"T_f67f6_row0_col1\" class=\"data row0 col1\" >-0.226487</td>\n",
              "      <td id=\"T_f67f6_row0_col2\" class=\"data row0 col2\" >-0.231899</td>\n",
              "      <td id=\"T_f67f6_row0_col3\" class=\"data row0 col3\" >0.003954</td>\n",
              "      <td id=\"T_f67f6_row0_col4\" class=\"data row0 col4\" >-0.004402</td>\n",
              "      <td id=\"T_f67f6_row0_col5\" class=\"data row0 col5\" >-0.096227</td>\n",
              "      <td id=\"T_f67f6_row0_col6\" class=\"data row0 col6\" >0.048788</td>\n",
              "      <td id=\"T_f67f6_row0_col7\" class=\"data row0 col7\" >0.031322</td>\n",
              "      <td id=\"T_f67f6_row0_col8\" class=\"data row0 col8\" >-0.179357</td>\n",
              "      <td id=\"T_f67f6_row0_col9\" class=\"data row0 col9\" >-0.011263</td>\n",
              "      <td id=\"T_f67f6_row0_col10\" class=\"data row0 col10\" >0.030861</td>\n",
              "      <td id=\"T_f67f6_row0_col11\" class=\"data row0 col11\" >-0.179383</td>\n",
              "    </tr>\n",
              "    <tr>\n",
              "      <th id=\"T_f67f6_level0_row1\" class=\"row_heading level0 row1\" >Tiempo_Viaje</th>\n",
              "      <td id=\"T_f67f6_row1_col0\" class=\"data row1 col0\" >-0.226487</td>\n",
              "      <td id=\"T_f67f6_row1_col1\" class=\"data row1 col1\" >1.000000</td>\n",
              "      <td id=\"T_f67f6_row1_col2\" class=\"data row1 col2\" >0.012626</td>\n",
              "      <td id=\"T_f67f6_row1_col3\" class=\"data row1 col3\" >0.000451</td>\n",
              "      <td id=\"T_f67f6_row1_col4\" class=\"data row1 col4\" >-0.006694</td>\n",
              "      <td id=\"T_f67f6_row1_col5\" class=\"data row1 col5\" >-0.008360</td>\n",
              "      <td id=\"T_f67f6_row1_col6\" class=\"data row1 col6\" >-0.183882</td>\n",
              "      <td id=\"T_f67f6_row1_col7\" class=\"data row1 col7\" >-0.005436</td>\n",
              "      <td id=\"T_f67f6_row1_col8\" class=\"data row1 col8\" >-0.002026</td>\n",
              "      <td id=\"T_f67f6_row1_col9\" class=\"data row1 col9\" >0.104029</td>\n",
              "      <td id=\"T_f67f6_row1_col10\" class=\"data row1 col10\" >-0.005256</td>\n",
              "      <td id=\"T_f67f6_row1_col11\" class=\"data row1 col11\" >-0.001851</td>\n",
              "    </tr>\n",
              "    <tr>\n",
              "      <th id=\"T_f67f6_level0_row2\" class=\"row_heading level0 row2\" >Dif_Ini_Bus</th>\n",
              "      <td id=\"T_f67f6_row2_col0\" class=\"data row2 col0\" >-0.231899</td>\n",
              "      <td id=\"T_f67f6_row2_col1\" class=\"data row2 col1\" >0.012626</td>\n",
              "      <td id=\"T_f67f6_row2_col2\" class=\"data row2 col2\" >1.000000</td>\n",
              "      <td id=\"T_f67f6_row2_col3\" class=\"data row2 col3\" >0.003269</td>\n",
              "      <td id=\"T_f67f6_row2_col4\" class=\"data row2 col4\" >-0.000773</td>\n",
              "      <td id=\"T_f67f6_row2_col5\" class=\"data row2 col5\" >0.080380</td>\n",
              "      <td id=\"T_f67f6_row2_col6\" class=\"data row2 col6\" >0.003422</td>\n",
              "      <td id=\"T_f67f6_row2_col7\" class=\"data row2 col7\" >-0.027262</td>\n",
              "      <td id=\"T_f67f6_row2_col8\" class=\"data row2 col8\" >0.449961</td>\n",
              "      <td id=\"T_f67f6_row2_col9\" class=\"data row2 col9\" >0.004252</td>\n",
              "      <td id=\"T_f67f6_row2_col10\" class=\"data row2 col10\" >-0.027617</td>\n",
              "      <td id=\"T_f67f6_row2_col11\" class=\"data row2 col11\" >0.450042</td>\n",
              "    </tr>\n",
              "    <tr>\n",
              "      <th id=\"T_f67f6_level0_row3\" class=\"row_heading level0 row3\" >FECHA_CONSULTA_HORA</th>\n",
              "      <td id=\"T_f67f6_row3_col0\" class=\"data row3 col0\" >0.003954</td>\n",
              "      <td id=\"T_f67f6_row3_col1\" class=\"data row3 col1\" >0.000451</td>\n",
              "      <td id=\"T_f67f6_row3_col2\" class=\"data row3 col2\" >0.003269</td>\n",
              "      <td id=\"T_f67f6_row3_col3\" class=\"data row3 col3\" >1.000000</td>\n",
              "      <td id=\"T_f67f6_row3_col4\" class=\"data row3 col4\" >-0.006020</td>\n",
              "      <td id=\"T_f67f6_row3_col5\" class=\"data row3 col5\" >0.010541</td>\n",
              "      <td id=\"T_f67f6_row3_col6\" class=\"data row3 col6\" >-0.000802</td>\n",
              "      <td id=\"T_f67f6_row3_col7\" class=\"data row3 col7\" >-0.004163</td>\n",
              "      <td id=\"T_f67f6_row3_col8\" class=\"data row3 col8\" >0.016808</td>\n",
              "      <td id=\"T_f67f6_row3_col9\" class=\"data row3 col9\" >-0.001147</td>\n",
              "      <td id=\"T_f67f6_row3_col10\" class=\"data row3 col10\" >-0.004324</td>\n",
              "      <td id=\"T_f67f6_row3_col11\" class=\"data row3 col11\" >0.016843</td>\n",
              "    </tr>\n",
              "    <tr>\n",
              "      <th id=\"T_f67f6_level0_row4\" class=\"row_heading level0 row4\" >FECHA_CONSULTA_DIA</th>\n",
              "      <td id=\"T_f67f6_row4_col0\" class=\"data row4 col0\" >-0.004402</td>\n",
              "      <td id=\"T_f67f6_row4_col1\" class=\"data row4 col1\" >-0.006694</td>\n",
              "      <td id=\"T_f67f6_row4_col2\" class=\"data row4 col2\" >-0.000773</td>\n",
              "      <td id=\"T_f67f6_row4_col3\" class=\"data row4 col3\" >-0.006020</td>\n",
              "      <td id=\"T_f67f6_row4_col4\" class=\"data row4 col4\" >1.000000</td>\n",
              "      <td id=\"T_f67f6_row4_col5\" class=\"data row4 col5\" >-0.268982</td>\n",
              "      <td id=\"T_f67f6_row4_col6\" class=\"data row4 col6\" >-0.000831</td>\n",
              "      <td id=\"T_f67f6_row4_col7\" class=\"data row4 col7\" >-0.002256</td>\n",
              "      <td id=\"T_f67f6_row4_col8\" class=\"data row4 col8\" >-0.055747</td>\n",
              "      <td id=\"T_f67f6_row4_col9\" class=\"data row4 col9\" >-0.003763</td>\n",
              "      <td id=\"T_f67f6_row4_col10\" class=\"data row4 col10\" >-0.002497</td>\n",
              "      <td id=\"T_f67f6_row4_col11\" class=\"data row4 col11\" >-0.055692</td>\n",
              "    </tr>\n",
              "    <tr>\n",
              "      <th id=\"T_f67f6_level0_row5\" class=\"row_heading level0 row5\" >FECHA_CONSULTA_MES</th>\n",
              "      <td id=\"T_f67f6_row5_col0\" class=\"data row5 col0\" >-0.096227</td>\n",
              "      <td id=\"T_f67f6_row5_col1\" class=\"data row5 col1\" >-0.008360</td>\n",
              "      <td id=\"T_f67f6_row5_col2\" class=\"data row5 col2\" >0.080380</td>\n",
              "      <td id=\"T_f67f6_row5_col3\" class=\"data row5 col3\" >0.010541</td>\n",
              "      <td id=\"T_f67f6_row5_col4\" class=\"data row5 col4\" >-0.268982</td>\n",
              "      <td id=\"T_f67f6_row5_col5\" class=\"data row5 col5\" >1.000000</td>\n",
              "      <td id=\"T_f67f6_row5_col6\" class=\"data row5 col6\" >-0.000633</td>\n",
              "      <td id=\"T_f67f6_row5_col7\" class=\"data row5 col7\" >-0.083729</td>\n",
              "      <td id=\"T_f67f6_row5_col8\" class=\"data row5 col8\" >0.883081</td>\n",
              "      <td id=\"T_f67f6_row5_col9\" class=\"data row5 col9\" >-0.006217</td>\n",
              "      <td id=\"T_f67f6_row5_col10\" class=\"data row5 col10\" >-0.083458</td>\n",
              "      <td id=\"T_f67f6_row5_col11\" class=\"data row5 col11\" >0.883031</td>\n",
              "    </tr>\n",
              "    <tr>\n",
              "      <th id=\"T_f67f6_level0_row6\" class=\"row_heading level0 row6\" >FECHA_INICIO_HORA</th>\n",
              "      <td id=\"T_f67f6_row6_col0\" class=\"data row6 col0\" >0.048788</td>\n",
              "      <td id=\"T_f67f6_row6_col1\" class=\"data row6 col1\" >-0.183882</td>\n",
              "      <td id=\"T_f67f6_row6_col2\" class=\"data row6 col2\" >0.003422</td>\n",
              "      <td id=\"T_f67f6_row6_col3\" class=\"data row6 col3\" >-0.000802</td>\n",
              "      <td id=\"T_f67f6_row6_col4\" class=\"data row6 col4\" >-0.000831</td>\n",
              "      <td id=\"T_f67f6_row6_col5\" class=\"data row6 col5\" >-0.000633</td>\n",
              "      <td id=\"T_f67f6_row6_col6\" class=\"data row6 col6\" >1.000000</td>\n",
              "      <td id=\"T_f67f6_row6_col7\" class=\"data row6 col7\" >0.003281</td>\n",
              "      <td id=\"T_f67f6_row6_col8\" class=\"data row6 col8\" >-0.004650</td>\n",
              "      <td id=\"T_f67f6_row6_col9\" class=\"data row6 col9\" >0.724618</td>\n",
              "      <td id=\"T_f67f6_row6_col10\" class=\"data row6 col10\" >0.003278</td>\n",
              "      <td id=\"T_f67f6_row6_col11\" class=\"data row6 col11\" >-0.003875</td>\n",
              "    </tr>\n",
              "    <tr>\n",
              "      <th id=\"T_f67f6_level0_row7\" class=\"row_heading level0 row7\" >FECHA_INICIO_DIA</th>\n",
              "      <td id=\"T_f67f6_row7_col0\" class=\"data row7 col0\" >0.031322</td>\n",
              "      <td id=\"T_f67f6_row7_col1\" class=\"data row7 col1\" >-0.005436</td>\n",
              "      <td id=\"T_f67f6_row7_col2\" class=\"data row7 col2\" >-0.027262</td>\n",
              "      <td id=\"T_f67f6_row7_col3\" class=\"data row7 col3\" >-0.004163</td>\n",
              "      <td id=\"T_f67f6_row7_col4\" class=\"data row7 col4\" >-0.002256</td>\n",
              "      <td id=\"T_f67f6_row7_col5\" class=\"data row7 col5\" >-0.083729</td>\n",
              "      <td id=\"T_f67f6_row7_col6\" class=\"data row7 col6\" >0.003281</td>\n",
              "      <td id=\"T_f67f6_row7_col7\" class=\"data row7 col7\" >1.000000</td>\n",
              "      <td id=\"T_f67f6_row7_col8\" class=\"data row7 col8\" >-0.292605</td>\n",
              "      <td id=\"T_f67f6_row7_col9\" class=\"data row7 col9\" >0.002743</td>\n",
              "      <td id=\"T_f67f6_row7_col10\" class=\"data row7 col10\" >0.996398</td>\n",
              "      <td id=\"T_f67f6_row7_col11\" class=\"data row7 col11\" >-0.291868</td>\n",
              "    </tr>\n",
              "    <tr>\n",
              "      <th id=\"T_f67f6_level0_row8\" class=\"row_heading level0 row8\" >FECHA_INICIO_MES</th>\n",
              "      <td id=\"T_f67f6_row8_col0\" class=\"data row8 col0\" >-0.179357</td>\n",
              "      <td id=\"T_f67f6_row8_col1\" class=\"data row8 col1\" >-0.002026</td>\n",
              "      <td id=\"T_f67f6_row8_col2\" class=\"data row8 col2\" >0.449961</td>\n",
              "      <td id=\"T_f67f6_row8_col3\" class=\"data row8 col3\" >0.016808</td>\n",
              "      <td id=\"T_f67f6_row8_col4\" class=\"data row8 col4\" >-0.055747</td>\n",
              "      <td id=\"T_f67f6_row8_col5\" class=\"data row8 col5\" >0.883081</td>\n",
              "      <td id=\"T_f67f6_row8_col6\" class=\"data row8 col6\" >-0.004650</td>\n",
              "      <td id=\"T_f67f6_row8_col7\" class=\"data row8 col7\" >-0.292605</td>\n",
              "      <td id=\"T_f67f6_row8_col8\" class=\"data row8 col8\" >1.000000</td>\n",
              "      <td id=\"T_f67f6_row8_col9\" class=\"data row8 col9\" >-0.008479</td>\n",
              "      <td id=\"T_f67f6_row8_col10\" class=\"data row8 col10\" >-0.291792</td>\n",
              "      <td id=\"T_f67f6_row8_col11\" class=\"data row8 col11\" >0.999839</td>\n",
              "    </tr>\n",
              "    <tr>\n",
              "      <th id=\"T_f67f6_level0_row9\" class=\"row_heading level0 row9\" >FECHA_FIN_HORA</th>\n",
              "      <td id=\"T_f67f6_row9_col0\" class=\"data row9 col0\" >-0.011263</td>\n",
              "      <td id=\"T_f67f6_row9_col1\" class=\"data row9 col1\" >0.104029</td>\n",
              "      <td id=\"T_f67f6_row9_col2\" class=\"data row9 col2\" >0.004252</td>\n",
              "      <td id=\"T_f67f6_row9_col3\" class=\"data row9 col3\" >-0.001147</td>\n",
              "      <td id=\"T_f67f6_row9_col4\" class=\"data row9 col4\" >-0.003763</td>\n",
              "      <td id=\"T_f67f6_row9_col5\" class=\"data row9 col5\" >-0.006217</td>\n",
              "      <td id=\"T_f67f6_row9_col6\" class=\"data row9 col6\" >0.724618</td>\n",
              "      <td id=\"T_f67f6_row9_col7\" class=\"data row9 col7\" >0.002743</td>\n",
              "      <td id=\"T_f67f6_row9_col8\" class=\"data row9 col8\" >-0.008479</td>\n",
              "      <td id=\"T_f67f6_row9_col9\" class=\"data row9 col9\" >1.000000</td>\n",
              "      <td id=\"T_f67f6_row9_col10\" class=\"data row9 col10\" >0.002765</td>\n",
              "      <td id=\"T_f67f6_row9_col11\" class=\"data row9 col11\" >-0.009821</td>\n",
              "    </tr>\n",
              "    <tr>\n",
              "      <th id=\"T_f67f6_level0_row10\" class=\"row_heading level0 row10\" >FECHA_FIN_DIA</th>\n",
              "      <td id=\"T_f67f6_row10_col0\" class=\"data row10 col0\" >0.030861</td>\n",
              "      <td id=\"T_f67f6_row10_col1\" class=\"data row10 col1\" >-0.005256</td>\n",
              "      <td id=\"T_f67f6_row10_col2\" class=\"data row10 col2\" >-0.027617</td>\n",
              "      <td id=\"T_f67f6_row10_col3\" class=\"data row10 col3\" >-0.004324</td>\n",
              "      <td id=\"T_f67f6_row10_col4\" class=\"data row10 col4\" >-0.002497</td>\n",
              "      <td id=\"T_f67f6_row10_col5\" class=\"data row10 col5\" >-0.083458</td>\n",
              "      <td id=\"T_f67f6_row10_col6\" class=\"data row10 col6\" >0.003278</td>\n",
              "      <td id=\"T_f67f6_row10_col7\" class=\"data row10 col7\" >0.996398</td>\n",
              "      <td id=\"T_f67f6_row10_col8\" class=\"data row10 col8\" >-0.291792</td>\n",
              "      <td id=\"T_f67f6_row10_col9\" class=\"data row10 col9\" >0.002765</td>\n",
              "      <td id=\"T_f67f6_row10_col10\" class=\"data row10 col10\" >1.000000</td>\n",
              "      <td id=\"T_f67f6_row10_col11\" class=\"data row10 col11\" >-0.292551</td>\n",
              "    </tr>\n",
              "    <tr>\n",
              "      <th id=\"T_f67f6_level0_row11\" class=\"row_heading level0 row11\" >FECHA_FIN_MES</th>\n",
              "      <td id=\"T_f67f6_row11_col0\" class=\"data row11 col0\" >-0.179383</td>\n",
              "      <td id=\"T_f67f6_row11_col1\" class=\"data row11 col1\" >-0.001851</td>\n",
              "      <td id=\"T_f67f6_row11_col2\" class=\"data row11 col2\" >0.450042</td>\n",
              "      <td id=\"T_f67f6_row11_col3\" class=\"data row11 col3\" >0.016843</td>\n",
              "      <td id=\"T_f67f6_row11_col4\" class=\"data row11 col4\" >-0.055692</td>\n",
              "      <td id=\"T_f67f6_row11_col5\" class=\"data row11 col5\" >0.883031</td>\n",
              "      <td id=\"T_f67f6_row11_col6\" class=\"data row11 col6\" >-0.003875</td>\n",
              "      <td id=\"T_f67f6_row11_col7\" class=\"data row11 col7\" >-0.291868</td>\n",
              "      <td id=\"T_f67f6_row11_col8\" class=\"data row11 col8\" >0.999839</td>\n",
              "      <td id=\"T_f67f6_row11_col9\" class=\"data row11 col9\" >-0.009821</td>\n",
              "      <td id=\"T_f67f6_row11_col10\" class=\"data row11 col10\" >-0.292551</td>\n",
              "      <td id=\"T_f67f6_row11_col11\" class=\"data row11 col11\" >1.000000</td>\n",
              "    </tr>\n",
              "  </tbody>\n",
              "</table>\n"
            ]
          },
          "metadata": {},
          "execution_count": 21
        }
      ]
    },
    {
      "cell_type": "code",
      "source": [
        "del df[\"FECHA_FIN_HORA\"]\n",
        "del df[\"FECHA_FIN_DIA\"]\n",
        "del df[\"FECHA_FIN_MES\"]\n",
        "\n",
        "#LOS ELIMINAMOS POR TENER MISMA CORRELACION QUE FECHA_INICIO\n",
        "\n",
        "del df[\"FECHA_CONSULTA_MES\"]\n",
        "del df[\"FECHA_INICIO_MES\"]\n",
        "#LOS ELIMINAMOS POR NO TENER VALORES DISTRIBUIDOS DURANTE TODO EL AÑO"
      ],
      "metadata": {
        "id": "yGAis_HgC3B0"
      },
      "execution_count": 22,
      "outputs": []
    },
    {
      "cell_type": "code",
      "source": [
        "corr = df.corr()\n",
        "corr.style.background_gradient(cmap='coolwarm')"
      ],
      "metadata": {
        "colab": {
          "base_uri": "https://localhost:8080/",
          "height": 269
        },
        "id": "53fG54BgDWeN",
        "outputId": "c36102cd-a753-4ce2-f974-739af2105ef0"
      },
      "execution_count": 23,
      "outputs": [
        {
          "output_type": "execute_result",
          "data": {
            "text/plain": [
              "<pandas.io.formats.style.Styler at 0x7f1a9d2de2d0>"
            ],
            "text/html": [
              "<style type=\"text/css\">\n",
              "#T_0245a_row0_col0, #T_0245a_row1_col1, #T_0245a_row2_col2, #T_0245a_row3_col3, #T_0245a_row4_col4, #T_0245a_row5_col5, #T_0245a_row6_col6 {\n",
              "  background-color: #b40426;\n",
              "  color: #f1f1f1;\n",
              "}\n",
              "#T_0245a_row0_col1, #T_0245a_row0_col2, #T_0245a_row0_col4, #T_0245a_row1_col4, #T_0245a_row1_col5, #T_0245a_row2_col0, #T_0245a_row2_col6, #T_0245a_row3_col4, #T_0245a_row4_col3, #T_0245a_row6_col3 {\n",
              "  background-color: #3b4cc0;\n",
              "  color: #f1f1f1;\n",
              "}\n",
              "#T_0245a_row0_col3, #T_0245a_row2_col3 {\n",
              "  background-color: #3d50c3;\n",
              "  color: #f1f1f1;\n",
              "}\n",
              "#T_0245a_row0_col5, #T_0245a_row1_col2 {\n",
              "  background-color: #7a9df8;\n",
              "  color: #f1f1f1;\n",
              "}\n",
              "#T_0245a_row0_col6 {\n",
              "  background-color: #4b64d5;\n",
              "  color: #f1f1f1;\n",
              "}\n",
              "#T_0245a_row1_col0, #T_0245a_row1_col3, #T_0245a_row2_col4, #T_0245a_row5_col3, #T_0245a_row5_col4, #T_0245a_row6_col4 {\n",
              "  background-color: #3c4ec2;\n",
              "  color: #f1f1f1;\n",
              "}\n",
              "#T_0245a_row1_col6, #T_0245a_row3_col6 {\n",
              "  background-color: #4055c8;\n",
              "  color: #f1f1f1;\n",
              "}\n",
              "#T_0245a_row2_col1, #T_0245a_row3_col0 {\n",
              "  background-color: #799cf8;\n",
              "  color: #f1f1f1;\n",
              "}\n",
              "#T_0245a_row2_col5, #T_0245a_row6_col5 {\n",
              "  background-color: #6c8ff1;\n",
              "  color: #f1f1f1;\n",
              "}\n",
              "#T_0245a_row3_col1, #T_0245a_row4_col0 {\n",
              "  background-color: #7699f6;\n",
              "  color: #f1f1f1;\n",
              "}\n",
              "#T_0245a_row3_col2, #T_0245a_row4_col2, #T_0245a_row5_col2 {\n",
              "  background-color: #779af7;\n",
              "  color: #f1f1f1;\n",
              "}\n",
              "#T_0245a_row3_col5, #T_0245a_row4_col5 {\n",
              "  background-color: #6b8df0;\n",
              "  color: #f1f1f1;\n",
              "}\n",
              "#T_0245a_row4_col1 {\n",
              "  background-color: #7396f5;\n",
              "  color: #f1f1f1;\n",
              "}\n",
              "#T_0245a_row4_col6 {\n",
              "  background-color: #4257c9;\n",
              "  color: #f1f1f1;\n",
              "}\n",
              "#T_0245a_row5_col0 {\n",
              "  background-color: #85a8fc;\n",
              "  color: #f1f1f1;\n",
              "}\n",
              "#T_0245a_row5_col1 {\n",
              "  background-color: #445acc;\n",
              "  color: #f1f1f1;\n",
              "}\n",
              "#T_0245a_row5_col6 {\n",
              "  background-color: #4358cb;\n",
              "  color: #f1f1f1;\n",
              "}\n",
              "#T_0245a_row6_col0 {\n",
              "  background-color: #80a3fa;\n",
              "  color: #f1f1f1;\n",
              "}\n",
              "#T_0245a_row6_col1 {\n",
              "  background-color: #7597f6;\n",
              "  color: #f1f1f1;\n",
              "}\n",
              "#T_0245a_row6_col2 {\n",
              "  background-color: #6f92f3;\n",
              "  color: #f1f1f1;\n",
              "}\n",
              "</style>\n",
              "<table id=\"T_0245a_\" class=\"dataframe\">\n",
              "  <thead>\n",
              "    <tr>\n",
              "      <th class=\"blank level0\" >&nbsp;</th>\n",
              "      <th class=\"col_heading level0 col0\" >PRECIO</th>\n",
              "      <th class=\"col_heading level0 col1\" >Tiempo_Viaje</th>\n",
              "      <th class=\"col_heading level0 col2\" >Dif_Ini_Bus</th>\n",
              "      <th class=\"col_heading level0 col3\" >FECHA_CONSULTA_HORA</th>\n",
              "      <th class=\"col_heading level0 col4\" >FECHA_CONSULTA_DIA</th>\n",
              "      <th class=\"col_heading level0 col5\" >FECHA_INICIO_HORA</th>\n",
              "      <th class=\"col_heading level0 col6\" >FECHA_INICIO_DIA</th>\n",
              "    </tr>\n",
              "  </thead>\n",
              "  <tbody>\n",
              "    <tr>\n",
              "      <th id=\"T_0245a_level0_row0\" class=\"row_heading level0 row0\" >PRECIO</th>\n",
              "      <td id=\"T_0245a_row0_col0\" class=\"data row0 col0\" >1.000000</td>\n",
              "      <td id=\"T_0245a_row0_col1\" class=\"data row0 col1\" >-0.226487</td>\n",
              "      <td id=\"T_0245a_row0_col2\" class=\"data row0 col2\" >-0.231899</td>\n",
              "      <td id=\"T_0245a_row0_col3\" class=\"data row0 col3\" >0.003954</td>\n",
              "      <td id=\"T_0245a_row0_col4\" class=\"data row0 col4\" >-0.004402</td>\n",
              "      <td id=\"T_0245a_row0_col5\" class=\"data row0 col5\" >0.048788</td>\n",
              "      <td id=\"T_0245a_row0_col6\" class=\"data row0 col6\" >0.031322</td>\n",
              "    </tr>\n",
              "    <tr>\n",
              "      <th id=\"T_0245a_level0_row1\" class=\"row_heading level0 row1\" >Tiempo_Viaje</th>\n",
              "      <td id=\"T_0245a_row1_col0\" class=\"data row1 col0\" >-0.226487</td>\n",
              "      <td id=\"T_0245a_row1_col1\" class=\"data row1 col1\" >1.000000</td>\n",
              "      <td id=\"T_0245a_row1_col2\" class=\"data row1 col2\" >0.012626</td>\n",
              "      <td id=\"T_0245a_row1_col3\" class=\"data row1 col3\" >0.000451</td>\n",
              "      <td id=\"T_0245a_row1_col4\" class=\"data row1 col4\" >-0.006694</td>\n",
              "      <td id=\"T_0245a_row1_col5\" class=\"data row1 col5\" >-0.183882</td>\n",
              "      <td id=\"T_0245a_row1_col6\" class=\"data row1 col6\" >-0.005436</td>\n",
              "    </tr>\n",
              "    <tr>\n",
              "      <th id=\"T_0245a_level0_row2\" class=\"row_heading level0 row2\" >Dif_Ini_Bus</th>\n",
              "      <td id=\"T_0245a_row2_col0\" class=\"data row2 col0\" >-0.231899</td>\n",
              "      <td id=\"T_0245a_row2_col1\" class=\"data row2 col1\" >0.012626</td>\n",
              "      <td id=\"T_0245a_row2_col2\" class=\"data row2 col2\" >1.000000</td>\n",
              "      <td id=\"T_0245a_row2_col3\" class=\"data row2 col3\" >0.003269</td>\n",
              "      <td id=\"T_0245a_row2_col4\" class=\"data row2 col4\" >-0.000773</td>\n",
              "      <td id=\"T_0245a_row2_col5\" class=\"data row2 col5\" >0.003422</td>\n",
              "      <td id=\"T_0245a_row2_col6\" class=\"data row2 col6\" >-0.027262</td>\n",
              "    </tr>\n",
              "    <tr>\n",
              "      <th id=\"T_0245a_level0_row3\" class=\"row_heading level0 row3\" >FECHA_CONSULTA_HORA</th>\n",
              "      <td id=\"T_0245a_row3_col0\" class=\"data row3 col0\" >0.003954</td>\n",
              "      <td id=\"T_0245a_row3_col1\" class=\"data row3 col1\" >0.000451</td>\n",
              "      <td id=\"T_0245a_row3_col2\" class=\"data row3 col2\" >0.003269</td>\n",
              "      <td id=\"T_0245a_row3_col3\" class=\"data row3 col3\" >1.000000</td>\n",
              "      <td id=\"T_0245a_row3_col4\" class=\"data row3 col4\" >-0.006020</td>\n",
              "      <td id=\"T_0245a_row3_col5\" class=\"data row3 col5\" >-0.000802</td>\n",
              "      <td id=\"T_0245a_row3_col6\" class=\"data row3 col6\" >-0.004163</td>\n",
              "    </tr>\n",
              "    <tr>\n",
              "      <th id=\"T_0245a_level0_row4\" class=\"row_heading level0 row4\" >FECHA_CONSULTA_DIA</th>\n",
              "      <td id=\"T_0245a_row4_col0\" class=\"data row4 col0\" >-0.004402</td>\n",
              "      <td id=\"T_0245a_row4_col1\" class=\"data row4 col1\" >-0.006694</td>\n",
              "      <td id=\"T_0245a_row4_col2\" class=\"data row4 col2\" >-0.000773</td>\n",
              "      <td id=\"T_0245a_row4_col3\" class=\"data row4 col3\" >-0.006020</td>\n",
              "      <td id=\"T_0245a_row4_col4\" class=\"data row4 col4\" >1.000000</td>\n",
              "      <td id=\"T_0245a_row4_col5\" class=\"data row4 col5\" >-0.000831</td>\n",
              "      <td id=\"T_0245a_row4_col6\" class=\"data row4 col6\" >-0.002256</td>\n",
              "    </tr>\n",
              "    <tr>\n",
              "      <th id=\"T_0245a_level0_row5\" class=\"row_heading level0 row5\" >FECHA_INICIO_HORA</th>\n",
              "      <td id=\"T_0245a_row5_col0\" class=\"data row5 col0\" >0.048788</td>\n",
              "      <td id=\"T_0245a_row5_col1\" class=\"data row5 col1\" >-0.183882</td>\n",
              "      <td id=\"T_0245a_row5_col2\" class=\"data row5 col2\" >0.003422</td>\n",
              "      <td id=\"T_0245a_row5_col3\" class=\"data row5 col3\" >-0.000802</td>\n",
              "      <td id=\"T_0245a_row5_col4\" class=\"data row5 col4\" >-0.000831</td>\n",
              "      <td id=\"T_0245a_row5_col5\" class=\"data row5 col5\" >1.000000</td>\n",
              "      <td id=\"T_0245a_row5_col6\" class=\"data row5 col6\" >0.003281</td>\n",
              "    </tr>\n",
              "    <tr>\n",
              "      <th id=\"T_0245a_level0_row6\" class=\"row_heading level0 row6\" >FECHA_INICIO_DIA</th>\n",
              "      <td id=\"T_0245a_row6_col0\" class=\"data row6 col0\" >0.031322</td>\n",
              "      <td id=\"T_0245a_row6_col1\" class=\"data row6 col1\" >-0.005436</td>\n",
              "      <td id=\"T_0245a_row6_col2\" class=\"data row6 col2\" >-0.027262</td>\n",
              "      <td id=\"T_0245a_row6_col3\" class=\"data row6 col3\" >-0.004163</td>\n",
              "      <td id=\"T_0245a_row6_col4\" class=\"data row6 col4\" >-0.002256</td>\n",
              "      <td id=\"T_0245a_row6_col5\" class=\"data row6 col5\" >0.003281</td>\n",
              "      <td id=\"T_0245a_row6_col6\" class=\"data row6 col6\" >1.000000</td>\n",
              "    </tr>\n",
              "  </tbody>\n",
              "</table>\n"
            ]
          },
          "metadata": {},
          "execution_count": 23
        }
      ]
    },
    {
      "cell_type": "code",
      "metadata": {
        "id": "DuoZsHqKndy1"
      },
      "source": [
        "#PREGUNTA 2"
      ],
      "execution_count": null,
      "outputs": []
    },
    {
      "cell_type": "code",
      "metadata": {
        "id": "2wzpRzTxndy2",
        "colab": {
          "base_uri": "https://localhost:8080/",
          "height": 283
        },
        "outputId": "c2a02a16-e642-426f-a43d-b66c50d63ff4"
      },
      "source": [
        "df.PRECIO.hist()\n",
        "\n",
        "## VEMOS UNA DISTRIBUCIÓN CASI NORMAL PERO HACEMOS LOGPRECIO PARA QUE QUEDE \"CLEAN\""
      ],
      "execution_count": 16,
      "outputs": [
        {
          "output_type": "execute_result",
          "data": {
            "text/plain": [
              "<matplotlib.axes._subplots.AxesSubplot at 0x7f1aa1addd50>"
            ]
          },
          "metadata": {},
          "execution_count": 16
        },
        {
          "output_type": "display_data",
          "data": {
            "text/plain": [
              "<Figure size 432x288 with 1 Axes>"
            ],
            "image/png": "[encoded data removed]"
          },
          "metadata": {
            "needs_background": "light"
          }
        }
      ]
    },
    {
      "cell_type": "code",
      "source": [
        "df[\"LOG_PRECIO\"]=np.log10(df[\"PRECIO\"])"
      ],
      "metadata": {
        "id": "1qhSB9pbGKFJ"
      },
      "execution_count": 24,
      "outputs": []
    },
    {
      "cell_type": "code",
      "source": [
        "df.LOG_PRECIO.hist()"
      ],
      "metadata": {
        "colab": {
          "base_uri": "https://localhost:8080/",
          "height": 283
        },
        "id": "phiQWuBhGdh0",
        "outputId": "faeee351-30c5-4849-ed0b-fa9dd5d2c4c7"
      },
      "execution_count": 25,
      "outputs": [
        {
          "output_type": "execute_result",
          "data": {
            "text/plain": [
              "<matplotlib.axes._subplots.AxesSubplot at 0x7f1a9d293e50>"
            ]
          },
          "metadata": {},
          "execution_count": 25
        },
        {
          "output_type": "display_data",
          "data": {
            "text/plain": [
              "<Figure size 432x288 with 1 Axes>"
            ],
            "image/png": "[encoded data removed]"
          },
          "metadata": {
            "needs_background": "light"
          }
        }
      ]
    },
    {
      "cell_type": "code",
      "metadata": {
        "id": "FpyoQJpdndy2"
      },
      "source": [
        "#PREGUNTA 3"
      ],
      "execution_count": null,
      "outputs": []
    },
    {
      "cell_type": "code",
      "source": [
        "sns.violinplot(x=\"FECHA_INICIO_NOMBREDIA\",y=\"PRECIO\", data=df, palette=\"magma\")"
      ],
      "metadata": {
        "id": "SbniXQDhrckn",
        "colab": {
          "base_uri": "https://localhost:8080/",
          "height": 298
        },
        "outputId": "2ee2b754-628e-4736-c694-b90f10227e3f"
      },
      "execution_count": 31,
      "outputs": [
        {
          "output_type": "execute_result",
          "data": {
            "text/plain": [
              "<matplotlib.axes._subplots.AxesSubplot at 0x7f1a9a576d90>"
            ]
          },
          "metadata": {},
          "execution_count": 31
        },
        {
          "output_type": "display_data",
          "data": {
            "text/plain": [
              "<Figure size 432x288 with 1 Axes>"
            ],
            "image/png": "[encoded data removed]"
          },
          "metadata": {
            "needs_background": "light"
          }
        }
      ]
    },
    {
      "cell_type": "code",
      "source": [
        "#PREGUNTA 4"
      ],
      "metadata": {
        "id": "ogfc6X1pkIBV"
      },
      "execution_count": null,
      "outputs": []
    },
    {
      "cell_type": "code",
      "source": [
        "sns.scatterplot(x=\"Tiempo_Viaje\",y=\"PRECIO\", data=df)"
      ],
      "metadata": {
        "id": "Wl8z1RR-kH0K",
        "colab": {
          "base_uri": "https://localhost:8080/",
          "height": 298
        },
        "outputId": "3c470dbc-4717-4104-a1ff-eacd34c952f7"
      },
      "execution_count": 34,
      "outputs": [
        {
          "output_type": "execute_result",
          "data": {
            "text/plain": [
              "<matplotlib.axes._subplots.AxesSubplot at 0x7f1a99c23890>"
            ]
          },
          "metadata": {},
          "execution_count": 34
        },
        {
          "output_type": "display_data",
          "data": {
            "text/plain": [
              "<Figure size 432x288 with 1 Axes>"
            ],
            "image/png": "[encoded data removed]"
          },
          "metadata": {
            "needs_background": "light"
          }
        }
      ]
    },
    {
      "cell_type": "code",
      "source": [
        "#PREGUNTA 5"
      ],
      "metadata": {
        "id": "6M7vRI_9kHoI"
      },
      "execution_count": null,
      "outputs": []
    },
    {
      "cell_type": "code",
      "source": [
        "df.info()"
      ],
      "metadata": {
        "id": "YOsJXQjCkHUB",
        "colab": {
          "base_uri": "https://localhost:8080/"
        },
        "outputId": "57335551-9e48-4b3a-c9a4-56db41c98933"
      },
      "execution_count": 36,
      "outputs": [
        {
          "output_type": "stream",
          "name": "stdout",
          "text": [
            "<class 'pandas.core.frame.DataFrame'>\n",
            "Int64Index: 381551 entries, 113 to 383550\n",
            "Data columns (total 16 columns):\n",
            " #   Column                    Non-Null Count   Dtype  \n",
            "---  ------                    --------------   -----  \n",
            " 0   CIUDAD_ORIGEN             381551 non-null  object \n",
            " 1   CIUDAD_DESTINO            381551 non-null  object \n",
            " 2   TIPO_TREN                 381551 non-null  object \n",
            " 3   TIPO_TARIFA               381551 non-null  object \n",
            " 4   CLASE                     381551 non-null  object \n",
            " 5   PRECIO                    381551 non-null  float64\n",
            " 6   Tiempo_Viaje              381551 non-null  float64\n",
            " 7   Dif_Ini_Bus               381551 non-null  float64\n",
            " 8   FECHA_CONSULTA_HORA       381551 non-null  int64  \n",
            " 9   FECHA_CONSULTA_NOMBREDIA  381551 non-null  object \n",
            " 10  FECHA_CONSULTA_DIA        381551 non-null  int64  \n",
            " 11  FECHA_INICIO_HORA         381551 non-null  int64  \n",
            " 12  FECHA_INICIO_NOMBREDIA    381551 non-null  object \n",
            " 13  FECHA_INICIO_DIA          381551 non-null  int64  \n",
            " 14  FECHA_FIN_NOMBREDIA       381551 non-null  object \n",
            " 15  LOG_PRECIO                381551 non-null  float64\n",
            "dtypes: float64(4), int64(4), object(8)\n",
            "memory usage: 57.5+ MB\n"
          ]
        }
      ]
    },
    {
      "cell_type": "code",
      "source": [
        "del df[\"FECHA_CONSULTA_HORA\"]\n",
        "del df[\"FECHA_CONSULTA_NOMBREDIA\"]\n",
        "del df[\"FECHA_CONSULTA_DIA\"]\n",
        "del df[\"FECHA_FIN_NOMBREDIA\"] #ESTE LO ELIMINAMOS PORQUE EXPLICA LO MISMO\n",
        "\n",
        "## ELIMINAMOS TODAS LAS FECHAS CONSULTA PORQUE YA ESTAN EXPLICADAS EN EL DIF INI\n",
        "# BUS Y ADEMÁS NO TIENEN VALORES DURANTE TODOS LOS MESES DEL AÑO\n",
        "\n",
        "\n"
      ],
      "metadata": {
        "id": "k-_jTN8oI-tu"
      },
      "execution_count": 37,
      "outputs": []
    },
    {
      "cell_type": "code",
      "source": [
        "df_1 = df.copy()"
      ],
      "metadata": {
        "id": "lCvWg4V2KbOz"
      },
      "execution_count": 38,
      "outputs": []
    },
    {
      "cell_type": "code",
      "metadata": {
        "id": "pnbQfMXNndy2"
      },
      "source": [
        "#PREGUNTA 6"
      ],
      "execution_count": null,
      "outputs": []
    },
    {
      "cell_type": "code",
      "metadata": {
        "id": "WeLxjP0Ondy3"
      },
      "source": [],
      "execution_count": null,
      "outputs": []
    },
    {
      "cell_type": "code",
      "metadata": {
        "id": "I0dMoZH9uY90"
      },
      "source": [
        "#PREGUNTA 7"
      ],
      "execution_count": null,
      "outputs": []
    },
    {
      "cell_type": "code",
      "metadata": {
        "id": "ZtFggwlZndy3"
      },
      "source": [],
      "execution_count": null,
      "outputs": []
    }
  ]
}